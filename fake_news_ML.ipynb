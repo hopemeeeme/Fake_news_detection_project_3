{
  "nbformat": 4,
  "nbformat_minor": 0,
  "metadata": {
    "kernelspec": {
      "display_name": "Python 3",
      "language": "python",
      "name": "python3"
    },
    "language_info": {
      "codemirror_mode": {
        "name": "ipython",
        "version": 3
      },
      "file_extension": ".py",
      "mimetype": "text/x-python",
      "name": "python",
      "nbconvert_exporter": "python",
      "pygments_lexer": "ipython3",
      "version": "3.7.4"
    },
    "colab": {
      "name": "fake_news_ML.ipynb",
      "provenance": [],
      "collapsed_sections": []
    }
  },
  "cells": [
    {
      "cell_type": "code",
      "metadata": {
        "id": "b8oTFLmvbrVg",
        "colab_type": "code",
        "colab": {
          "base_uri": "https://localhost:8080/",
          "height": 420
        },
        "outputId": "40d644e9-8a85-47d5-b673-151d59260b43"
      },
      "source": [
        "# Install Java, Spark, and Findspark\n",
        "!apt-get update\n",
        "!apt-get install openjdk-8-jdk-headless -qq > /dev/null\n",
        "!wget -q https://downloads.apache.org/spark/spark-3.0.0/spark-3.0.0-bin-hadoop2.7.tgz\n",
        "!tar xf spark-3.0.0-bin-hadoop2.7.tgz\n",
        "!pip install -q findspark\n",
        "\n",
        "# Set Environment Variables\n",
        "import os\n",
        "os.environ[\"JAVA_HOME\"] = \"/usr/lib/jvm/java-8-openjdk-amd64\"\n",
        "os.environ[\"SPARK_HOME\"] = \"/content/spark-3.0.0-bin-hadoop2.7\"\n",
        "\n",
        "# Start a SparkSession\n",
        "import findspark\n",
        "findspark.init()"
      ],
      "execution_count": 4,
      "outputs": [
        {
          "output_type": "stream",
          "text": [
            "\r0% [Working]\r            \rIgn:1 https://developer.download.nvidia.com/compute/cuda/repos/ubuntu1804/x86_64  InRelease\n",
            "\r0% [Connecting to archive.ubuntu.com (91.189.88.142)] [Waiting for headers] [Co\r                                                                               \rGet:2 https://cloud.r-project.org/bin/linux/ubuntu bionic-cran35/ InRelease [3,626 B]\n",
            "\r0% [Connecting to archive.ubuntu.com (91.189.88.142)] [Waiting for headers] [2 \r0% [Connecting to archive.ubuntu.com (91.189.88.142)] [Waiting for headers] [Wa\r                                                                               \rGet:3 http://security.ubuntu.com/ubuntu bionic-security InRelease [88.7 kB]\n",
            "\r                                                                               \rHit:4 http://ppa.launchpad.net/graphics-drivers/ppa/ubuntu bionic InRelease\n",
            "\r0% [Waiting for headers] [3 InRelease 14.2 kB/88.7 kB 16%] [Waiting for headers\r0% [2 InRelease gpgv 3,626 B] [Waiting for headers] [3 InRelease 14.2 kB/88.7 k\r                                                                               \rIgn:5 https://developer.download.nvidia.com/compute/machine-learning/repos/ubuntu1804/x86_64  InRelease\n",
            "\r0% [2 InRelease gpgv 3,626 B] [Waiting for headers] [3 InRelease 14.2 kB/88.7 k\r                                                                               \rGet:6 https://developer.download.nvidia.com/compute/cuda/repos/ubuntu1804/x86_64  Release [697 B]\n",
            "\r0% [2 InRelease gpgv 3,626 B] [Waiting for headers] [3 InRelease 14.2 kB/88.7 k\r0% [2 InRelease gpgv 3,626 B] [Waiting for headers] [3 InRelease 14.2 kB/88.7 k\r                                                                               \rHit:7 https://developer.download.nvidia.com/compute/machine-learning/repos/ubuntu1804/x86_64  Release\n",
            "\r0% [2 InRelease gpgv 3,626 B] [Waiting for headers] [3 InRelease 14.2 kB/88.7 k\r                                                                               \rGet:8 https://developer.download.nvidia.com/compute/cuda/repos/ubuntu1804/x86_64  Release.gpg [836 B]\n",
            "\r0% [2 InRelease gpgv 3,626 B] [Waiting for headers] [3 InRelease 14.2 kB/88.7 k\r                                                                               \rHit:9 http://archive.ubuntu.com/ubuntu bionic InRelease\n",
            "Get:10 http://ppa.launchpad.net/marutter/c2d4u3.5/ubuntu bionic InRelease [15.4 kB]\n",
            "Get:11 http://archive.ubuntu.com/ubuntu bionic-updates InRelease [88.7 kB]\n",
            "Get:12 http://archive.ubuntu.com/ubuntu bionic-backports InRelease [74.6 kB]\n",
            "Ign:14 https://developer.download.nvidia.com/compute/cuda/repos/ubuntu1804/x86_64  Packages\n",
            "Get:14 https://developer.download.nvidia.com/compute/cuda/repos/ubuntu1804/x86_64  Packages [255 kB]\n",
            "Get:15 http://ppa.launchpad.net/marutter/c2d4u3.5/ubuntu bionic/main Sources [1,855 kB]\n",
            "Get:16 http://security.ubuntu.com/ubuntu bionic-security/main amd64 Packages [1,037 kB]\n",
            "Get:17 http://archive.ubuntu.com/ubuntu bionic-updates/multiverse amd64 Packages [27.1 kB]\n",
            "Get:18 http://archive.ubuntu.com/ubuntu bionic-updates/restricted amd64 Packages [116 kB]\n",
            "Get:19 http://archive.ubuntu.com/ubuntu bionic-updates/main amd64 Packages [1,334 kB]\n",
            "Get:20 http://security.ubuntu.com/ubuntu bionic-security/universe amd64 Packages [882 kB]\n",
            "Get:21 http://archive.ubuntu.com/ubuntu bionic-updates/universe amd64 Packages [1,413 kB]\n",
            "Get:22 http://ppa.launchpad.net/marutter/c2d4u3.5/ubuntu bionic/main amd64 Packages [895 kB]\n",
            "Fetched 8,087 kB in 3s (2,695 kB/s)\n",
            "Reading package lists... Done\n"
          ],
          "name": "stdout"
        }
      ]
    },
    {
      "cell_type": "code",
      "metadata": {
        "id": "SESrxrYVbX1d",
        "colab_type": "code",
        "colab": {}
      },
      "source": [
        "import pandas as pd\n",
        "import string\n",
        "import re\n",
        "import numpy as np\n",
        "import matplotlib.pyplot as plt\n",
        "import nltk"
      ],
      "execution_count": 5,
      "outputs": []
    },
    {
      "cell_type": "code",
      "metadata": {
        "id": "Sue9f6CsbX1h",
        "colab_type": "code",
        "colab": {}
      },
      "source": [
        "df1 = pd.read_csv(\"Fake.csv\")\n",
        "df2 = pd.read_csv(\"True.csv\")"
      ],
      "execution_count": 7,
      "outputs": []
    },
    {
      "cell_type": "code",
      "metadata": {
        "id": "LdlEpKOBbX1j",
        "colab_type": "code",
        "colab": {
          "base_uri": "https://localhost:8080/",
          "height": 195
        },
        "outputId": "73e614ed-2bb1-40bc-9031-0ebef7a9409e"
      },
      "source": [
        "df1.head()"
      ],
      "execution_count": 8,
      "outputs": [
        {
          "output_type": "execute_result",
          "data": {
            "text/html": [
              "<div>\n",
              "<style scoped>\n",
              "    .dataframe tbody tr th:only-of-type {\n",
              "        vertical-align: middle;\n",
              "    }\n",
              "\n",
              "    .dataframe tbody tr th {\n",
              "        vertical-align: top;\n",
              "    }\n",
              "\n",
              "    .dataframe thead th {\n",
              "        text-align: right;\n",
              "    }\n",
              "</style>\n",
              "<table border=\"1\" class=\"dataframe\">\n",
              "  <thead>\n",
              "    <tr style=\"text-align: right;\">\n",
              "      <th></th>\n",
              "      <th>title</th>\n",
              "      <th>text</th>\n",
              "      <th>subject</th>\n",
              "      <th>date</th>\n",
              "    </tr>\n",
              "  </thead>\n",
              "  <tbody>\n",
              "    <tr>\n",
              "      <th>0</th>\n",
              "      <td>Donald Trump Sends Out Embarrassing New Year’...</td>\n",
              "      <td>Donald Trump just couldn t wish all Americans ...</td>\n",
              "      <td>News</td>\n",
              "      <td>December 31, 2017</td>\n",
              "    </tr>\n",
              "    <tr>\n",
              "      <th>1</th>\n",
              "      <td>Drunk Bragging Trump Staffer Started Russian ...</td>\n",
              "      <td>House Intelligence Committee Chairman Devin Nu...</td>\n",
              "      <td>News</td>\n",
              "      <td>December 31, 2017</td>\n",
              "    </tr>\n",
              "    <tr>\n",
              "      <th>2</th>\n",
              "      <td>Sheriff David Clarke Becomes An Internet Joke...</td>\n",
              "      <td>On Friday, it was revealed that former Milwauk...</td>\n",
              "      <td>News</td>\n",
              "      <td>December 30, 2017</td>\n",
              "    </tr>\n",
              "    <tr>\n",
              "      <th>3</th>\n",
              "      <td>Trump Is So Obsessed He Even Has Obama’s Name...</td>\n",
              "      <td>On Christmas day, Donald Trump announced that ...</td>\n",
              "      <td>News</td>\n",
              "      <td>December 29, 2017</td>\n",
              "    </tr>\n",
              "    <tr>\n",
              "      <th>4</th>\n",
              "      <td>Pope Francis Just Called Out Donald Trump Dur...</td>\n",
              "      <td>Pope Francis used his annual Christmas Day mes...</td>\n",
              "      <td>News</td>\n",
              "      <td>December 25, 2017</td>\n",
              "    </tr>\n",
              "  </tbody>\n",
              "</table>\n",
              "</div>"
            ],
            "text/plain": [
              "                                               title  ...               date\n",
              "0   Donald Trump Sends Out Embarrassing New Year’...  ...  December 31, 2017\n",
              "1   Drunk Bragging Trump Staffer Started Russian ...  ...  December 31, 2017\n",
              "2   Sheriff David Clarke Becomes An Internet Joke...  ...  December 30, 2017\n",
              "3   Trump Is So Obsessed He Even Has Obama’s Name...  ...  December 29, 2017\n",
              "4   Pope Francis Just Called Out Donald Trump Dur...  ...  December 25, 2017\n",
              "\n",
              "[5 rows x 4 columns]"
            ]
          },
          "metadata": {
            "tags": []
          },
          "execution_count": 8
        }
      ]
    },
    {
      "cell_type": "code",
      "metadata": {
        "id": "Ifn2ekfIbX1m",
        "colab_type": "code",
        "colab": {
          "base_uri": "https://localhost:8080/",
          "height": 195
        },
        "outputId": "57cec56d-0299-4fe8-f8bc-05edd5eb47b0"
      },
      "source": [
        "df2.head()"
      ],
      "execution_count": 9,
      "outputs": [
        {
          "output_type": "execute_result",
          "data": {
            "text/html": [
              "<div>\n",
              "<style scoped>\n",
              "    .dataframe tbody tr th:only-of-type {\n",
              "        vertical-align: middle;\n",
              "    }\n",
              "\n",
              "    .dataframe tbody tr th {\n",
              "        vertical-align: top;\n",
              "    }\n",
              "\n",
              "    .dataframe thead th {\n",
              "        text-align: right;\n",
              "    }\n",
              "</style>\n",
              "<table border=\"1\" class=\"dataframe\">\n",
              "  <thead>\n",
              "    <tr style=\"text-align: right;\">\n",
              "      <th></th>\n",
              "      <th>title</th>\n",
              "      <th>text</th>\n",
              "      <th>subject</th>\n",
              "      <th>date</th>\n",
              "    </tr>\n",
              "  </thead>\n",
              "  <tbody>\n",
              "    <tr>\n",
              "      <th>0</th>\n",
              "      <td>As U.S. budget fight looms, Republicans flip t...</td>\n",
              "      <td>WASHINGTON (Reuters) - The head of a conservat...</td>\n",
              "      <td>politicsNews</td>\n",
              "      <td>December 31, 2017</td>\n",
              "    </tr>\n",
              "    <tr>\n",
              "      <th>1</th>\n",
              "      <td>U.S. military to accept transgender recruits o...</td>\n",
              "      <td>WASHINGTON (Reuters) - Transgender people will...</td>\n",
              "      <td>politicsNews</td>\n",
              "      <td>December 29, 2017</td>\n",
              "    </tr>\n",
              "    <tr>\n",
              "      <th>2</th>\n",
              "      <td>Senior U.S. Republican senator: 'Let Mr. Muell...</td>\n",
              "      <td>WASHINGTON (Reuters) - The special counsel inv...</td>\n",
              "      <td>politicsNews</td>\n",
              "      <td>December 31, 2017</td>\n",
              "    </tr>\n",
              "    <tr>\n",
              "      <th>3</th>\n",
              "      <td>FBI Russia probe helped by Australian diplomat...</td>\n",
              "      <td>WASHINGTON (Reuters) - Trump campaign adviser ...</td>\n",
              "      <td>politicsNews</td>\n",
              "      <td>December 30, 2017</td>\n",
              "    </tr>\n",
              "    <tr>\n",
              "      <th>4</th>\n",
              "      <td>Trump wants Postal Service to charge 'much mor...</td>\n",
              "      <td>SEATTLE/WASHINGTON (Reuters) - President Donal...</td>\n",
              "      <td>politicsNews</td>\n",
              "      <td>December 29, 2017</td>\n",
              "    </tr>\n",
              "  </tbody>\n",
              "</table>\n",
              "</div>"
            ],
            "text/plain": [
              "                                               title  ...                date\n",
              "0  As U.S. budget fight looms, Republicans flip t...  ...  December 31, 2017 \n",
              "1  U.S. military to accept transgender recruits o...  ...  December 29, 2017 \n",
              "2  Senior U.S. Republican senator: 'Let Mr. Muell...  ...  December 31, 2017 \n",
              "3  FBI Russia probe helped by Australian diplomat...  ...  December 30, 2017 \n",
              "4  Trump wants Postal Service to charge 'much mor...  ...  December 29, 2017 \n",
              "\n",
              "[5 rows x 4 columns]"
            ]
          },
          "metadata": {
            "tags": []
          },
          "execution_count": 9
        }
      ]
    },
    {
      "cell_type": "code",
      "metadata": {
        "id": "5YDPlGn2bX1p",
        "colab_type": "code",
        "colab": {}
      },
      "source": [
        "df1['class'] = \"fake\"\n",
        "df2['class'] = \"true\""
      ],
      "execution_count": 10,
      "outputs": []
    },
    {
      "cell_type": "code",
      "metadata": {
        "id": "qF6-rAm1bX1r",
        "colab_type": "code",
        "colab": {
          "base_uri": "https://localhost:8080/",
          "height": 195
        },
        "outputId": "b6665563-2b8b-4ae2-90e8-fd23a32c8770"
      },
      "source": [
        "combine_df = pd.concat([df1,df2])\n",
        "combine_df.head()"
      ],
      "execution_count": 11,
      "outputs": [
        {
          "output_type": "execute_result",
          "data": {
            "text/html": [
              "<div>\n",
              "<style scoped>\n",
              "    .dataframe tbody tr th:only-of-type {\n",
              "        vertical-align: middle;\n",
              "    }\n",
              "\n",
              "    .dataframe tbody tr th {\n",
              "        vertical-align: top;\n",
              "    }\n",
              "\n",
              "    .dataframe thead th {\n",
              "        text-align: right;\n",
              "    }\n",
              "</style>\n",
              "<table border=\"1\" class=\"dataframe\">\n",
              "  <thead>\n",
              "    <tr style=\"text-align: right;\">\n",
              "      <th></th>\n",
              "      <th>title</th>\n",
              "      <th>text</th>\n",
              "      <th>subject</th>\n",
              "      <th>date</th>\n",
              "      <th>class</th>\n",
              "    </tr>\n",
              "  </thead>\n",
              "  <tbody>\n",
              "    <tr>\n",
              "      <th>0</th>\n",
              "      <td>Donald Trump Sends Out Embarrassing New Year’...</td>\n",
              "      <td>Donald Trump just couldn t wish all Americans ...</td>\n",
              "      <td>News</td>\n",
              "      <td>December 31, 2017</td>\n",
              "      <td>fake</td>\n",
              "    </tr>\n",
              "    <tr>\n",
              "      <th>1</th>\n",
              "      <td>Drunk Bragging Trump Staffer Started Russian ...</td>\n",
              "      <td>House Intelligence Committee Chairman Devin Nu...</td>\n",
              "      <td>News</td>\n",
              "      <td>December 31, 2017</td>\n",
              "      <td>fake</td>\n",
              "    </tr>\n",
              "    <tr>\n",
              "      <th>2</th>\n",
              "      <td>Sheriff David Clarke Becomes An Internet Joke...</td>\n",
              "      <td>On Friday, it was revealed that former Milwauk...</td>\n",
              "      <td>News</td>\n",
              "      <td>December 30, 2017</td>\n",
              "      <td>fake</td>\n",
              "    </tr>\n",
              "    <tr>\n",
              "      <th>3</th>\n",
              "      <td>Trump Is So Obsessed He Even Has Obama’s Name...</td>\n",
              "      <td>On Christmas day, Donald Trump announced that ...</td>\n",
              "      <td>News</td>\n",
              "      <td>December 29, 2017</td>\n",
              "      <td>fake</td>\n",
              "    </tr>\n",
              "    <tr>\n",
              "      <th>4</th>\n",
              "      <td>Pope Francis Just Called Out Donald Trump Dur...</td>\n",
              "      <td>Pope Francis used his annual Christmas Day mes...</td>\n",
              "      <td>News</td>\n",
              "      <td>December 25, 2017</td>\n",
              "      <td>fake</td>\n",
              "    </tr>\n",
              "  </tbody>\n",
              "</table>\n",
              "</div>"
            ],
            "text/plain": [
              "                                               title  ... class\n",
              "0   Donald Trump Sends Out Embarrassing New Year’...  ...  fake\n",
              "1   Drunk Bragging Trump Staffer Started Russian ...  ...  fake\n",
              "2   Sheriff David Clarke Becomes An Internet Joke...  ...  fake\n",
              "3   Trump Is So Obsessed He Even Has Obama’s Name...  ...  fake\n",
              "4   Pope Francis Just Called Out Donald Trump Dur...  ...  fake\n",
              "\n",
              "[5 rows x 5 columns]"
            ]
          },
          "metadata": {
            "tags": []
          },
          "execution_count": 11
        }
      ]
    },
    {
      "cell_type": "code",
      "metadata": {
        "id": "31_UFiV7bX1u",
        "colab_type": "code",
        "colab": {}
      },
      "source": [
        "# from glob import glob\n",
        "# pop_files = sorted(glob(\"data/*.csv\"))\n",
        "# pop_files"
      ],
      "execution_count": 12,
      "outputs": []
    },
    {
      "cell_type": "code",
      "metadata": {
        "id": "v9idmNYDbX1x",
        "colab_type": "code",
        "colab": {},
        "outputId": "00045e31-8627-471a-e602-b48a7dd9a92e"
      },
      "source": [
        "# combine_df = pd.concat((pd.read_csv(file).assign(label=file) \n",
        "#                        for file in pop_files),ignore_index=True)\n",
        "# combine_df = combine_df.replace(\"data/Fake.csv\",\"fake\")\n",
        "# combine_df = combine_df.replace(\"data/True.csv\",\"true\")\n",
        "# combine_df.head()"
      ],
      "execution_count": null,
      "outputs": [
        {
          "output_type": "execute_result",
          "data": {
            "text/html": [
              "<div>\n",
              "<style scoped>\n",
              "    .dataframe tbody tr th:only-of-type {\n",
              "        vertical-align: middle;\n",
              "    }\n",
              "\n",
              "    .dataframe tbody tr th {\n",
              "        vertical-align: top;\n",
              "    }\n",
              "\n",
              "    .dataframe thead th {\n",
              "        text-align: right;\n",
              "    }\n",
              "</style>\n",
              "<table border=\"1\" class=\"dataframe\">\n",
              "  <thead>\n",
              "    <tr style=\"text-align: right;\">\n",
              "      <th></th>\n",
              "      <th>title</th>\n",
              "      <th>text</th>\n",
              "      <th>subject</th>\n",
              "      <th>date</th>\n",
              "      <th>label</th>\n",
              "    </tr>\n",
              "  </thead>\n",
              "  <tbody>\n",
              "    <tr>\n",
              "      <td>0</td>\n",
              "      <td>Donald Trump Sends Out Embarrassing New Year’...</td>\n",
              "      <td>Donald Trump just couldn t wish all Americans ...</td>\n",
              "      <td>News</td>\n",
              "      <td>December 31, 2017</td>\n",
              "      <td>fake</td>\n",
              "    </tr>\n",
              "    <tr>\n",
              "      <td>1</td>\n",
              "      <td>Drunk Bragging Trump Staffer Started Russian ...</td>\n",
              "      <td>House Intelligence Committee Chairman Devin Nu...</td>\n",
              "      <td>News</td>\n",
              "      <td>December 31, 2017</td>\n",
              "      <td>fake</td>\n",
              "    </tr>\n",
              "    <tr>\n",
              "      <td>2</td>\n",
              "      <td>Sheriff David Clarke Becomes An Internet Joke...</td>\n",
              "      <td>On Friday, it was revealed that former Milwauk...</td>\n",
              "      <td>News</td>\n",
              "      <td>December 30, 2017</td>\n",
              "      <td>fake</td>\n",
              "    </tr>\n",
              "    <tr>\n",
              "      <td>3</td>\n",
              "      <td>Trump Is So Obsessed He Even Has Obama’s Name...</td>\n",
              "      <td>On Christmas day, Donald Trump announced that ...</td>\n",
              "      <td>News</td>\n",
              "      <td>December 29, 2017</td>\n",
              "      <td>fake</td>\n",
              "    </tr>\n",
              "    <tr>\n",
              "      <td>4</td>\n",
              "      <td>Pope Francis Just Called Out Donald Trump Dur...</td>\n",
              "      <td>Pope Francis used his annual Christmas Day mes...</td>\n",
              "      <td>News</td>\n",
              "      <td>December 25, 2017</td>\n",
              "      <td>fake</td>\n",
              "    </tr>\n",
              "  </tbody>\n",
              "</table>\n",
              "</div>"
            ],
            "text/plain": [
              "                                               title  \\\n",
              "0   Donald Trump Sends Out Embarrassing New Year’...   \n",
              "1   Drunk Bragging Trump Staffer Started Russian ...   \n",
              "2   Sheriff David Clarke Becomes An Internet Joke...   \n",
              "3   Trump Is So Obsessed He Even Has Obama’s Name...   \n",
              "4   Pope Francis Just Called Out Donald Trump Dur...   \n",
              "\n",
              "                                                text subject  \\\n",
              "0  Donald Trump just couldn t wish all Americans ...    News   \n",
              "1  House Intelligence Committee Chairman Devin Nu...    News   \n",
              "2  On Friday, it was revealed that former Milwauk...    News   \n",
              "3  On Christmas day, Donald Trump announced that ...    News   \n",
              "4  Pope Francis used his annual Christmas Day mes...    News   \n",
              "\n",
              "                date label  \n",
              "0  December 31, 2017  fake  \n",
              "1  December 31, 2017  fake  \n",
              "2  December 30, 2017  fake  \n",
              "3  December 29, 2017  fake  \n",
              "4  December 25, 2017  fake  "
            ]
          },
          "metadata": {
            "tags": []
          },
          "execution_count": 7
        }
      ]
    },
    {
      "cell_type": "markdown",
      "metadata": {
        "id": "435UTXO7bX10",
        "colab_type": "text"
      },
      "source": [
        "#  Remove punctuation"
      ]
    },
    {
      "cell_type": "code",
      "metadata": {
        "id": "FV5louoEbX10",
        "colab_type": "code",
        "colab": {},
        "outputId": "be84179c-7743-4b42-f6ad-7ebdf06f49c7"
      },
      "source": [
        "# string.punctuation"
      ],
      "execution_count": null,
      "outputs": [
        {
          "output_type": "execute_result",
          "data": {
            "text/plain": [
              "'!\"#$%&\\'()*+,-./:;<=>?@[\\\\]^_`{|}~'"
            ]
          },
          "metadata": {
            "tags": []
          },
          "execution_count": 11
        }
      ]
    },
    {
      "cell_type": "code",
      "metadata": {
        "id": "xbRVSwbXbX12",
        "colab_type": "code",
        "colab": {},
        "outputId": "fe723708-aa1a-44f9-9566-7a353a07e9e2"
      },
      "source": [
        "# def remove_punct(text):\n",
        "#     text_nopunct = \"\".join([char for char in text if char not in string.punctuation])\n",
        "#     return text_nopunct\n",
        "\n",
        "# combine_df[\"clean_text\"] = combine_df[\"text\"].apply(lambda x:remove_punct(x))\n",
        "\n",
        "# combine_df.head()"
      ],
      "execution_count": null,
      "outputs": [
        {
          "output_type": "execute_result",
          "data": {
            "text/html": [
              "<div>\n",
              "<style scoped>\n",
              "    .dataframe tbody tr th:only-of-type {\n",
              "        vertical-align: middle;\n",
              "    }\n",
              "\n",
              "    .dataframe tbody tr th {\n",
              "        vertical-align: top;\n",
              "    }\n",
              "\n",
              "    .dataframe thead th {\n",
              "        text-align: right;\n",
              "    }\n",
              "</style>\n",
              "<table border=\"1\" class=\"dataframe\">\n",
              "  <thead>\n",
              "    <tr style=\"text-align: right;\">\n",
              "      <th></th>\n",
              "      <th>title</th>\n",
              "      <th>text</th>\n",
              "      <th>subject</th>\n",
              "      <th>date</th>\n",
              "      <th>Label</th>\n",
              "      <th>clean_text</th>\n",
              "    </tr>\n",
              "  </thead>\n",
              "  <tbody>\n",
              "    <tr>\n",
              "      <td>0</td>\n",
              "      <td>Donald Trump Sends Out Embarrassing New Year’...</td>\n",
              "      <td>Donald Trump just couldn t wish all Americans ...</td>\n",
              "      <td>News</td>\n",
              "      <td>December 31, 2017</td>\n",
              "      <td>fake</td>\n",
              "      <td>Donald Trump just couldn t wish all Americans ...</td>\n",
              "    </tr>\n",
              "    <tr>\n",
              "      <td>1</td>\n",
              "      <td>Drunk Bragging Trump Staffer Started Russian ...</td>\n",
              "      <td>House Intelligence Committee Chairman Devin Nu...</td>\n",
              "      <td>News</td>\n",
              "      <td>December 31, 2017</td>\n",
              "      <td>fake</td>\n",
              "      <td>House Intelligence Committee Chairman Devin Nu...</td>\n",
              "    </tr>\n",
              "    <tr>\n",
              "      <td>2</td>\n",
              "      <td>Sheriff David Clarke Becomes An Internet Joke...</td>\n",
              "      <td>On Friday, it was revealed that former Milwauk...</td>\n",
              "      <td>News</td>\n",
              "      <td>December 30, 2017</td>\n",
              "      <td>fake</td>\n",
              "      <td>On Friday it was revealed that former Milwauke...</td>\n",
              "    </tr>\n",
              "    <tr>\n",
              "      <td>3</td>\n",
              "      <td>Trump Is So Obsessed He Even Has Obama’s Name...</td>\n",
              "      <td>On Christmas day, Donald Trump announced that ...</td>\n",
              "      <td>News</td>\n",
              "      <td>December 29, 2017</td>\n",
              "      <td>fake</td>\n",
              "      <td>On Christmas day Donald Trump announced that h...</td>\n",
              "    </tr>\n",
              "    <tr>\n",
              "      <td>4</td>\n",
              "      <td>Pope Francis Just Called Out Donald Trump Dur...</td>\n",
              "      <td>Pope Francis used his annual Christmas Day mes...</td>\n",
              "      <td>News</td>\n",
              "      <td>December 25, 2017</td>\n",
              "      <td>fake</td>\n",
              "      <td>Pope Francis used his annual Christmas Day mes...</td>\n",
              "    </tr>\n",
              "  </tbody>\n",
              "</table>\n",
              "</div>"
            ],
            "text/plain": [
              "                                               title  \\\n",
              "0   Donald Trump Sends Out Embarrassing New Year’...   \n",
              "1   Drunk Bragging Trump Staffer Started Russian ...   \n",
              "2   Sheriff David Clarke Becomes An Internet Joke...   \n",
              "3   Trump Is So Obsessed He Even Has Obama’s Name...   \n",
              "4   Pope Francis Just Called Out Donald Trump Dur...   \n",
              "\n",
              "                                                text subject  \\\n",
              "0  Donald Trump just couldn t wish all Americans ...    News   \n",
              "1  House Intelligence Committee Chairman Devin Nu...    News   \n",
              "2  On Friday, it was revealed that former Milwauk...    News   \n",
              "3  On Christmas day, Donald Trump announced that ...    News   \n",
              "4  Pope Francis used his annual Christmas Day mes...    News   \n",
              "\n",
              "                date Label                                         clean_text  \n",
              "0  December 31, 2017  fake  Donald Trump just couldn t wish all Americans ...  \n",
              "1  December 31, 2017  fake  House Intelligence Committee Chairman Devin Nu...  \n",
              "2  December 30, 2017  fake  On Friday it was revealed that former Milwauke...  \n",
              "3  December 29, 2017  fake  On Christmas day Donald Trump announced that h...  \n",
              "4  December 25, 2017  fake  Pope Francis used his annual Christmas Day mes...  "
            ]
          },
          "metadata": {
            "tags": []
          },
          "execution_count": 14
        }
      ]
    },
    {
      "cell_type": "markdown",
      "metadata": {
        "id": "NMzjeCnvbX15",
        "colab_type": "text"
      },
      "source": [
        "# Tokenization"
      ]
    },
    {
      "cell_type": "code",
      "metadata": {
        "id": "GbRQ8sXlbX15",
        "colab_type": "code",
        "colab": {
          "base_uri": "https://localhost:8080/",
          "height": 195
        },
        "outputId": "6d260091-7742-4c6e-d1fc-2214b54af316"
      },
      "source": [
        "def tokeniz(text):\n",
        "    token = re.split('\\W+', text)\n",
        "    return token\n",
        "clean_df = combine_df\n",
        "clean_df[\"token_text\"] = clean_df[\"text\"].apply(lambda x:tokeniz(x.lower()))\n",
        "\n",
        "clean_df.head()"
      ],
      "execution_count": 13,
      "outputs": [
        {
          "output_type": "execute_result",
          "data": {
            "text/html": [
              "<div>\n",
              "<style scoped>\n",
              "    .dataframe tbody tr th:only-of-type {\n",
              "        vertical-align: middle;\n",
              "    }\n",
              "\n",
              "    .dataframe tbody tr th {\n",
              "        vertical-align: top;\n",
              "    }\n",
              "\n",
              "    .dataframe thead th {\n",
              "        text-align: right;\n",
              "    }\n",
              "</style>\n",
              "<table border=\"1\" class=\"dataframe\">\n",
              "  <thead>\n",
              "    <tr style=\"text-align: right;\">\n",
              "      <th></th>\n",
              "      <th>title</th>\n",
              "      <th>text</th>\n",
              "      <th>subject</th>\n",
              "      <th>date</th>\n",
              "      <th>class</th>\n",
              "      <th>token_text</th>\n",
              "    </tr>\n",
              "  </thead>\n",
              "  <tbody>\n",
              "    <tr>\n",
              "      <th>0</th>\n",
              "      <td>Donald Trump Sends Out Embarrassing New Year’...</td>\n",
              "      <td>Donald Trump just couldn t wish all Americans ...</td>\n",
              "      <td>News</td>\n",
              "      <td>December 31, 2017</td>\n",
              "      <td>fake</td>\n",
              "      <td>[donald, trump, just, couldn, t, wish, all, am...</td>\n",
              "    </tr>\n",
              "    <tr>\n",
              "      <th>1</th>\n",
              "      <td>Drunk Bragging Trump Staffer Started Russian ...</td>\n",
              "      <td>House Intelligence Committee Chairman Devin Nu...</td>\n",
              "      <td>News</td>\n",
              "      <td>December 31, 2017</td>\n",
              "      <td>fake</td>\n",
              "      <td>[house, intelligence, committee, chairman, dev...</td>\n",
              "    </tr>\n",
              "    <tr>\n",
              "      <th>2</th>\n",
              "      <td>Sheriff David Clarke Becomes An Internet Joke...</td>\n",
              "      <td>On Friday, it was revealed that former Milwauk...</td>\n",
              "      <td>News</td>\n",
              "      <td>December 30, 2017</td>\n",
              "      <td>fake</td>\n",
              "      <td>[on, friday, it, was, revealed, that, former, ...</td>\n",
              "    </tr>\n",
              "    <tr>\n",
              "      <th>3</th>\n",
              "      <td>Trump Is So Obsessed He Even Has Obama’s Name...</td>\n",
              "      <td>On Christmas day, Donald Trump announced that ...</td>\n",
              "      <td>News</td>\n",
              "      <td>December 29, 2017</td>\n",
              "      <td>fake</td>\n",
              "      <td>[on, christmas, day, donald, trump, announced,...</td>\n",
              "    </tr>\n",
              "    <tr>\n",
              "      <th>4</th>\n",
              "      <td>Pope Francis Just Called Out Donald Trump Dur...</td>\n",
              "      <td>Pope Francis used his annual Christmas Day mes...</td>\n",
              "      <td>News</td>\n",
              "      <td>December 25, 2017</td>\n",
              "      <td>fake</td>\n",
              "      <td>[pope, francis, used, his, annual, christmas, ...</td>\n",
              "    </tr>\n",
              "  </tbody>\n",
              "</table>\n",
              "</div>"
            ],
            "text/plain": [
              "                                               title  ...                                         token_text\n",
              "0   Donald Trump Sends Out Embarrassing New Year’...  ...  [donald, trump, just, couldn, t, wish, all, am...\n",
              "1   Drunk Bragging Trump Staffer Started Russian ...  ...  [house, intelligence, committee, chairman, dev...\n",
              "2   Sheriff David Clarke Becomes An Internet Joke...  ...  [on, friday, it, was, revealed, that, former, ...\n",
              "3   Trump Is So Obsessed He Even Has Obama’s Name...  ...  [on, christmas, day, donald, trump, announced,...\n",
              "4   Pope Francis Just Called Out Donald Trump Dur...  ...  [pope, francis, used, his, annual, christmas, ...\n",
              "\n",
              "[5 rows x 6 columns]"
            ]
          },
          "metadata": {
            "tags": []
          },
          "execution_count": 13
        }
      ]
    },
    {
      "cell_type": "markdown",
      "metadata": {
        "id": "4HjCYUp6bX18",
        "colab_type": "text"
      },
      "source": [
        "# Remove stopwords"
      ]
    },
    {
      "cell_type": "code",
      "metadata": {
        "id": "gMPQBKZRbX18",
        "colab_type": "code",
        "colab": {
          "base_uri": "https://localhost:8080/",
          "height": 67
        },
        "outputId": "3bb48318-309a-4dda-9c89-185b5ad4939d"
      },
      "source": [
        "nltk.download('stopwords')"
      ],
      "execution_count": 14,
      "outputs": [
        {
          "output_type": "stream",
          "text": [
            "[nltk_data] Downloading package stopwords to /root/nltk_data...\n",
            "[nltk_data]   Unzipping corpora/stopwords.zip.\n"
          ],
          "name": "stdout"
        },
        {
          "output_type": "execute_result",
          "data": {
            "text/plain": [
              "True"
            ]
          },
          "metadata": {
            "tags": []
          },
          "execution_count": 14
        }
      ]
    },
    {
      "cell_type": "code",
      "metadata": {
        "id": "uXTrDe5zbX1-",
        "colab_type": "code",
        "colab": {}
      },
      "source": [
        "stopword = nltk.corpus.stopwords.words('english')"
      ],
      "execution_count": 15,
      "outputs": []
    },
    {
      "cell_type": "code",
      "metadata": {
        "id": "TJpFb6z4bX2A",
        "colab_type": "code",
        "colab": {
          "base_uri": "https://localhost:8080/",
          "height": 279
        },
        "outputId": "838a1978-4b34-4149-876f-35a16c2ba9d4"
      },
      "source": [
        "def remove_stopword(token):\n",
        "    text = [word for word in token if word not in stopword]\n",
        "    return text\n",
        "\n",
        "clean_df[\"nostopword_text\"] = clean_df[\"token_text\"].apply(lambda x:remove_stopword(x))\n",
        "\n",
        "clean_df.head()"
      ],
      "execution_count": 16,
      "outputs": [
        {
          "output_type": "execute_result",
          "data": {
            "text/html": [
              "<div>\n",
              "<style scoped>\n",
              "    .dataframe tbody tr th:only-of-type {\n",
              "        vertical-align: middle;\n",
              "    }\n",
              "\n",
              "    .dataframe tbody tr th {\n",
              "        vertical-align: top;\n",
              "    }\n",
              "\n",
              "    .dataframe thead th {\n",
              "        text-align: right;\n",
              "    }\n",
              "</style>\n",
              "<table border=\"1\" class=\"dataframe\">\n",
              "  <thead>\n",
              "    <tr style=\"text-align: right;\">\n",
              "      <th></th>\n",
              "      <th>title</th>\n",
              "      <th>text</th>\n",
              "      <th>subject</th>\n",
              "      <th>date</th>\n",
              "      <th>class</th>\n",
              "      <th>token_text</th>\n",
              "      <th>nostopword_text</th>\n",
              "    </tr>\n",
              "  </thead>\n",
              "  <tbody>\n",
              "    <tr>\n",
              "      <th>0</th>\n",
              "      <td>Donald Trump Sends Out Embarrassing New Year’...</td>\n",
              "      <td>Donald Trump just couldn t wish all Americans ...</td>\n",
              "      <td>News</td>\n",
              "      <td>December 31, 2017</td>\n",
              "      <td>fake</td>\n",
              "      <td>[donald, trump, just, couldn, t, wish, all, am...</td>\n",
              "      <td>[donald, trump, wish, americans, happy, new, y...</td>\n",
              "    </tr>\n",
              "    <tr>\n",
              "      <th>1</th>\n",
              "      <td>Drunk Bragging Trump Staffer Started Russian ...</td>\n",
              "      <td>House Intelligence Committee Chairman Devin Nu...</td>\n",
              "      <td>News</td>\n",
              "      <td>December 31, 2017</td>\n",
              "      <td>fake</td>\n",
              "      <td>[house, intelligence, committee, chairman, dev...</td>\n",
              "      <td>[house, intelligence, committee, chairman, dev...</td>\n",
              "    </tr>\n",
              "    <tr>\n",
              "      <th>2</th>\n",
              "      <td>Sheriff David Clarke Becomes An Internet Joke...</td>\n",
              "      <td>On Friday, it was revealed that former Milwauk...</td>\n",
              "      <td>News</td>\n",
              "      <td>December 30, 2017</td>\n",
              "      <td>fake</td>\n",
              "      <td>[on, friday, it, was, revealed, that, former, ...</td>\n",
              "      <td>[friday, revealed, former, milwaukee, sheriff,...</td>\n",
              "    </tr>\n",
              "    <tr>\n",
              "      <th>3</th>\n",
              "      <td>Trump Is So Obsessed He Even Has Obama’s Name...</td>\n",
              "      <td>On Christmas day, Donald Trump announced that ...</td>\n",
              "      <td>News</td>\n",
              "      <td>December 29, 2017</td>\n",
              "      <td>fake</td>\n",
              "      <td>[on, christmas, day, donald, trump, announced,...</td>\n",
              "      <td>[christmas, day, donald, trump, announced, wou...</td>\n",
              "    </tr>\n",
              "    <tr>\n",
              "      <th>4</th>\n",
              "      <td>Pope Francis Just Called Out Donald Trump Dur...</td>\n",
              "      <td>Pope Francis used his annual Christmas Day mes...</td>\n",
              "      <td>News</td>\n",
              "      <td>December 25, 2017</td>\n",
              "      <td>fake</td>\n",
              "      <td>[pope, francis, used, his, annual, christmas, ...</td>\n",
              "      <td>[pope, francis, used, annual, christmas, day, ...</td>\n",
              "    </tr>\n",
              "  </tbody>\n",
              "</table>\n",
              "</div>"
            ],
            "text/plain": [
              "                                               title  ...                                    nostopword_text\n",
              "0   Donald Trump Sends Out Embarrassing New Year’...  ...  [donald, trump, wish, americans, happy, new, y...\n",
              "1   Drunk Bragging Trump Staffer Started Russian ...  ...  [house, intelligence, committee, chairman, dev...\n",
              "2   Sheriff David Clarke Becomes An Internet Joke...  ...  [friday, revealed, former, milwaukee, sheriff,...\n",
              "3   Trump Is So Obsessed He Even Has Obama’s Name...  ...  [christmas, day, donald, trump, announced, wou...\n",
              "4   Pope Francis Just Called Out Donald Trump Dur...  ...  [pope, francis, used, annual, christmas, day, ...\n",
              "\n",
              "[5 rows x 7 columns]"
            ]
          },
          "metadata": {
            "tags": []
          },
          "execution_count": 16
        }
      ]
    },
    {
      "cell_type": "markdown",
      "metadata": {
        "id": "FRpIfSlVbX2C",
        "colab_type": "text"
      },
      "source": [
        "# Lemmatizing"
      ]
    },
    {
      "cell_type": "code",
      "metadata": {
        "id": "u_7b2buJbX2D",
        "colab_type": "code",
        "colab": {}
      },
      "source": [
        "from nltk.stem import WordNetLemmatizer"
      ],
      "execution_count": 17,
      "outputs": []
    },
    {
      "cell_type": "code",
      "metadata": {
        "id": "OLqmGCFibX2F",
        "colab_type": "code",
        "colab": {}
      },
      "source": [
        "wl = WordNetLemmatizer()"
      ],
      "execution_count": 18,
      "outputs": []
    },
    {
      "cell_type": "code",
      "metadata": {
        "id": "tRV34xGNdfYn",
        "colab_type": "code",
        "colab": {
          "base_uri": "https://localhost:8080/",
          "height": 67
        },
        "outputId": "4a387d44-74c9-4de3-f1ec-84e9fcf4d46d"
      },
      "source": [
        "nltk.download('wordnet')"
      ],
      "execution_count": 20,
      "outputs": [
        {
          "output_type": "stream",
          "text": [
            "[nltk_data] Downloading package wordnet to /root/nltk_data...\n",
            "[nltk_data]   Unzipping corpora/wordnet.zip.\n"
          ],
          "name": "stdout"
        },
        {
          "output_type": "execute_result",
          "data": {
            "text/plain": [
              "True"
            ]
          },
          "metadata": {
            "tags": []
          },
          "execution_count": 20
        }
      ]
    },
    {
      "cell_type": "code",
      "metadata": {
        "id": "qZ3hRoCmbX2H",
        "colab_type": "code",
        "colab": {
          "base_uri": "https://localhost:8080/",
          "height": 279
        },
        "outputId": "33773cb2-147c-4067-b77c-a00956bd7b75"
      },
      "source": [
        "def lemmatizing(stopword):\n",
        "    text = [wl.lemmatize(word) for word in stopword]\n",
        "    return text\n",
        "\n",
        "clean_df[\"lemmatizing_text\"] = clean_df[\"nostopword_text\"].apply(lambda x:lemmatizing(x))\n",
        "\n",
        "clean_df.head()"
      ],
      "execution_count": 21,
      "outputs": [
        {
          "output_type": "execute_result",
          "data": {
            "text/html": [
              "<div>\n",
              "<style scoped>\n",
              "    .dataframe tbody tr th:only-of-type {\n",
              "        vertical-align: middle;\n",
              "    }\n",
              "\n",
              "    .dataframe tbody tr th {\n",
              "        vertical-align: top;\n",
              "    }\n",
              "\n",
              "    .dataframe thead th {\n",
              "        text-align: right;\n",
              "    }\n",
              "</style>\n",
              "<table border=\"1\" class=\"dataframe\">\n",
              "  <thead>\n",
              "    <tr style=\"text-align: right;\">\n",
              "      <th></th>\n",
              "      <th>title</th>\n",
              "      <th>text</th>\n",
              "      <th>subject</th>\n",
              "      <th>date</th>\n",
              "      <th>class</th>\n",
              "      <th>token_text</th>\n",
              "      <th>nostopword_text</th>\n",
              "      <th>lemmatizing_text</th>\n",
              "    </tr>\n",
              "  </thead>\n",
              "  <tbody>\n",
              "    <tr>\n",
              "      <th>0</th>\n",
              "      <td>Donald Trump Sends Out Embarrassing New Year’...</td>\n",
              "      <td>Donald Trump just couldn t wish all Americans ...</td>\n",
              "      <td>News</td>\n",
              "      <td>December 31, 2017</td>\n",
              "      <td>fake</td>\n",
              "      <td>[donald, trump, just, couldn, t, wish, all, am...</td>\n",
              "      <td>[donald, trump, wish, americans, happy, new, y...</td>\n",
              "      <td>[donald, trump, wish, american, happy, new, ye...</td>\n",
              "    </tr>\n",
              "    <tr>\n",
              "      <th>1</th>\n",
              "      <td>Drunk Bragging Trump Staffer Started Russian ...</td>\n",
              "      <td>House Intelligence Committee Chairman Devin Nu...</td>\n",
              "      <td>News</td>\n",
              "      <td>December 31, 2017</td>\n",
              "      <td>fake</td>\n",
              "      <td>[house, intelligence, committee, chairman, dev...</td>\n",
              "      <td>[house, intelligence, committee, chairman, dev...</td>\n",
              "      <td>[house, intelligence, committee, chairman, dev...</td>\n",
              "    </tr>\n",
              "    <tr>\n",
              "      <th>2</th>\n",
              "      <td>Sheriff David Clarke Becomes An Internet Joke...</td>\n",
              "      <td>On Friday, it was revealed that former Milwauk...</td>\n",
              "      <td>News</td>\n",
              "      <td>December 30, 2017</td>\n",
              "      <td>fake</td>\n",
              "      <td>[on, friday, it, was, revealed, that, former, ...</td>\n",
              "      <td>[friday, revealed, former, milwaukee, sheriff,...</td>\n",
              "      <td>[friday, revealed, former, milwaukee, sheriff,...</td>\n",
              "    </tr>\n",
              "    <tr>\n",
              "      <th>3</th>\n",
              "      <td>Trump Is So Obsessed He Even Has Obama’s Name...</td>\n",
              "      <td>On Christmas day, Donald Trump announced that ...</td>\n",
              "      <td>News</td>\n",
              "      <td>December 29, 2017</td>\n",
              "      <td>fake</td>\n",
              "      <td>[on, christmas, day, donald, trump, announced,...</td>\n",
              "      <td>[christmas, day, donald, trump, announced, wou...</td>\n",
              "      <td>[christmas, day, donald, trump, announced, wou...</td>\n",
              "    </tr>\n",
              "    <tr>\n",
              "      <th>4</th>\n",
              "      <td>Pope Francis Just Called Out Donald Trump Dur...</td>\n",
              "      <td>Pope Francis used his annual Christmas Day mes...</td>\n",
              "      <td>News</td>\n",
              "      <td>December 25, 2017</td>\n",
              "      <td>fake</td>\n",
              "      <td>[pope, francis, used, his, annual, christmas, ...</td>\n",
              "      <td>[pope, francis, used, annual, christmas, day, ...</td>\n",
              "      <td>[pope, francis, used, annual, christmas, day, ...</td>\n",
              "    </tr>\n",
              "  </tbody>\n",
              "</table>\n",
              "</div>"
            ],
            "text/plain": [
              "                                               title  ...                                   lemmatizing_text\n",
              "0   Donald Trump Sends Out Embarrassing New Year’...  ...  [donald, trump, wish, american, happy, new, ye...\n",
              "1   Drunk Bragging Trump Staffer Started Russian ...  ...  [house, intelligence, committee, chairman, dev...\n",
              "2   Sheriff David Clarke Becomes An Internet Joke...  ...  [friday, revealed, former, milwaukee, sheriff,...\n",
              "3   Trump Is So Obsessed He Even Has Obama’s Name...  ...  [christmas, day, donald, trump, announced, wou...\n",
              "4   Pope Francis Just Called Out Donald Trump Dur...  ...  [pope, francis, used, annual, christmas, day, ...\n",
              "\n",
              "[5 rows x 8 columns]"
            ]
          },
          "metadata": {
            "tags": []
          },
          "execution_count": 21
        }
      ]
    },
    {
      "cell_type": "code",
      "metadata": {
        "id": "lWZfkaU1bX2J",
        "colab_type": "code",
        "colab": {}
      },
      "source": [
        "clean_df.to_csv(\"clean_data.csv\")"
      ],
      "execution_count": 23,
      "outputs": []
    },
    {
      "cell_type": "markdown",
      "metadata": {
        "id": "oJ_HUqY6bX2L",
        "colab_type": "text"
      },
      "source": [
        "# N-Grams"
      ]
    },
    {
      "cell_type": "code",
      "metadata": {
        "id": "Sv9A_90SbX2L",
        "colab_type": "code",
        "colab": {}
      },
      "source": [
        "# from collections import Counter"
      ],
      "execution_count": 24,
      "outputs": []
    },
    {
      "cell_type": "code",
      "metadata": {
        "id": "Q_xSPSAzbX2O",
        "colab_type": "code",
        "colab": {}
      },
      "source": [
        "fake_df = clean_df[(clean_df[\"class\"] == \"fake\")]\n",
        "# fake = fake_df[\"text\"]\n",
        "true_df = clean_df[(clean_df[\"class\"] == \"true\")]\n",
        "# true = true_df[\"text\"]"
      ],
      "execution_count": 25,
      "outputs": []
    },
    {
      "cell_type": "code",
      "metadata": {
        "id": "5Y3WjDojbX2P",
        "colab_type": "code",
        "colab": {}
      },
      "source": [
        "# bigrams_true = (true, true[1:])\n",
        "# bigram_counts_true = Counter(bigrams_true)\n",
        "# bigrams_true = pd.DataFrame(bigram_counts_true.most_common(20), columns=[\"Bigram\", \"Count\"])\n",
        "# bigrams_true"
      ],
      "execution_count": null,
      "outputs": []
    },
    {
      "cell_type": "code",
      "metadata": {
        "id": "NqBlWnhsbX2R",
        "colab_type": "code",
        "colab": {}
      },
      "source": [
        "from sklearn.feature_extraction.text import CountVectorizer\n",
        "def get_top_text_ngrams(corpus, n, g):\n",
        "    vec = CountVectorizer(ngram_range=(g, g)).fit(corpus)\n",
        "    bag_of_words = vec.transform(corpus)\n",
        "    sum_words = bag_of_words.sum(axis=0) \n",
        "    words_freq = [(word, sum_words[0, idx]) for word, idx in vec.vocabulary_.items()]\n",
        "    words_freq =sorted(words_freq, key = lambda x: x[1], reverse=True)\n",
        "    return words_freq[:n]"
      ],
      "execution_count": 26,
      "outputs": []
    },
    {
      "cell_type": "code",
      "metadata": {
        "id": "cAlGUj9TbX2T",
        "colab_type": "code",
        "colab": {}
      },
      "source": [
        "most_common_uni = get_top_text_ngrams(fake_df.text,10,1)"
      ],
      "execution_count": 27,
      "outputs": []
    },
    {
      "cell_type": "code",
      "metadata": {
        "id": "4-mswizNbX2V",
        "colab_type": "code",
        "colab": {
          "base_uri": "https://localhost:8080/",
          "height": 185
        },
        "outputId": "b6908a9b-4f52-46c2-efd4-3ba016fcb83c"
      },
      "source": [
        "most_common_uni"
      ],
      "execution_count": 28,
      "outputs": [
        {
          "output_type": "execute_result",
          "data": {
            "text/plain": [
              "[('the', 543551),\n",
              " ('to', 290819),\n",
              " ('of', 236640),\n",
              " ('and', 226971),\n",
              " ('in', 171163),\n",
              " ('that', 151662),\n",
              " ('is', 111234),\n",
              " ('for', 93480),\n",
              " ('on', 83591),\n",
              " ('it', 83380)]"
            ]
          },
          "metadata": {
            "tags": []
          },
          "execution_count": 28
        }
      ]
    },
    {
      "cell_type": "code",
      "metadata": {
        "id": "pH5A4V8qbX2Y",
        "colab_type": "code",
        "colab": {}
      },
      "source": [
        "most_common_bi = get_top_text_ngrams(fake_df.text,10,2)"
      ],
      "execution_count": 29,
      "outputs": []
    },
    {
      "cell_type": "code",
      "metadata": {
        "id": "bv_oWjnubX2Z",
        "colab_type": "code",
        "colab": {
          "base_uri": "https://localhost:8080/",
          "height": 185
        },
        "outputId": "67823b30-4172-4e58-8deb-5c8f7e67dffd"
      },
      "source": [
        "most_common_bi"
      ],
      "execution_count": 30,
      "outputs": [
        {
          "output_type": "execute_result",
          "data": {
            "text/plain": [
              "[('of the', 54010),\n",
              " ('in the', 39907),\n",
              " ('to the', 27755),\n",
              " ('on the', 18979),\n",
              " ('to be', 16538),\n",
              " ('donald trump', 16275),\n",
              " ('for the', 16071),\n",
              " ('that the', 15307),\n",
              " ('and the', 14223),\n",
              " ('at the', 12925)]"
            ]
          },
          "metadata": {
            "tags": []
          },
          "execution_count": 30
        }
      ]
    },
    {
      "cell_type": "code",
      "metadata": {
        "id": "eyVhib-KbX2b",
        "colab_type": "code",
        "colab": {}
      },
      "source": [
        "def convert(l): \n",
        "    return tuple(i[0] for i in l) "
      ],
      "execution_count": 31,
      "outputs": []
    },
    {
      "cell_type": "code",
      "metadata": {
        "id": "MdocvJIXbX2e",
        "colab_type": "code",
        "colab": {}
      },
      "source": [
        "t = convert(combine_df.lemmatizing_text)"
      ],
      "execution_count": 32,
      "outputs": []
    },
    {
      "cell_type": "code",
      "metadata": {
        "id": "naUgDYbSbX2g",
        "colab_type": "code",
        "colab": {
          "base_uri": "https://localhost:8080/",
          "height": 1000
        },
        "outputId": "d300c9ab-db04-4048-a372-f6af7bcb3f2b"
      },
      "source": [
        "t"
      ],
      "execution_count": 33,
      "outputs": [
        {
          "output_type": "execute_result",
          "data": {
            "text/plain": [
              "('donald',\n",
              " 'house',\n",
              " 'friday',\n",
              " 'christmas',\n",
              " 'pope',\n",
              " 'number',\n",
              " 'donald',\n",
              " 'wake',\n",
              " 'many',\n",
              " 'might',\n",
              " 'centerpiece',\n",
              " 'republican',\n",
              " 'republican',\n",
              " 'medium',\n",
              " 'abigail',\n",
              " 'donald',\n",
              " 'new',\n",
              " 'trump',\n",
              " 'right',\n",
              " 'senate',\n",
              " 'almost',\n",
              " 'metoo',\n",
              " 'democrat',\n",
              " 'alabama',\n",
              " 'backlash',\n",
              " 'donald',\n",
              " 'ronald',\n",
              " '',\n",
              " 'donald',\n",
              " 'sen',\n",
              " 'america',\n",
              " 'new',\n",
              " 'wednesday',\n",
              " 'president',\n",
              " 'campaign',\n",
              " 'arizona',\n",
              " 'whole',\n",
              " 'heard',\n",
              " 'senator',\n",
              " 'donald',\n",
              " 'donald',\n",
              " 'everyone',\n",
              " 'donald',\n",
              " 'donald',\n",
              " 'donald',\n",
              " 'donald',\n",
              " 'michael',\n",
              " 'donald',\n",
              " 'michigan',\n",
              " 'people',\n",
              " 'jared',\n",
              " 'donald',\n",
              " 'awful',\n",
              " 'case',\n",
              " 'u',\n",
              " 'sure',\n",
              " 'donald',\n",
              " 'donald',\n",
              " 'great',\n",
              " 'former',\n",
              " 'pathetic',\n",
              " 'breitbart',\n",
              " 'would',\n",
              " 'donald',\n",
              " 'sunday',\n",
              " 'last',\n",
              " 'former',\n",
              " 'one',\n",
              " 'fox',\n",
              " 'donald',\n",
              " 'ivanka',\n",
              " 'senator',\n",
              " 'republican',\n",
              " 'seems',\n",
              " 'year',\n",
              " 'gene',\n",
              " 'donald',\n",
              " 'pastor',\n",
              " 'add',\n",
              " 'yesterday',\n",
              " 'republican',\n",
              " 'conservative',\n",
              " '',\n",
              " 'election',\n",
              " 'donald',\n",
              " 'maybe',\n",
              " 'alabama',\n",
              " 'roy',\n",
              " 'president',\n",
              " 'thursday',\n",
              " 'republican',\n",
              " 'campaign',\n",
              " 'trump',\n",
              " 'good',\n",
              " 'clearly',\n",
              " 'scandal',\n",
              " 'tuesday',\n",
              " 'hollywood',\n",
              " 'major',\n",
              " 'donald',\n",
              " 'former',\n",
              " 'convincing',\n",
              " 'republican',\n",
              " 'late',\n",
              " 'religious',\n",
              " 'take',\n",
              " 'president',\n",
              " 'gop',\n",
              " 'republican',\n",
              " 'newsweek',\n",
              " 'washington',\n",
              " 'republican',\n",
              " 'last',\n",
              " '18',\n",
              " 'fox',\n",
              " 'republican',\n",
              " 'even',\n",
              " 'well',\n",
              " 'tuesday',\n",
              " 'trump',\n",
              " 'oops',\n",
              " 'know',\n",
              " 'well',\n",
              " 'long',\n",
              " 'lawyer',\n",
              " 'remember',\n",
              " 'fox',\n",
              " 'knew',\n",
              " '308',\n",
              " 'police',\n",
              " 'first',\n",
              " 'maniac',\n",
              " 'history',\n",
              " 'tragic',\n",
              " 'least',\n",
              " 'every',\n",
              " 'knew',\n",
              " 'donald',\n",
              " 'donald',\n",
              " 'republican',\n",
              " 'donald',\n",
              " 'yet',\n",
              " 'go',\n",
              " 'thing',\n",
              " 'talk',\n",
              " 'gop',\n",
              " 'bored',\n",
              " 'donald',\n",
              " 'knew',\n",
              " 'attorney',\n",
              " 'donald',\n",
              " 'rather',\n",
              " 'donald',\n",
              " 'monday',\n",
              " 'trump',\n",
              " 'white',\n",
              " 'hillary',\n",
              " 'donald',\n",
              " 'capitol',\n",
              " 'civil',\n",
              " 'donald',\n",
              " 'sean',\n",
              " 'monday',\n",
              " 'one',\n",
              " 'whirlwind',\n",
              " 'world',\n",
              " 'morning',\n",
              " 'despite',\n",
              " 'gotta',\n",
              " 'lot',\n",
              " 'special',\n",
              " 'morning',\n",
              " 'hillary',\n",
              " 'tomi',\n",
              " 'news',\n",
              " 'former',\n",
              " 'trump',\n",
              " 'well',\n",
              " 'special',\n",
              " 'trump',\n",
              " 'campaign',\n",
              " 'donald',\n",
              " 'yet',\n",
              " 'recent',\n",
              " 'know',\n",
              " 'rep',\n",
              " 'milo',\n",
              " 'donald',\n",
              " 'might',\n",
              " 'donald',\n",
              " 'noticed',\n",
              " 'every',\n",
              " '',\n",
              " 'sen',\n",
              " 'monday',\n",
              " 'pearson',\n",
              " 'rex',\n",
              " 'donald',\n",
              " 'first',\n",
              " 'saturday',\n",
              " '',\n",
              " 'donald',\n",
              " 'one',\n",
              " 'donald',\n",
              " 'common',\n",
              " 'oooh',\n",
              " 'west',\n",
              " 'brand',\n",
              " 'former',\n",
              " 'internet',\n",
              " 'donald',\n",
              " 'democrat',\n",
              " 'two',\n",
              " 'every',\n",
              " 'article',\n",
              " 'sen',\n",
              " 'know',\n",
              " 'everyone',\n",
              " 'acclaimed',\n",
              " 'christian',\n",
              " 'donald',\n",
              " 'tiffany',\n",
              " 'donald',\n",
              " 'donald',\n",
              " 'donald',\n",
              " 'week',\n",
              " 'hahahahahahahaha',\n",
              " 'donald',\n",
              " 'campaign',\n",
              " 'pretty',\n",
              " 'donald',\n",
              " 'time',\n",
              " 'white',\n",
              " 'sitting',\n",
              " 'trump',\n",
              " 'sen',\n",
              " 'donald',\n",
              " 'deandre',\n",
              " 'tennessee',\n",
              " 'people',\n",
              " 'add',\n",
              " 'chris',\n",
              " 'senator',\n",
              " 'dennis',\n",
              " 'rise',\n",
              " 'donald',\n",
              " 'remember',\n",
              " 'republican',\n",
              " 'donald',\n",
              " 'donald',\n",
              " 'know',\n",
              " 'proving',\n",
              " 'lot',\n",
              " 'donald',\n",
              " 'u',\n",
              " 'taking',\n",
              " 'sunday',\n",
              " 'u',\n",
              " 'trump',\n",
              " 'remember',\n",
              " 'quick',\n",
              " '2016',\n",
              " 'donald',\n",
              " 'text',\n",
              " 'anyone',\n",
              " 'departing',\n",
              " 'wake',\n",
              " 'thought',\n",
              " 'donald',\n",
              " 'like',\n",
              " 'caleb',\n",
              " '50',\n",
              " 'clearly',\n",
              " 'way',\n",
              " 'time',\n",
              " 'sunday',\n",
              " 'saying',\n",
              " 'former',\n",
              " 'tea',\n",
              " 'everyone',\n",
              " 'last',\n",
              " 'last',\n",
              " 'former',\n",
              " 'american',\n",
              " 'epic',\n",
              " 'time',\n",
              " 'trump',\n",
              " 'secret',\n",
              " 'hurricane',\n",
              " 'people',\n",
              " 'poor',\n",
              " 'trump',\n",
              " 'donald',\n",
              " 'punchable',\n",
              " 'trump',\n",
              " '',\n",
              " 'gary',\n",
              " 'trump',\n",
              " 'anyone',\n",
              " 'donald',\n",
              " 'know',\n",
              " 'john',\n",
              " 'donald',\n",
              " 'president',\n",
              " 'alabama',\n",
              " 'wow',\n",
              " 'cnn',\n",
              " 'donald',\n",
              " 'backlash',\n",
              " 'graham',\n",
              " 'meet',\n",
              " 'conservative',\n",
              " 'donald',\n",
              " 'saturday',\n",
              " 'republican',\n",
              " 'conservative',\n",
              " 'hurricane',\n",
              " 'maybe',\n",
              " 'may',\n",
              " 'investigation',\n",
              " 'donald',\n",
              " 'backlash',\n",
              " 'saturday',\n",
              " 'donald',\n",
              " 'donald',\n",
              " 'saturday',\n",
              " 'james',\n",
              " 'friday',\n",
              " '',\n",
              " 'trump',\n",
              " 'john',\n",
              " 'trump',\n",
              " 'lot',\n",
              " 'infamous',\n",
              " 'without',\n",
              " 'senator',\n",
              " 'thursday',\n",
              " 'trump',\n",
              " 'unless',\n",
              " 'special',\n",
              " 'jack',\n",
              " 'gop',\n",
              " 'right',\n",
              " 'president',\n",
              " 'many',\n",
              " 'donald',\n",
              " 'donald',\n",
              " 'let',\n",
              " 'would',\n",
              " 'everyone',\n",
              " 'donald',\n",
              " 'military',\n",
              " 'trump',\n",
              " 'republican',\n",
              " 'name',\n",
              " 'know',\n",
              " 'donald',\n",
              " 'remember',\n",
              " 'took',\n",
              " 'american',\n",
              " 'republican',\n",
              " 'nigh',\n",
              " 'beyond',\n",
              " 'shooting',\n",
              " 'month',\n",
              " 'saturday',\n",
              " 'republican',\n",
              " 'firefighter',\n",
              " 'remember',\n",
              " 'one',\n",
              " 'ohio',\n",
              " 'trump',\n",
              " 'know',\n",
              " 'tuesday',\n",
              " 'terrorist',\n",
              " 'trump',\n",
              " 'come',\n",
              " 'one',\n",
              " 'pair',\n",
              " 'size',\n",
              " 'happens',\n",
              " 'robert',\n",
              " 'day',\n",
              " 'martin',\n",
              " 'employee',\n",
              " 'trump',\n",
              " 'today',\n",
              " 'espn',\n",
              " 'secret',\n",
              " 'best',\n",
              " 'leave',\n",
              " 'tuesday',\n",
              " 'donald',\n",
              " 'donald',\n",
              " 'trump',\n",
              " 'resident',\n",
              " 'bet',\n",
              " 'nobody',\n",
              " 'leave',\n",
              " 'back',\n",
              " 'facebook',\n",
              " 'black',\n",
              " 'last',\n",
              " '2017',\n",
              " 'two',\n",
              " 'despite',\n",
              " 'american',\n",
              " 'spent',\n",
              " 'fox',\n",
              " 'donald',\n",
              " 'equifax',\n",
              " 'trump',\n",
              " 'city',\n",
              " 'donald',\n",
              " 'recently',\n",
              " 'donald',\n",
              " 'seahawks',\n",
              " 'hurricane',\n",
              " 'somebody',\n",
              " 'day',\n",
              " 'donald',\n",
              " 'amateur',\n",
              " 'earlier',\n",
              " 'saw',\n",
              " 'one',\n",
              " 'imagine',\n",
              " 'ever',\n",
              " 'nation',\n",
              " 'donald',\n",
              " 'certainly',\n",
              " 'ever',\n",
              " 'donald',\n",
              " 'trump',\n",
              " 'donald',\n",
              " 'clear',\n",
              " 'donald',\n",
              " 'donald',\n",
              " 'donald',\n",
              " 'donald',\n",
              " 'always',\n",
              " 'donald',\n",
              " 'earlier',\n",
              " 'national',\n",
              " 'become',\n",
              " 'wicked',\n",
              " 'donald',\n",
              " 'donald',\n",
              " 'believe',\n",
              " 'one',\n",
              " 'clear',\n",
              " 'michigan',\n",
              " 'united',\n",
              " 'donald',\n",
              " 'uncharacteristically',\n",
              " 'american',\n",
              " 'aftermath',\n",
              " 'religion',\n",
              " 'power',\n",
              " 'donald',\n",
              " 'william',\n",
              " 'milwaukee',\n",
              " 'white',\n",
              " 'defending',\n",
              " 'donald',\n",
              " 'legendary',\n",
              " 'brief',\n",
              " 'according',\n",
              " 'donald',\n",
              " 'donald',\n",
              " 'ivanka',\n",
              " 'furious',\n",
              " 'remember',\n",
              " 'hurricane',\n",
              " 'late',\n",
              " 'u',\n",
              " 'immigration',\n",
              " 'hurricane',\n",
              " 'administration',\n",
              " 'almost',\n",
              " 'republican',\n",
              " 'republican',\n",
              " 'donald',\n",
              " 'aftermath',\n",
              " 'donald',\n",
              " 'donald',\n",
              " 'remember',\n",
              " 'would',\n",
              " 'former',\n",
              " 'phoenix',\n",
              " 'donald',\n",
              " 'ever',\n",
              " 'category',\n",
              " 'day',\n",
              " 'donald',\n",
              " 'donald',\n",
              " 'imagine',\n",
              " 'everybody',\n",
              " 'donald',\n",
              " 'early',\n",
              " 'know',\n",
              " 'middle',\n",
              " 'white',\n",
              " 'right',\n",
              " 'donald',\n",
              " 'rabbi',\n",
              " 'according',\n",
              " 'confess',\n",
              " 'familiar',\n",
              " 'hell',\n",
              " 'donald',\n",
              " 'donald',\n",
              " 'cult',\n",
              " 'would',\n",
              " 'house',\n",
              " 'white',\n",
              " 'donald',\n",
              " 'former',\n",
              " 'congressional',\n",
              " 'may',\n",
              " 'ron',\n",
              " 'according',\n",
              " 'scientist',\n",
              " 'back',\n",
              " 'donald',\n",
              " 'common',\n",
              " 'donald',\n",
              " 'week',\n",
              " 'last',\n",
              " 'donald',\n",
              " 'donald',\n",
              " 'afro',\n",
              " 'naacp',\n",
              " 'ever',\n",
              " 'year',\n",
              " 'prior',\n",
              " 'arnold',\n",
              " 'almost',\n",
              " 'white',\n",
              " 'president',\n",
              " 'donald',\n",
              " 'al',\n",
              " 'donald',\n",
              " 'donald',\n",
              " 'wake',\n",
              " 'donald',\n",
              " 'christopher',\n",
              " 'republican',\n",
              " 'donald',\n",
              " 'donald',\n",
              " 'donald',\n",
              " 'former',\n",
              " 'one',\n",
              " 'donald',\n",
              " 'donald',\n",
              " 'donald',\n",
              " 'donald',\n",
              " 'science',\n",
              " 'donald',\n",
              " 'donald',\n",
              " 'speaking',\n",
              " 'donald',\n",
              " 'sure',\n",
              " 'donald',\n",
              " 'bad',\n",
              " 'donald',\n",
              " 'cnn',\n",
              " 'official',\n",
              " 'lot',\n",
              " 'night',\n",
              " 'donald',\n",
              " 'today',\n",
              " 'donald',\n",
              " 'time',\n",
              " 'apparently',\n",
              " 'secret',\n",
              " 'proof',\n",
              " 'white',\n",
              " 'donald',\n",
              " 'according',\n",
              " '35',\n",
              " 'donald',\n",
              " 'mayor',\n",
              " 'dawn',\n",
              " 'donald',\n",
              " 'donald',\n",
              " 'donald',\n",
              " 'donald',\n",
              " 'seems',\n",
              " 'donald',\n",
              " '30',\n",
              " 'seven',\n",
              " 'donald',\n",
              " 'donald',\n",
              " 'hiding',\n",
              " 'vogue',\n",
              " 'thursday',\n",
              " 'donald',\n",
              " 'current',\n",
              " 'funny',\n",
              " 'everyone',\n",
              " 'la',\n",
              " 'earlier',\n",
              " 'sane',\n",
              " 'north',\n",
              " 'took',\n",
              " 'husband',\n",
              " 'walmart',\n",
              " 'speculation',\n",
              " 'astute',\n",
              " 'u',\n",
              " 'wednesday',\n",
              " 'news',\n",
              " 'mitch',\n",
              " 'revealed',\n",
              " 'donald',\n",
              " 'donald',\n",
              " 'two',\n",
              " 'unknown',\n",
              " 'george',\n",
              " 'two',\n",
              " 'mean',\n",
              " 'sen',\n",
              " 'donald',\n",
              " 'current',\n",
              " 'almost',\n",
              " 'donald',\n",
              " 'former',\n",
              " 'donald',\n",
              " 'seen',\n",
              " 'donald',\n",
              " 'msnbc',\n",
              " 'minnesota',\n",
              " 'republican',\n",
              " 'sure',\n",
              " 'mitch',\n",
              " 'everyone',\n",
              " 'bizarre',\n",
              " 'donald',\n",
              " 'trump',\n",
              " 'according',\n",
              " 'print',\n",
              " 'donald',\n",
              " 'ever',\n",
              " 'florida',\n",
              " 'instead',\n",
              " 'donald',\n",
              " 'donald',\n",
              " 'donald',\n",
              " 'disturbing',\n",
              " 'back',\n",
              " 'donald',\n",
              " 'sinclair',\n",
              " 'certainly',\n",
              " 'last',\n",
              " 'maybe',\n",
              " 'despite',\n",
              " 'latest',\n",
              " 'white',\n",
              " 'donald',\n",
              " 'secret',\n",
              " 'donald',\n",
              " 'president',\n",
              " 'seems',\n",
              " 'reince',\n",
              " 'arizona',\n",
              " 'look',\n",
              " 'epidemic',\n",
              " 'donald',\n",
              " 'first',\n",
              " 'nra',\n",
              " 'donald',\n",
              " 'one',\n",
              " 'campaign',\n",
              " 'former',\n",
              " 'grand',\n",
              " 'ever',\n",
              " 'august',\n",
              " 'one',\n",
              " 'thursday',\n",
              " 'donald',\n",
              " 'roll',\n",
              " 'deal',\n",
              " 'sarah',\n",
              " 'donald',\n",
              " 'donald',\n",
              " 'well',\n",
              " 'special',\n",
              " 'donald',\n",
              " 'amateur',\n",
              " 'admit',\n",
              " 'richard',\n",
              " 'washington',\n",
              " 'every',\n",
              " 'teeny',\n",
              " 'psst',\n",
              " 'one',\n",
              " 'donald',\n",
              " 'people',\n",
              " '10',\n",
              " 'fired',\n",
              " 'yet',\n",
              " 'donald',\n",
              " 'ten',\n",
              " 'rep',\n",
              " 'slip',\n",
              " 'donald',\n",
              " 'seems',\n",
              " 'donald',\n",
              " 'dramatic',\n",
              " 'donald',\n",
              " 'gop',\n",
              " 'trumpcare',\n",
              " 'donald',\n",
              " 'donald',\n",
              " 'jason',\n",
              " 'one',\n",
              " 'donald',\n",
              " 'donald',\n",
              " 'donald',\n",
              " 'trump',\n",
              " 'thought',\n",
              " 'thursday',\n",
              " 'gop',\n",
              " 'thursday',\n",
              " 'wednesday',\n",
              " 'donald',\n",
              " 'senator',\n",
              " 'fierce',\n",
              " 'thursday',\n",
              " 'amount',\n",
              " 'appears',\n",
              " 'anthony',\n",
              " 'sometimes',\n",
              " 'amateur',\n",
              " 'trump',\n",
              " 'donald',\n",
              " 'today',\n",
              " 'apparently',\n",
              " 'always',\n",
              " 'last',\n",
              " 'donald',\n",
              " 'according',\n",
              " 'holy',\n",
              " 'tuesday',\n",
              " 'mental',\n",
              " 'official',\n",
              " 'donald',\n",
              " 'donald',\n",
              " 'trump',\n",
              " 'monday',\n",
              " 'donald',\n",
              " 'know',\n",
              " 'donald',\n",
              " 'tough',\n",
              " 'donald',\n",
              " 'trumpcare',\n",
              " 'surely',\n",
              " 'tuesday',\n",
              " 'donald',\n",
              " 'congressional',\n",
              " 'unlike',\n",
              " 'trumpers',\n",
              " 'according',\n",
              " 'texas',\n",
              " 'red',\n",
              " 'donald',\n",
              " '',\n",
              " 'thought',\n",
              " 'saturday',\n",
              " 'donald',\n",
              " 'american',\n",
              " 'republican',\n",
              " 'scrolling',\n",
              " 'donald',\n",
              " 'rally',\n",
              " 'donald',\n",
              " 'donald',\n",
              " 'one',\n",
              " 'totally',\n",
              " 'anthony',\n",
              " 'michelle',\n",
              " 'controversial',\n",
              " 'republican',\n",
              " 'donald',\n",
              " 'take',\n",
              " 'republican',\n",
              " 'donald',\n",
              " 'brings',\n",
              " 'case',\n",
              " 'taking',\n",
              " 'democrat',\n",
              " 'saturday',\n",
              " 'donald',\n",
              " 'trump',\n",
              " 'former',\n",
              " 'jared',\n",
              " 'domino',\n",
              " 'rough',\n",
              " 'donald',\n",
              " 'donald',\n",
              " 'made',\n",
              " 'sen',\n",
              " 'whole',\n",
              " 'turn',\n",
              " 'donald',\n",
              " 'paul',\n",
              " 'president',\n",
              " 'donald',\n",
              " 'billionaire',\n",
              " 'one',\n",
              " 'senate',\n",
              " 'whenever',\n",
              " 'wednesday',\n",
              " 'amateur',\n",
              " 'donald',\n",
              " 'new',\n",
              " 'donald',\n",
              " 'reaching',\n",
              " 'sen',\n",
              " 'secret',\n",
              " 'donald',\n",
              " 'john',\n",
              " 'recently',\n",
              " 'contrast',\n",
              " 'republican',\n",
              " 'co',\n",
              " 'probably',\n",
              " 'new',\n",
              " 'donald',\n",
              " 'according',\n",
              " 'donald',\n",
              " 'story',\n",
              " 'hell',\n",
              " 'donald',\n",
              " 'secretary',\n",
              " 'mitch',\n",
              " 'imagine',\n",
              " 'well',\n",
              " 'month',\n",
              " 'trump',\n",
              " 'house',\n",
              " 'someone',\n",
              " 'imagine',\n",
              " 'sunday',\n",
              " 'trump',\n",
              " 'donald',\n",
              " 'donald',\n",
              " 'donald',\n",
              " 'donald',\n",
              " 'donald',\n",
              " 'russia',\n",
              " 'star',\n",
              " 'day',\n",
              " 'defense',\n",
              " 'everyone',\n",
              " 'know',\n",
              " 'turn',\n",
              " 'ronald',\n",
              " 'donald',\n",
              " 'keeping',\n",
              " 'jesus',\n",
              " 'chicago',\n",
              " 'release',\n",
              " 'living',\n",
              " 'need',\n",
              " 'six',\n",
              " 'interview',\n",
              " 'donald',\n",
              " 'california',\n",
              " 'known',\n",
              " 'republican',\n",
              " 'nothing',\n",
              " 'since',\n",
              " 'joe',\n",
              " 'white',\n",
              " 'last',\n",
              " 'entire',\n",
              " 'heard',\n",
              " 'someone',\n",
              " 'donald',\n",
              " 'presidential',\n",
              " 'come',\n",
              " 'donald',\n",
              " 'used',\n",
              " 'thing',\n",
              " 'proving',\n",
              " 'vacationing',\n",
              " 'donald',\n",
              " 'close',\n",
              " 'trump',\n",
              " 'kind',\n",
              " 'donald',\n",
              " 'alleged',\n",
              " 'smug',\n",
              " 'easily',\n",
              " 'gop',\n",
              " 'get',\n",
              " 'couple',\n",
              " 'donald',\n",
              " 'rep',\n",
              " 'narrative',\n",
              " 'one',\n",
              " 'despite',\n",
              " 'canadian',\n",
              " 'house',\n",
              " 'friday',\n",
              " 'spouse',\n",
              " 'last',\n",
              " 'already',\n",
              " 'former',\n",
              " 'conspiracy',\n",
              " 'ever',\n",
              " 'incapable',\n",
              " 'first',\n",
              " 'white',\n",
              " 'house',\n",
              " 'donald',\n",
              " 'wednesday',\n",
              " 'donald',\n",
              " 'secret',\n",
              " 'republican',\n",
              " 'poland',\n",
              " 'six',\n",
              " 'donald',\n",
              " 'donald',\n",
              " 'current',\n",
              " 'donald',\n",
              " 'day',\n",
              " 'donald',\n",
              " 'wednesday',\n",
              " 'amateur',\n",
              " 'gas',\n",
              " 'amid',\n",
              " 'one',\n",
              " 'leaked',\n",
              " 'independence',\n",
              " 'donald',\n",
              " 'far',\n",
              " 'republican',\n",
              " 'donald',\n",
              " 'white',\n",
              " 'rep',\n",
              " 'donald',\n",
              " 'new',\n",
              " 'president',\n",
              " 'chris',\n",
              " 'official',\n",
              " 'sunday',\n",
              " 'donald',\n",
              " 'saturday',\n",
              " 'many',\n",
              " 'one',\n",
              " 'twitter',\n",
              " 'donald',\n",
              " 'week',\n",
              " 'donald',\n",
              " 'saturday',\n",
              " 'donald',\n",
              " 'ever',\n",
              " 'incredibly',\n",
              " 'average',\n",
              " 'former',\n",
              " 'trump',\n",
              " 'blackmail',\n",
              " 'say',\n",
              " 'nation',\n",
              " 'ever',\n",
              " 'many',\n",
              " 'already',\n",
              " 'national',\n",
              " 'explosive',\n",
              " 'today',\n",
              " 'couple',\n",
              " 'look',\n",
              " 'white',\n",
              " 'know',\n",
              " 'set',\n",
              " 'thursday',\n",
              " 'entire',\n",
              " 'figuring',\n",
              " 'easily',\n",
              " 'donald',\n",
              " 'senate',\n",
              " 'one',\n",
              " 'donald',\n",
              " 'yesterday',\n",
              " 'certainly',\n",
              " 'republican',\n",
              " 'trump',\n",
              " 'republican',\n",
              " 'watching',\n",
              " 'donald',\n",
              " 'protest',\n",
              " 'team',\n",
              " 'former',\n",
              " 'long',\n",
              " 'according',\n",
              " 'congressional',\n",
              " 'donald',\n",
              " 'donald',\n",
              " ...)"
            ]
          },
          "metadata": {
            "tags": []
          },
          "execution_count": 33
        }
      ]
    },
    {
      "cell_type": "code",
      "metadata": {
        "id": "S06Tq2a2bX2i",
        "colab_type": "code",
        "colab": {}
      },
      "source": [
        "# list(combine_df.lemmatizing_text[0])[0]"
      ],
      "execution_count": null,
      "outputs": []
    },
    {
      "cell_type": "code",
      "metadata": {
        "id": "lnmFTFjubX2k",
        "colab_type": "code",
        "colab": {},
        "outputId": "90e6ca1f-06ff-4bf5-dae1-3422805c3ae6"
      },
      "source": [
        "get_top_text_ngrams(t,10,2)"
      ],
      "execution_count": null,
      "outputs": [
        {
          "output_type": "error",
          "ename": "ValueError",
          "evalue": "empty vocabulary; perhaps the documents only contain stop words",
          "traceback": [
            "\u001b[0;31m---------------------------------------------------------------------------\u001b[0m",
            "\u001b[0;31mValueError\u001b[0m                                Traceback (most recent call last)",
            "\u001b[0;32m<ipython-input-48-6d7e53b0d70d>\u001b[0m in \u001b[0;36m<module>\u001b[0;34m\u001b[0m\n\u001b[0;32m----> 1\u001b[0;31m \u001b[0mget_top_text_ngrams\u001b[0m\u001b[0;34m(\u001b[0m\u001b[0mt\u001b[0m\u001b[0;34m,\u001b[0m\u001b[0;36m10\u001b[0m\u001b[0;34m,\u001b[0m\u001b[0;36m2\u001b[0m\u001b[0;34m)\u001b[0m\u001b[0;34m\u001b[0m\u001b[0;34m\u001b[0m\u001b[0m\n\u001b[0m",
            "\u001b[0;32m<ipython-input-27-08876824b300>\u001b[0m in \u001b[0;36mget_top_text_ngrams\u001b[0;34m(corpus, n, g)\u001b[0m\n\u001b[1;32m      1\u001b[0m \u001b[0;32mfrom\u001b[0m \u001b[0msklearn\u001b[0m\u001b[0;34m.\u001b[0m\u001b[0mfeature_extraction\u001b[0m\u001b[0;34m.\u001b[0m\u001b[0mtext\u001b[0m \u001b[0;32mimport\u001b[0m \u001b[0mCountVectorizer\u001b[0m\u001b[0;34m\u001b[0m\u001b[0;34m\u001b[0m\u001b[0m\n\u001b[1;32m      2\u001b[0m \u001b[0;32mdef\u001b[0m \u001b[0mget_top_text_ngrams\u001b[0m\u001b[0;34m(\u001b[0m\u001b[0mcorpus\u001b[0m\u001b[0;34m,\u001b[0m \u001b[0mn\u001b[0m\u001b[0;34m,\u001b[0m \u001b[0mg\u001b[0m\u001b[0;34m)\u001b[0m\u001b[0;34m:\u001b[0m\u001b[0;34m\u001b[0m\u001b[0;34m\u001b[0m\u001b[0m\n\u001b[0;32m----> 3\u001b[0;31m     \u001b[0mvec\u001b[0m \u001b[0;34m=\u001b[0m \u001b[0mCountVectorizer\u001b[0m\u001b[0;34m(\u001b[0m\u001b[0mngram_range\u001b[0m\u001b[0;34m=\u001b[0m\u001b[0;34m(\u001b[0m\u001b[0mg\u001b[0m\u001b[0;34m,\u001b[0m \u001b[0mg\u001b[0m\u001b[0;34m)\u001b[0m\u001b[0;34m)\u001b[0m\u001b[0;34m.\u001b[0m\u001b[0mfit\u001b[0m\u001b[0;34m(\u001b[0m\u001b[0mcorpus\u001b[0m\u001b[0;34m)\u001b[0m\u001b[0;34m\u001b[0m\u001b[0;34m\u001b[0m\u001b[0m\n\u001b[0m\u001b[1;32m      4\u001b[0m     \u001b[0mbag_of_words\u001b[0m \u001b[0;34m=\u001b[0m \u001b[0mvec\u001b[0m\u001b[0;34m.\u001b[0m\u001b[0mtransform\u001b[0m\u001b[0;34m(\u001b[0m\u001b[0mcorpus\u001b[0m\u001b[0;34m)\u001b[0m\u001b[0;34m\u001b[0m\u001b[0;34m\u001b[0m\u001b[0m\n\u001b[1;32m      5\u001b[0m     \u001b[0msum_words\u001b[0m \u001b[0;34m=\u001b[0m \u001b[0mbag_of_words\u001b[0m\u001b[0;34m.\u001b[0m\u001b[0msum\u001b[0m\u001b[0;34m(\u001b[0m\u001b[0maxis\u001b[0m\u001b[0;34m=\u001b[0m\u001b[0;36m0\u001b[0m\u001b[0;34m)\u001b[0m\u001b[0;34m\u001b[0m\u001b[0;34m\u001b[0m\u001b[0m\n",
            "\u001b[0;32m~/opt/anaconda3/lib/python3.7/site-packages/sklearn/feature_extraction/text.py\u001b[0m in \u001b[0;36mfit\u001b[0;34m(self, raw_documents, y)\u001b[0m\n\u001b[1;32m   1022\u001b[0m         \u001b[0mself\u001b[0m\u001b[0;34m\u001b[0m\u001b[0;34m\u001b[0m\u001b[0m\n\u001b[1;32m   1023\u001b[0m         \"\"\"\n\u001b[0;32m-> 1024\u001b[0;31m         \u001b[0mself\u001b[0m\u001b[0;34m.\u001b[0m\u001b[0mfit_transform\u001b[0m\u001b[0;34m(\u001b[0m\u001b[0mraw_documents\u001b[0m\u001b[0;34m)\u001b[0m\u001b[0;34m\u001b[0m\u001b[0;34m\u001b[0m\u001b[0m\n\u001b[0m\u001b[1;32m   1025\u001b[0m         \u001b[0;32mreturn\u001b[0m \u001b[0mself\u001b[0m\u001b[0;34m\u001b[0m\u001b[0;34m\u001b[0m\u001b[0m\n\u001b[1;32m   1026\u001b[0m \u001b[0;34m\u001b[0m\u001b[0m\n",
            "\u001b[0;32m~/opt/anaconda3/lib/python3.7/site-packages/sklearn/feature_extraction/text.py\u001b[0m in \u001b[0;36mfit_transform\u001b[0;34m(self, raw_documents, y)\u001b[0m\n\u001b[1;32m   1056\u001b[0m \u001b[0;34m\u001b[0m\u001b[0m\n\u001b[1;32m   1057\u001b[0m         vocabulary, X = self._count_vocab(raw_documents,\n\u001b[0;32m-> 1058\u001b[0;31m                                           self.fixed_vocabulary_)\n\u001b[0m\u001b[1;32m   1059\u001b[0m \u001b[0;34m\u001b[0m\u001b[0m\n\u001b[1;32m   1060\u001b[0m         \u001b[0;32mif\u001b[0m \u001b[0mself\u001b[0m\u001b[0;34m.\u001b[0m\u001b[0mbinary\u001b[0m\u001b[0;34m:\u001b[0m\u001b[0;34m\u001b[0m\u001b[0;34m\u001b[0m\u001b[0m\n",
            "\u001b[0;32m~/opt/anaconda3/lib/python3.7/site-packages/sklearn/feature_extraction/text.py\u001b[0m in \u001b[0;36m_count_vocab\u001b[0;34m(self, raw_documents, fixed_vocab)\u001b[0m\n\u001b[1;32m    987\u001b[0m             \u001b[0mvocabulary\u001b[0m \u001b[0;34m=\u001b[0m \u001b[0mdict\u001b[0m\u001b[0;34m(\u001b[0m\u001b[0mvocabulary\u001b[0m\u001b[0;34m)\u001b[0m\u001b[0;34m\u001b[0m\u001b[0;34m\u001b[0m\u001b[0m\n\u001b[1;32m    988\u001b[0m             \u001b[0;32mif\u001b[0m \u001b[0;32mnot\u001b[0m \u001b[0mvocabulary\u001b[0m\u001b[0;34m:\u001b[0m\u001b[0;34m\u001b[0m\u001b[0;34m\u001b[0m\u001b[0m\n\u001b[0;32m--> 989\u001b[0;31m                 raise ValueError(\"empty vocabulary; perhaps the documents only\"\n\u001b[0m\u001b[1;32m    990\u001b[0m                                  \" contain stop words\")\n\u001b[1;32m    991\u001b[0m \u001b[0;34m\u001b[0m\u001b[0m\n",
            "\u001b[0;31mValueError\u001b[0m: empty vocabulary; perhaps the documents only contain stop words"
          ]
        }
      ]
    },
    {
      "cell_type": "code",
      "metadata": {
        "id": "L1TuRArdbX2m",
        "colab_type": "code",
        "colab": {}
      },
      "source": [
        "def basic_clean(text):\n",
        "    wnl = nltk.stem.WordNetLemmatizer()\n",
        "    stopwords= nltk.corpus.stopwords.words('english')\n",
        "    words = re.sub(r'[^\\w\\s]', '', text).split()\n",
        "    return [wnl.lemmatize(word) for word in words if word not in stopwords]"
      ],
      "execution_count": 34,
      "outputs": []
    },
    {
      "cell_type": "code",
      "metadata": {
        "id": "Y7-KV8AlbX2o",
        "colab_type": "code",
        "colab": {}
      },
      "source": [
        "true_word = basic_clean(''.join(str(true_df['text'].tolist())))"
      ],
      "execution_count": 35,
      "outputs": []
    },
    {
      "cell_type": "code",
      "metadata": {
        "id": "gyjesHN4bX2p",
        "colab_type": "code",
        "colab": {}
      },
      "source": [
        "true_bigrams = (pd.Series(nltk.ngrams(true_word, 2)).value_counts())[:20]"
      ],
      "execution_count": 36,
      "outputs": []
    },
    {
      "cell_type": "code",
      "metadata": {
        "id": "ELZhMyrPbX2r",
        "colab_type": "code",
        "colab": {
          "base_uri": "https://localhost:8080/",
          "height": 370
        },
        "outputId": "b627db18-495b-4909-c395-058539f59a13"
      },
      "source": [
        "true_bigrams"
      ],
      "execution_count": 37,
      "outputs": [
        {
          "output_type": "execute_result",
          "data": {
            "text/plain": [
              "(United, States)         12176\n",
              "(White, House)            8269\n",
              "(Donald, Trump)           7963\n",
              "(WASHINGTON, Reuters)     6483\n",
              "(President, Donald)       5913\n",
              "(North, Korea)            5282\n",
              "(Reuters, The)            3921\n",
              "(said, statement)         3878\n",
              "(New, York)               3567\n",
              "(said, The)               3541\n",
              "(official, said)          3520\n",
              "(told, Reuters)           3491\n",
              "(Trump, said)             3433\n",
              "(Islamic, State)          3349\n",
              "(told, reporter)          3184\n",
              "(last, year)              3178\n",
              "(US, President)           2956\n",
              "(last, week)              2949\n",
              "(Prime, Minister)         2906\n",
              "(said, would)             2870\n",
              "dtype: int64"
            ]
          },
          "metadata": {
            "tags": []
          },
          "execution_count": 37
        }
      ]
    },
    {
      "cell_type": "code",
      "metadata": {
        "id": "lVUiLLGgbX2t",
        "colab_type": "code",
        "colab": {}
      },
      "source": [
        "true_trigrams = (pd.Series(nltk.ngrams(true_word, 3)).value_counts())[:20]"
      ],
      "execution_count": 38,
      "outputs": []
    },
    {
      "cell_type": "code",
      "metadata": {
        "id": "-LbGBTKQbX2v",
        "colab_type": "code",
        "colab": {
          "base_uri": "https://localhost:8080/",
          "height": 370
        },
        "outputId": "4c71da85-ae52-412d-ad1b-b387a2fab3c2"
      },
      "source": [
        "true_trigrams"
      ],
      "execution_count": 39,
      "outputs": [
        {
          "output_type": "execute_result",
          "data": {
            "text/plain": [
              "(President, Donald, Trump)          4415\n",
              "(US, President, Donald)             2523\n",
              "(President, Barack, Obama)          1959\n",
              "(WASHINGTON, Reuters, US)           1668\n",
              "(WASHINGTON, Reuters, The)          1556\n",
              "(President, Donald, Trumps)         1427\n",
              "(The, United, States)               1294\n",
              "(The, White, House)                 1063\n",
              "(Reuters, US, President)             996\n",
              "(White, House, said)                 951\n",
              "(President, Barack, Obamas)          906\n",
              "(respond, request, comment)          799\n",
              "(US, House, Representatives)         777\n",
              "(Nov, 8, election)                   771\n",
              "(Reuters, The, US)                   764\n",
              "(President, Vladimir, Putin)         763\n",
              "(NEW, YORK, Reuters)                 733\n",
              "(Reuters, President, Donald)         672\n",
              "(WASHINGTON, Reuters, President)     669\n",
              "(Secretary, State, Rex)              652\n",
              "dtype: int64"
            ]
          },
          "metadata": {
            "tags": []
          },
          "execution_count": 39
        }
      ]
    },
    {
      "cell_type": "code",
      "metadata": {
        "id": "xaCsFn_RbX2x",
        "colab_type": "code",
        "colab": {}
      },
      "source": [
        "fake_word = basic_clean(''.join(str(fake_df['text'].tolist())))"
      ],
      "execution_count": 40,
      "outputs": []
    },
    {
      "cell_type": "code",
      "metadata": {
        "id": "Vwdvzx1GbX2y",
        "colab_type": "code",
        "colab": {}
      },
      "source": [
        "fake_bigrams = (pd.Series(nltk.ngrams(fake_word, 2)).value_counts())[:20]"
      ],
      "execution_count": 41,
      "outputs": []
    },
    {
      "cell_type": "code",
      "metadata": {
        "id": "swIQ5EgibX21",
        "colab_type": "code",
        "colab": {}
      },
      "source": [
        "fake_trigrams = (pd.Series(nltk.ngrams(fake_word, 3)).value_counts())[:20]"
      ],
      "execution_count": 42,
      "outputs": []
    },
    {
      "cell_type": "code",
      "metadata": {
        "id": "TU-E719zbX24",
        "colab_type": "code",
        "colab": {
          "base_uri": "https://localhost:8080/",
          "height": 370
        },
        "outputId": "50323fb1-3972-48c9-99db-4e2b49f58438"
      },
      "source": [
        "fake_bigrams"
      ],
      "execution_count": 43,
      "outputs": [
        {
          "output_type": "execute_result",
          "data": {
            "text/plain": [
              "(Donald, Trump)             13000\n",
              "(Hillary, Clinton)           6660\n",
              "(White, House)               6234\n",
              "(United, States)             6151\n",
              "(image, via)                 6072\n",
              "(New, York)                  4167\n",
              "(I, think)                   3841\n",
              "(President, Obama)           3754\n",
              "(President, Trump)           3451\n",
              "(Fox, News)                  2530\n",
              "(Barack, Obama)              2205\n",
              "(Donald, J)                  2152\n",
              "(21st, Century)              2148\n",
              "(J, Trump)                   2117\n",
              "(Century, Wire)              1922\n",
              "(Trump, supporter)           1810\n",
              "(Supreme, Court)             1746\n",
              "(I, know)                    1701\n",
              "(Trump, realDonaldTrump)     1672\n",
              "(Trump, campaign)            1653\n",
              "dtype: int64"
            ]
          },
          "metadata": {
            "tags": []
          },
          "execution_count": 43
        }
      ]
    },
    {
      "cell_type": "code",
      "metadata": {
        "id": "BcZqmDbPbX27",
        "colab_type": "code",
        "colab": {
          "base_uri": "https://localhost:8080/",
          "height": 370
        },
        "outputId": "8433637a-6513-41e7-b21c-9ff3c4da1a59"
      },
      "source": [
        "fake_trigrams"
      ],
      "execution_count": 44,
      "outputs": [
        {
          "output_type": "execute_result",
          "data": {
            "text/plain": [
              "(Donald, J, Trump)             2111\n",
              "(21st, Century, Wire)          1898\n",
              "(J, Trump, realDonaldTrump)    1670\n",
              "(New, York, Times)             1464\n",
              "(Black, Lives, Matter)         1123\n",
              "(AT, 21st, Century)             983\n",
              "(NEWS, AT, 21st)                921\n",
              "(President, Barack, Obama)      819\n",
              "(image, via, video)             782\n",
              "(President, Donald, Trump)      765\n",
              "(Century, Wire, say)            725\n",
              "(video, screen, capture)        721\n",
              "(A, MEMBER, 21WIRETV)           707\n",
              "(via, video, screen)            666\n",
              "(New, York, City)               602\n",
              "(Featured, image, via)          600\n",
              "(The, New, York)                565\n",
              "(George, W, Bush)               564\n",
              "(President, United, States)     548\n",
              "(via, Getty, Images)            534\n",
              "dtype: int64"
            ]
          },
          "metadata": {
            "tags": []
          },
          "execution_count": 44
        }
      ]
    },
    {
      "cell_type": "markdown",
      "metadata": {
        "id": "ZwRI3VMMbX2-",
        "colab_type": "text"
      },
      "source": [
        "# WordCloud"
      ]
    },
    {
      "cell_type": "code",
      "metadata": {
        "id": "rS7i14HQbX2_",
        "colab_type": "code",
        "colab": {}
      },
      "source": [
        "from wordcloud import WordCloud,STOPWORDS"
      ],
      "execution_count": 45,
      "outputs": []
    },
    {
      "cell_type": "code",
      "metadata": {
        "id": "VPIFfJpdbX3A",
        "colab_type": "code",
        "colab": {}
      },
      "source": [
        "def plot_wordcloud(text):\n",
        "    wordcloud = WordCloud(background_color = 'black',\n",
        "                         max_words = 2000,\n",
        "                         width=1600,\n",
        "                         height=800).generate(\"\".join(text))\n",
        "    plt.clf()\n",
        "    plt.imshow(wordcloud, interpolation='bilinear')\n",
        "    plt.axis('off')\n",
        "    plt.show()"
      ],
      "execution_count": 46,
      "outputs": []
    },
    {
      "cell_type": "code",
      "metadata": {
        "id": "gkLRqTu4bX3C",
        "colab_type": "code",
        "colab": {
          "base_uri": "https://localhost:8080/",
          "height": 198
        },
        "outputId": "ae816d17-e4ef-4d36-f160-3ad3b4782f78"
      },
      "source": [
        "plot_wordcloud(true_df.text)"
      ],
      "execution_count": 47,
      "outputs": [
        {
          "output_type": "display_data",
          "data": {
            "image/png": "[encoded data removed]",
            "text/plain": [
              "<Figure size 432x288 with 1 Axes>"
            ]
          },
          "metadata": {
            "tags": [],
            "needs_background": "light"
          }
        }
      ]
    },
    {
      "cell_type": "code",
      "metadata": {
        "id": "D6L4_071bX3E",
        "colab_type": "code",
        "colab": {
          "base_uri": "https://localhost:8080/",
          "height": 198
        },
        "outputId": "ba23c56f-e1f6-400f-b288-a54a9005df15"
      },
      "source": [
        "plot_wordcloud(fake_df.text)"
      ],
      "execution_count": 48,
      "outputs": [
        {
          "output_type": "display_data",
          "data": {
            "image/png": "[encoded data removed]",
            "text/plain": [
              "<Figure size 432x288 with 1 Axes>"
            ]
          },
          "metadata": {
            "tags": [],
            "needs_background": "light"
          }
        }
      ]
    },
    {
      "cell_type": "markdown",
      "metadata": {
        "id": "JLd9-4IFf2K_",
        "colab_type": "text"
      },
      "source": [
        "One Hot Encoding"
      ]
    },
    {
      "cell_type": "code",
      "metadata": {
        "id": "N5095OtdbX3H",
        "colab_type": "code",
        "colab": {}
      },
      "source": [
        "data = clean_df.values"
      ],
      "execution_count": 165,
      "outputs": []
    },
    {
      "cell_type": "code",
      "metadata": {
        "id": "TUZRPz3TqCli",
        "colab_type": "code",
        "colab": {}
      },
      "source": [
        "from sklearn.feature_extraction.text import TfidfVectorizer"
      ],
      "execution_count": 166,
      "outputs": []
    },
    {
      "cell_type": "code",
      "metadata": {
        "id": "kQ13XTBaw-ez",
        "colab_type": "code",
        "colab": {}
      },
      "source": [
        "#,max_features=5000"
      ],
      "execution_count": null,
      "outputs": []
    },
    {
      "cell_type": "code",
      "metadata": {
        "id": "mUrZIdJjqKBQ",
        "colab_type": "code",
        "colab": {
          "base_uri": "https://localhost:8080/",
          "height": 50
        },
        "outputId": "6d21b351-6973-423e-d3d5-01033257c6b1"
      },
      "source": [
        "tfIdfVectorizer=TfidfVectorizer(use_idf=True)\n",
        "tfIdf = tfIdfVectorizer.fit_transform(clean_df[\"text\"])\n",
        "tfIdf"
      ],
      "execution_count": 167,
      "outputs": [
        {
          "output_type": "execute_result",
          "data": {
            "text/plain": [
              "<44898x122002 sparse matrix of type '<class 'numpy.float64'>'\n",
              "\twith 9397629 stored elements in Compressed Sparse Row format>"
            ]
          },
          "metadata": {
            "tags": []
          },
          "execution_count": 167
        }
      ]
    },
    {
      "cell_type": "code",
      "metadata": {
        "id": "3C6TlSQDrnKr",
        "colab_type": "code",
        "colab": {}
      },
      "source": [
        "X = tfIdf\n",
        "y = data[:, 4]"
      ],
      "execution_count": 168,
      "outputs": []
    },
    {
      "cell_type": "code",
      "metadata": {
        "id": "yiDI7qdRgHoz",
        "colab_type": "code",
        "colab": {
          "base_uri": "https://localhost:8080/",
          "height": 570
        },
        "outputId": "bab567eb-1b36-4155-b916-860abb8b76ed"
      },
      "source": [
        "clean_df"
      ],
      "execution_count": 49,
      "outputs": [
        {
          "output_type": "execute_result",
          "data": {
            "text/html": [
              "<div>\n",
              "<style scoped>\n",
              "    .dataframe tbody tr th:only-of-type {\n",
              "        vertical-align: middle;\n",
              "    }\n",
              "\n",
              "    .dataframe tbody tr th {\n",
              "        vertical-align: top;\n",
              "    }\n",
              "\n",
              "    .dataframe thead th {\n",
              "        text-align: right;\n",
              "    }\n",
              "</style>\n",
              "<table border=\"1\" class=\"dataframe\">\n",
              "  <thead>\n",
              "    <tr style=\"text-align: right;\">\n",
              "      <th></th>\n",
              "      <th>title</th>\n",
              "      <th>text</th>\n",
              "      <th>subject</th>\n",
              "      <th>date</th>\n",
              "      <th>class</th>\n",
              "      <th>token_text</th>\n",
              "      <th>nostopword_text</th>\n",
              "      <th>lemmatizing_text</th>\n",
              "    </tr>\n",
              "  </thead>\n",
              "  <tbody>\n",
              "    <tr>\n",
              "      <th>0</th>\n",
              "      <td>Donald Trump Sends Out Embarrassing New Year’...</td>\n",
              "      <td>Donald Trump just couldn t wish all Americans ...</td>\n",
              "      <td>News</td>\n",
              "      <td>December 31, 2017</td>\n",
              "      <td>fake</td>\n",
              "      <td>[donald, trump, just, couldn, t, wish, all, am...</td>\n",
              "      <td>[donald, trump, wish, americans, happy, new, y...</td>\n",
              "      <td>[donald, trump, wish, american, happy, new, ye...</td>\n",
              "    </tr>\n",
              "    <tr>\n",
              "      <th>1</th>\n",
              "      <td>Drunk Bragging Trump Staffer Started Russian ...</td>\n",
              "      <td>House Intelligence Committee Chairman Devin Nu...</td>\n",
              "      <td>News</td>\n",
              "      <td>December 31, 2017</td>\n",
              "      <td>fake</td>\n",
              "      <td>[house, intelligence, committee, chairman, dev...</td>\n",
              "      <td>[house, intelligence, committee, chairman, dev...</td>\n",
              "      <td>[house, intelligence, committee, chairman, dev...</td>\n",
              "    </tr>\n",
              "    <tr>\n",
              "      <th>2</th>\n",
              "      <td>Sheriff David Clarke Becomes An Internet Joke...</td>\n",
              "      <td>On Friday, it was revealed that former Milwauk...</td>\n",
              "      <td>News</td>\n",
              "      <td>December 30, 2017</td>\n",
              "      <td>fake</td>\n",
              "      <td>[on, friday, it, was, revealed, that, former, ...</td>\n",
              "      <td>[friday, revealed, former, milwaukee, sheriff,...</td>\n",
              "      <td>[friday, revealed, former, milwaukee, sheriff,...</td>\n",
              "    </tr>\n",
              "    <tr>\n",
              "      <th>3</th>\n",
              "      <td>Trump Is So Obsessed He Even Has Obama’s Name...</td>\n",
              "      <td>On Christmas day, Donald Trump announced that ...</td>\n",
              "      <td>News</td>\n",
              "      <td>December 29, 2017</td>\n",
              "      <td>fake</td>\n",
              "      <td>[on, christmas, day, donald, trump, announced,...</td>\n",
              "      <td>[christmas, day, donald, trump, announced, wou...</td>\n",
              "      <td>[christmas, day, donald, trump, announced, wou...</td>\n",
              "    </tr>\n",
              "    <tr>\n",
              "      <th>4</th>\n",
              "      <td>Pope Francis Just Called Out Donald Trump Dur...</td>\n",
              "      <td>Pope Francis used his annual Christmas Day mes...</td>\n",
              "      <td>News</td>\n",
              "      <td>December 25, 2017</td>\n",
              "      <td>fake</td>\n",
              "      <td>[pope, francis, used, his, annual, christmas, ...</td>\n",
              "      <td>[pope, francis, used, annual, christmas, day, ...</td>\n",
              "      <td>[pope, francis, used, annual, christmas, day, ...</td>\n",
              "    </tr>\n",
              "    <tr>\n",
              "      <th>...</th>\n",
              "      <td>...</td>\n",
              "      <td>...</td>\n",
              "      <td>...</td>\n",
              "      <td>...</td>\n",
              "      <td>...</td>\n",
              "      <td>...</td>\n",
              "      <td>...</td>\n",
              "      <td>...</td>\n",
              "    </tr>\n",
              "    <tr>\n",
              "      <th>21412</th>\n",
              "      <td>'Fully committed' NATO backs new U.S. approach...</td>\n",
              "      <td>BRUSSELS (Reuters) - NATO allies on Tuesday we...</td>\n",
              "      <td>worldnews</td>\n",
              "      <td>August 22, 2017</td>\n",
              "      <td>true</td>\n",
              "      <td>[brussels, reuters, nato, allies, on, tuesday,...</td>\n",
              "      <td>[brussels, reuters, nato, allies, tuesday, wel...</td>\n",
              "      <td>[brussels, reuters, nato, ally, tuesday, welco...</td>\n",
              "    </tr>\n",
              "    <tr>\n",
              "      <th>21413</th>\n",
              "      <td>LexisNexis withdrew two products from Chinese ...</td>\n",
              "      <td>LONDON (Reuters) - LexisNexis, a provider of l...</td>\n",
              "      <td>worldnews</td>\n",
              "      <td>August 22, 2017</td>\n",
              "      <td>true</td>\n",
              "      <td>[london, reuters, lexisnexis, a, provider, of,...</td>\n",
              "      <td>[london, reuters, lexisnexis, provider, legal,...</td>\n",
              "      <td>[london, reuters, lexisnexis, provider, legal,...</td>\n",
              "    </tr>\n",
              "    <tr>\n",
              "      <th>21414</th>\n",
              "      <td>Minsk cultural hub becomes haven from authorities</td>\n",
              "      <td>MINSK (Reuters) - In the shadow of disused Sov...</td>\n",
              "      <td>worldnews</td>\n",
              "      <td>August 22, 2017</td>\n",
              "      <td>true</td>\n",
              "      <td>[minsk, reuters, in, the, shadow, of, disused,...</td>\n",
              "      <td>[minsk, reuters, shadow, disused, soviet, era,...</td>\n",
              "      <td>[minsk, reuters, shadow, disused, soviet, era,...</td>\n",
              "    </tr>\n",
              "    <tr>\n",
              "      <th>21415</th>\n",
              "      <td>Vatican upbeat on possibility of Pope Francis ...</td>\n",
              "      <td>MOSCOW (Reuters) - Vatican Secretary of State ...</td>\n",
              "      <td>worldnews</td>\n",
              "      <td>August 22, 2017</td>\n",
              "      <td>true</td>\n",
              "      <td>[moscow, reuters, vatican, secretary, of, stat...</td>\n",
              "      <td>[moscow, reuters, vatican, secretary, state, c...</td>\n",
              "      <td>[moscow, reuters, vatican, secretary, state, c...</td>\n",
              "    </tr>\n",
              "    <tr>\n",
              "      <th>21416</th>\n",
              "      <td>Indonesia to buy $1.14 billion worth of Russia...</td>\n",
              "      <td>JAKARTA (Reuters) - Indonesia will buy 11 Sukh...</td>\n",
              "      <td>worldnews</td>\n",
              "      <td>August 22, 2017</td>\n",
              "      <td>true</td>\n",
              "      <td>[jakarta, reuters, indonesia, will, buy, 11, s...</td>\n",
              "      <td>[jakarta, reuters, indonesia, buy, 11, sukhoi,...</td>\n",
              "      <td>[jakarta, reuters, indonesia, buy, 11, sukhoi,...</td>\n",
              "    </tr>\n",
              "  </tbody>\n",
              "</table>\n",
              "<p>44898 rows × 8 columns</p>\n",
              "</div>"
            ],
            "text/plain": [
              "                                                   title  ...                                   lemmatizing_text\n",
              "0       Donald Trump Sends Out Embarrassing New Year’...  ...  [donald, trump, wish, american, happy, new, ye...\n",
              "1       Drunk Bragging Trump Staffer Started Russian ...  ...  [house, intelligence, committee, chairman, dev...\n",
              "2       Sheriff David Clarke Becomes An Internet Joke...  ...  [friday, revealed, former, milwaukee, sheriff,...\n",
              "3       Trump Is So Obsessed He Even Has Obama’s Name...  ...  [christmas, day, donald, trump, announced, wou...\n",
              "4       Pope Francis Just Called Out Donald Trump Dur...  ...  [pope, francis, used, annual, christmas, day, ...\n",
              "...                                                  ...  ...                                                ...\n",
              "21412  'Fully committed' NATO backs new U.S. approach...  ...  [brussels, reuters, nato, ally, tuesday, welco...\n",
              "21413  LexisNexis withdrew two products from Chinese ...  ...  [london, reuters, lexisnexis, provider, legal,...\n",
              "21414  Minsk cultural hub becomes haven from authorities  ...  [minsk, reuters, shadow, disused, soviet, era,...\n",
              "21415  Vatican upbeat on possibility of Pope Francis ...  ...  [moscow, reuters, vatican, secretary, state, c...\n",
              "21416  Indonesia to buy $1.14 billion worth of Russia...  ...  [jakarta, reuters, indonesia, buy, 11, sukhoi,...\n",
              "\n",
              "[44898 rows x 8 columns]"
            ]
          },
          "metadata": {
            "tags": []
          },
          "execution_count": 49
        }
      ]
    },
    {
      "cell_type": "code",
      "metadata": {
        "id": "VqVgCIFUgiMs",
        "colab_type": "code",
        "colab": {}
      },
      "source": [
        "from sklearn.preprocessing import LabelEncoder\n",
        "\n",
        "# Step 1: Label-encode data set\n",
        "label_encoder = LabelEncoder()\n",
        "label_encoder.fit(y)\n",
        "encoded_y = label_encoder.transform(y)"
      ],
      "execution_count": 169,
      "outputs": []
    },
    {
      "cell_type": "code",
      "metadata": {
        "id": "mwrVLvB5g0EA",
        "colab_type": "code",
        "colab": {
          "base_uri": "https://localhost:8080/",
          "height": 50
        },
        "outputId": "acd82d5a-e451-4f07-d9bc-2ffab0a7b3d1"
      },
      "source": [
        "encoded_y, y"
      ],
      "execution_count": 170,
      "outputs": [
        {
          "output_type": "execute_result",
          "data": {
            "text/plain": [
              "(array([0, 0, 0, ..., 1, 1, 1]),\n",
              " array(['fake', 'fake', 'fake', ..., 'true', 'true', 'true'], dtype=object))"
            ]
          },
          "metadata": {
            "tags": []
          },
          "execution_count": 170
        }
      ]
    },
    {
      "cell_type": "code",
      "metadata": {
        "id": "9e4i9eM5g_YJ",
        "colab_type": "code",
        "colab": {
          "base_uri": "https://localhost:8080/",
          "height": 134
        },
        "outputId": "700777b7-c380-4ba3-ed7a-2a3862888a7b"
      },
      "source": [
        "from keras.utils import to_categorical\n",
        "\n",
        "# Step 2: One-hot encoding\n",
        "one_hot_y = to_categorical(encoded_y)\n",
        "one_hot_y"
      ],
      "execution_count": 171,
      "outputs": [
        {
          "output_type": "execute_result",
          "data": {
            "text/plain": [
              "array([[1., 0.],\n",
              "       [1., 0.],\n",
              "       [1., 0.],\n",
              "       ...,\n",
              "       [0., 1.],\n",
              "       [0., 1.],\n",
              "       [0., 1.]], dtype=float32)"
            ]
          },
          "metadata": {
            "tags": []
          },
          "execution_count": 171
        }
      ]
    },
    {
      "cell_type": "code",
      "metadata": {
        "id": "iph64fPJhZ1g",
        "colab_type": "code",
        "colab": {}
      },
      "source": [
        "from sklearn.model_selection import train_test_split\n",
        "\n",
        "X_train, X_test, y_train, y_test = train_test_split(X, encoded_y)"
      ],
      "execution_count": 172,
      "outputs": []
    },
    {
      "cell_type": "code",
      "metadata": {
        "id": "pLd3iCMnh2uI",
        "colab_type": "code",
        "colab": {}
      },
      "source": [
        "from tensorflow.keras.utils import to_categorical"
      ],
      "execution_count": 173,
      "outputs": []
    },
    {
      "cell_type": "code",
      "metadata": {
        "id": "THVYWAlliQeX",
        "colab_type": "code",
        "colab": {
          "base_uri": "https://localhost:8080/",
          "height": 34
        },
        "outputId": "45b9290f-13d8-40d8-9632-800b015b37f1"
      },
      "source": [
        "y_train"
      ],
      "execution_count": 174,
      "outputs": [
        {
          "output_type": "execute_result",
          "data": {
            "text/plain": [
              "array([1, 0, 1, ..., 1, 0, 1])"
            ]
          },
          "metadata": {
            "tags": []
          },
          "execution_count": 174
        }
      ]
    },
    {
      "cell_type": "code",
      "metadata": {
        "id": "ogZ0MzqDkYoW",
        "colab_type": "code",
        "colab": {
          "base_uri": "https://localhost:8080/",
          "height": 34
        },
        "outputId": "463416d5-4095-4999-b788-33e1f8cb2d10"
      },
      "source": [
        "X_train.shape"
      ],
      "execution_count": 175,
      "outputs": [
        {
          "output_type": "execute_result",
          "data": {
            "text/plain": [
              "(33673, 122002)"
            ]
          },
          "metadata": {
            "tags": []
          },
          "execution_count": 175
        }
      ]
    },
    {
      "cell_type": "code",
      "metadata": {
        "id": "YwTTUpw9kcU7",
        "colab_type": "code",
        "colab": {
          "base_uri": "https://localhost:8080/",
          "height": 50
        },
        "outputId": "21782023-fd85-4721-9e92-79542b569e1a"
      },
      "source": [
        "X_train"
      ],
      "execution_count": 176,
      "outputs": [
        {
          "output_type": "execute_result",
          "data": {
            "text/plain": [
              "<33673x122002 sparse matrix of type '<class 'numpy.float64'>'\n",
              "\twith 7051894 stored elements in Compressed Sparse Row format>"
            ]
          },
          "metadata": {
            "tags": []
          },
          "execution_count": 176
        }
      ]
    },
    {
      "cell_type": "code",
      "metadata": {
        "id": "C3vbLhcziSsu",
        "colab_type": "code",
        "colab": {
          "base_uri": "https://localhost:8080/",
          "height": 34
        },
        "outputId": "6d91c162-6122-48f5-ecd0-b4fa85d7696f"
      },
      "source": [
        "y_test"
      ],
      "execution_count": 177,
      "outputs": [
        {
          "output_type": "execute_result",
          "data": {
            "text/plain": [
              "array([0, 0, 0, ..., 1, 0, 0])"
            ]
          },
          "metadata": {
            "tags": []
          },
          "execution_count": 177
        }
      ]
    },
    {
      "cell_type": "code",
      "metadata": {
        "id": "ai40d-p5h2xE",
        "colab_type": "code",
        "colab": {
          "base_uri": "https://localhost:8080/",
          "height": 134
        },
        "outputId": "03f29d9b-f3a1-4df2-d598-10245bcf2372"
      },
      "source": [
        "# One-hot encoding\n",
        "y_train_categorical = to_categorical(y_train)\n",
        "y_test_categorical = to_categorical(y_test)\n",
        "y_train_categorical"
      ],
      "execution_count": 178,
      "outputs": [
        {
          "output_type": "execute_result",
          "data": {
            "text/plain": [
              "array([[0., 1.],\n",
              "       [1., 0.],\n",
              "       [0., 1.],\n",
              "       ...,\n",
              "       [0., 1.],\n",
              "       [1., 0.],\n",
              "       [0., 1.]], dtype=float32)"
            ]
          },
          "metadata": {
            "tags": []
          },
          "execution_count": 178
        }
      ]
    },
    {
      "cell_type": "code",
      "metadata": {
        "id": "TKZjW5nejRh5",
        "colab_type": "code",
        "colab": {}
      },
      "source": [
        ""
      ],
      "execution_count": null,
      "outputs": []
    },
    {
      "cell_type": "code",
      "metadata": {
        "id": "y5OZtXZuiqgG",
        "colab_type": "code",
        "colab": {}
      },
      "source": [
        "from tensorflow.keras.models import Sequential\n",
        "\n",
        "model = Sequential()\n",
        "from tensorflow.keras.layers import Dense\n",
        "number_inputs = 122002\n",
        "number_hidden_nodes = 4\n",
        "model.add(Dense(units=number_hidden_nodes,\n",
        "                activation='relu', input_dim=number_inputs))\n",
        "number_classes = 2\n",
        "model.add(Dense(units=number_classes, activation='softmax'))"
      ],
      "execution_count": 185,
      "outputs": []
    },
    {
      "cell_type": "code",
      "metadata": {
        "id": "CNzFsDvgiqjl",
        "colab_type": "code",
        "colab": {}
      },
      "source": [
        "X_train.sort_indices()"
      ],
      "execution_count": 186,
      "outputs": []
    },
    {
      "cell_type": "code",
      "metadata": {
        "id": "fl6AlxKJivnY",
        "colab_type": "code",
        "colab": {}
      },
      "source": [
        "X_test.sort_indices()"
      ],
      "execution_count": 187,
      "outputs": []
    },
    {
      "cell_type": "code",
      "metadata": {
        "id": "q94Ajs-Oi46D",
        "colab_type": "code",
        "colab": {
          "base_uri": "https://localhost:8080/",
          "height": 218
        },
        "outputId": "9c54dcc2-c059-4780-965d-4ed24855ac35"
      },
      "source": [
        "model.summary()"
      ],
      "execution_count": 188,
      "outputs": [
        {
          "output_type": "stream",
          "text": [
            "Model: \"sequential_8\"\n",
            "_________________________________________________________________\n",
            "Layer (type)                 Output Shape              Param #   \n",
            "=================================================================\n",
            "dense_17 (Dense)             (None, 4)                 488012    \n",
            "_________________________________________________________________\n",
            "dense_18 (Dense)             (None, 2)                 10        \n",
            "=================================================================\n",
            "Total params: 488,022\n",
            "Trainable params: 488,022\n",
            "Non-trainable params: 0\n",
            "_________________________________________________________________\n"
          ],
          "name": "stdout"
        }
      ]
    },
    {
      "cell_type": "code",
      "metadata": {
        "id": "lP6-vJE3i49M",
        "colab_type": "code",
        "colab": {}
      },
      "source": [
        "model.compile(optimizer='adam',\n",
        "              loss='categorical_crossentropy',\n",
        "              metrics=['accuracy'])"
      ],
      "execution_count": 189,
      "outputs": []
    },
    {
      "cell_type": "code",
      "metadata": {
        "id": "Ha9nIqUpjA_8",
        "colab_type": "code",
        "colab": {
          "base_uri": "https://localhost:8080/",
          "height": 370
        },
        "outputId": "a3b5f1bf-9dfb-47e4-bfe3-9c5bbbc61644"
      },
      "source": [
        "model.fit(\n",
        "    X_train,\n",
        "    y_train_categorical,\n",
        "    epochs=10,\n",
        "    shuffle=True,\n",
        "    verbose=2\n",
        ")"
      ],
      "execution_count": 190,
      "outputs": [
        {
          "output_type": "stream",
          "text": [
            "Epoch 1/10\n",
            "1053/1053 - 2s - loss: 0.2537 - accuracy: 0.9370\n",
            "Epoch 2/10\n",
            "1053/1053 - 2s - loss: 0.0513 - accuracy: 0.9894\n",
            "Epoch 3/10\n",
            "1053/1053 - 2s - loss: 0.0210 - accuracy: 0.9971\n",
            "Epoch 4/10\n",
            "1053/1053 - 2s - loss: 0.0099 - accuracy: 0.9989\n",
            "Epoch 5/10\n",
            "1053/1053 - 2s - loss: 0.0050 - accuracy: 0.9995\n",
            "Epoch 6/10\n",
            "1053/1053 - 2s - loss: 0.0027 - accuracy: 0.9998\n",
            "Epoch 7/10\n",
            "1053/1053 - 2s - loss: 0.0015 - accuracy: 0.9999\n",
            "Epoch 8/10\n",
            "1053/1053 - 2s - loss: 9.4166e-04 - accuracy: 0.9999\n",
            "Epoch 9/10\n",
            "1053/1053 - 2s - loss: 5.7904e-04 - accuracy: 0.9999\n",
            "Epoch 10/10\n",
            "1053/1053 - 2s - loss: 3.9631e-04 - accuracy: 0.9999\n"
          ],
          "name": "stdout"
        },
        {
          "output_type": "execute_result",
          "data": {
            "text/plain": [
              "<tensorflow.python.keras.callbacks.History at 0x7f9126e9d6d8>"
            ]
          },
          "metadata": {
            "tags": []
          },
          "execution_count": 190
        }
      ]
    },
    {
      "cell_type": "code",
      "metadata": {
        "id": "JHa4ZpV3jBDM",
        "colab_type": "code",
        "colab": {
          "base_uri": "https://localhost:8080/",
          "height": 50
        },
        "outputId": "516e11ce-b2b4-479e-8b73-06fee46cfeab"
      },
      "source": [
        "# Evaluate the model using the testing data\n",
        "model_loss, model_accuracy = model.evaluate(\n",
        "    X_test, y_test_categorical, verbose=2)\n",
        "print(f\"Loss: {model_loss}, Accuracy: {model_accuracy}\")"
      ],
      "execution_count": 191,
      "outputs": [
        {
          "output_type": "stream",
          "text": [
            "351/351 - 0s - loss: 0.0187 - accuracy: 0.9939\n",
            "Loss: 0.01871364563703537, Accuracy: 0.9939420819282532\n"
          ],
          "name": "stdout"
        }
      ]
    },
    {
      "cell_type": "code",
      "metadata": {
        "id": "gjwQu13rv_J-",
        "colab_type": "code",
        "colab": {}
      },
      "source": [
        "# use this to train our new dataset from scraping the web\n",
        "# new_data = np.array([[0.2, 0.3, 0.4]])\n",
        "# print(f\"Predicted class: {model.predict_classes(new_data)}\")"
      ],
      "execution_count": 192,
      "outputs": []
    }
  ]
}