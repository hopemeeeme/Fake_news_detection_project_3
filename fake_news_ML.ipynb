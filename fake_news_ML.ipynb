{
  "nbformat": 4,
  "nbformat_minor": 0,
  "metadata": {
    "kernelspec": {
      "display_name": "Python 3",
      "language": "python",
      "name": "python3"
    },
    "language_info": {
      "codemirror_mode": {
        "name": "ipython",
        "version": 3
      },
      "file_extension": ".py",
      "mimetype": "text/x-python",
      "name": "python",
      "nbconvert_exporter": "python",
      "pygments_lexer": "ipython3",
      "version": "3.7.4"
    },
    "colab": {
      "name": "fake_news_ML (2).ipynb",
      "provenance": [],
      "collapsed_sections": []
    }
  },
  "cells": [
    {
      "cell_type": "code",
      "metadata": {
        "id": "b8oTFLmvbrVg",
        "colab_type": "code",
        "colab": {
          "base_uri": "https://localhost:8080/",
          "height": 254
        },
        "outputId": "561412fe-3136-434e-d2d8-1c53a0fcbd7f"
      },
      "source": [
        "# Install Java, Spark, and Findspark\n",
        "!apt-get update\n",
        "!apt-get install openjdk-8-jdk-headless -qq > /dev/null\n",
        "!wget -q https://downloads.apache.org/spark/spark-3.0.0/spark-3.0.0-bin-hadoop2.7.tgz\n",
        "!tar xf spark-3.0.0-bin-hadoop2.7.tgz\n",
        "!pip install -q findspark\n",
        "\n",
        "# Set Environment Variables\n",
        "import os\n",
        "os.environ[\"JAVA_HOME\"] = \"/usr/lib/jvm/java-8-openjdk-amd64\"\n",
        "os.environ[\"SPARK_HOME\"] = \"/content/spark-3.0.0-bin-hadoop2.7\"\n",
        "\n",
        "# Start a SparkSession\n",
        "import findspark\n",
        "findspark.init()"
      ],
      "execution_count": 1,
      "outputs": [
        {
          "output_type": "stream",
          "text": [
            "\r0% [Working]\r            \rIgn:1 https://developer.download.nvidia.com/compute/cuda/repos/ubuntu1804/x86_64  InRelease\n",
            "\r0% [Connecting to archive.ubuntu.com] [Connecting to security.ubuntu.com] [Conn\r                                                                               \rIgn:2 https://developer.download.nvidia.com/compute/machine-learning/repos/ubuntu1804/x86_64  InRelease\n",
            "\r0% [Connecting to archive.ubuntu.com] [Connecting to security.ubuntu.com] [Conn\r                                                                               \rHit:3 https://developer.download.nvidia.com/compute/cuda/repos/ubuntu1804/x86_64  Release\n",
            "\r0% [Connecting to archive.ubuntu.com] [Connecting to security.ubuntu.com] [Conn\r0% [Release.gpg gpgv 697 B] [Connecting to archive.ubuntu.com] [Connecting to s\r                                                                               \rHit:4 https://developer.download.nvidia.com/compute/machine-learning/repos/ubuntu1804/x86_64  Release\n",
            "\r0% [Release.gpg gpgv 697 B] [Connecting to archive.ubuntu.com] [Connecting to s\r                                                                               \rHit:5 https://cloud.r-project.org/bin/linux/ubuntu bionic-cran35/ InRelease\n",
            "Hit:6 http://ppa.launchpad.net/graphics-drivers/ppa/ubuntu bionic InRelease\n",
            "Hit:8 http://archive.ubuntu.com/ubuntu bionic InRelease\n",
            "Get:9 http://security.ubuntu.com/ubuntu bionic-security InRelease [88.7 kB]\n",
            "Get:11 http://archive.ubuntu.com/ubuntu bionic-updates InRelease [88.7 kB]\n",
            "Hit:12 http://ppa.launchpad.net/marutter/c2d4u3.5/ubuntu bionic InRelease\n",
            "Get:13 http://archive.ubuntu.com/ubuntu bionic-backports InRelease [74.6 kB]\n",
            "Fetched 252 kB in 2s (129 kB/s)\n",
            "Reading package lists... Done\n"
          ],
          "name": "stdout"
        }
      ]
    },
    {
      "cell_type": "code",
      "metadata": {
        "id": "SESrxrYVbX1d",
        "colab_type": "code",
        "colab": {}
      },
      "source": [
        "import pandas as pd\n",
        "import string\n",
        "import re\n",
        "import numpy as np\n",
        "import matplotlib.pyplot as plt\n",
        "import nltk\n",
        "from google.colab import files"
      ],
      "execution_count": 2,
      "outputs": []
    },
    {
      "cell_type": "code",
      "metadata": {
        "id": "Sue9f6CsbX1h",
        "colab_type": "code",
        "colab": {}
      },
      "source": [
        "df1 = pd.read_csv(\"Fake.csv\")\n",
        "df2 = pd.read_csv(\"True.csv\")\n",
        "df3 = pd.read_csv(\"train.csv\")"
      ],
      "execution_count": 3,
      "outputs": []
    },
    {
      "cell_type": "code",
      "metadata": {
        "id": "Ifn2ekfIbX1m",
        "colab_type": "code",
        "colab": {
          "base_uri": "https://localhost:8080/",
          "height": 198
        },
        "outputId": "61f469c8-2b3a-4c21-d319-3d39caf04446"
      },
      "source": [
        "df2.head()"
      ],
      "execution_count": 4,
      "outputs": [
        {
          "output_type": "execute_result",
          "data": {
            "text/html": [
              "<div>\n",
              "<style scoped>\n",
              "    .dataframe tbody tr th:only-of-type {\n",
              "        vertical-align: middle;\n",
              "    }\n",
              "\n",
              "    .dataframe tbody tr th {\n",
              "        vertical-align: top;\n",
              "    }\n",
              "\n",
              "    .dataframe thead th {\n",
              "        text-align: right;\n",
              "    }\n",
              "</style>\n",
              "<table border=\"1\" class=\"dataframe\">\n",
              "  <thead>\n",
              "    <tr style=\"text-align: right;\">\n",
              "      <th></th>\n",
              "      <th>title</th>\n",
              "      <th>text</th>\n",
              "      <th>subject</th>\n",
              "      <th>date</th>\n",
              "    </tr>\n",
              "  </thead>\n",
              "  <tbody>\n",
              "    <tr>\n",
              "      <th>0</th>\n",
              "      <td>As U.S. budget fight looms, Republicans flip t...</td>\n",
              "      <td>WASHINGTON (Reuters) - The head of a conservat...</td>\n",
              "      <td>politicsNews</td>\n",
              "      <td>December 31, 2017</td>\n",
              "    </tr>\n",
              "    <tr>\n",
              "      <th>1</th>\n",
              "      <td>U.S. military to accept transgender recruits o...</td>\n",
              "      <td>WASHINGTON (Reuters) - Transgender people will...</td>\n",
              "      <td>politicsNews</td>\n",
              "      <td>December 29, 2017</td>\n",
              "    </tr>\n",
              "    <tr>\n",
              "      <th>2</th>\n",
              "      <td>Senior U.S. Republican senator: 'Let Mr. Muell...</td>\n",
              "      <td>WASHINGTON (Reuters) - The special counsel inv...</td>\n",
              "      <td>politicsNews</td>\n",
              "      <td>December 31, 2017</td>\n",
              "    </tr>\n",
              "    <tr>\n",
              "      <th>3</th>\n",
              "      <td>FBI Russia probe helped by Australian diplomat...</td>\n",
              "      <td>WASHINGTON (Reuters) - Trump campaign adviser ...</td>\n",
              "      <td>politicsNews</td>\n",
              "      <td>December 30, 2017</td>\n",
              "    </tr>\n",
              "    <tr>\n",
              "      <th>4</th>\n",
              "      <td>Trump wants Postal Service to charge 'much mor...</td>\n",
              "      <td>SEATTLE/WASHINGTON (Reuters) - President Donal...</td>\n",
              "      <td>politicsNews</td>\n",
              "      <td>December 29, 2017</td>\n",
              "    </tr>\n",
              "  </tbody>\n",
              "</table>\n",
              "</div>"
            ],
            "text/plain": [
              "                                               title  ...                date\n",
              "0  As U.S. budget fight looms, Republicans flip t...  ...  December 31, 2017 \n",
              "1  U.S. military to accept transgender recruits o...  ...  December 29, 2017 \n",
              "2  Senior U.S. Republican senator: 'Let Mr. Muell...  ...  December 31, 2017 \n",
              "3  FBI Russia probe helped by Australian diplomat...  ...  December 30, 2017 \n",
              "4  Trump wants Postal Service to charge 'much mor...  ...  December 29, 2017 \n",
              "\n",
              "[5 rows x 4 columns]"
            ]
          },
          "metadata": {
            "tags": []
          },
          "execution_count": 4
        }
      ]
    },
    {
      "cell_type": "code",
      "metadata": {
        "id": "5YDPlGn2bX1p",
        "colab_type": "code",
        "colab": {}
      },
      "source": [
        "df1['label'] = \"0\"\n",
        "df2['label'] = \"1\""
      ],
      "execution_count": 5,
      "outputs": []
    },
    {
      "cell_type": "code",
      "metadata": {
        "id": "qF6-rAm1bX1r",
        "colab_type": "code",
        "colab": {
          "base_uri": "https://localhost:8080/",
          "height": 198
        },
        "outputId": "25f49ee0-562d-4bbe-a2d9-0c7acac4318b"
      },
      "source": [
        "combine_df = pd.concat([df1,df2])\n",
        "combine_df.head()"
      ],
      "execution_count": 6,
      "outputs": [
        {
          "output_type": "execute_result",
          "data": {
            "text/html": [
              "<div>\n",
              "<style scoped>\n",
              "    .dataframe tbody tr th:only-of-type {\n",
              "        vertical-align: middle;\n",
              "    }\n",
              "\n",
              "    .dataframe tbody tr th {\n",
              "        vertical-align: top;\n",
              "    }\n",
              "\n",
              "    .dataframe thead th {\n",
              "        text-align: right;\n",
              "    }\n",
              "</style>\n",
              "<table border=\"1\" class=\"dataframe\">\n",
              "  <thead>\n",
              "    <tr style=\"text-align: right;\">\n",
              "      <th></th>\n",
              "      <th>title</th>\n",
              "      <th>text</th>\n",
              "      <th>subject</th>\n",
              "      <th>date</th>\n",
              "      <th>label</th>\n",
              "    </tr>\n",
              "  </thead>\n",
              "  <tbody>\n",
              "    <tr>\n",
              "      <th>0</th>\n",
              "      <td>Donald Trump Sends Out Embarrassing New Year’...</td>\n",
              "      <td>Donald Trump just couldn t wish all Americans ...</td>\n",
              "      <td>News</td>\n",
              "      <td>December 31, 2017</td>\n",
              "      <td>0</td>\n",
              "    </tr>\n",
              "    <tr>\n",
              "      <th>1</th>\n",
              "      <td>Drunk Bragging Trump Staffer Started Russian ...</td>\n",
              "      <td>House Intelligence Committee Chairman Devin Nu...</td>\n",
              "      <td>News</td>\n",
              "      <td>December 31, 2017</td>\n",
              "      <td>0</td>\n",
              "    </tr>\n",
              "    <tr>\n",
              "      <th>2</th>\n",
              "      <td>Sheriff David Clarke Becomes An Internet Joke...</td>\n",
              "      <td>On Friday, it was revealed that former Milwauk...</td>\n",
              "      <td>News</td>\n",
              "      <td>December 30, 2017</td>\n",
              "      <td>0</td>\n",
              "    </tr>\n",
              "    <tr>\n",
              "      <th>3</th>\n",
              "      <td>Trump Is So Obsessed He Even Has Obama’s Name...</td>\n",
              "      <td>On Christmas day, Donald Trump announced that ...</td>\n",
              "      <td>News</td>\n",
              "      <td>December 29, 2017</td>\n",
              "      <td>0</td>\n",
              "    </tr>\n",
              "    <tr>\n",
              "      <th>4</th>\n",
              "      <td>Pope Francis Just Called Out Donald Trump Dur...</td>\n",
              "      <td>Pope Francis used his annual Christmas Day mes...</td>\n",
              "      <td>News</td>\n",
              "      <td>December 25, 2017</td>\n",
              "      <td>0</td>\n",
              "    </tr>\n",
              "  </tbody>\n",
              "</table>\n",
              "</div>"
            ],
            "text/plain": [
              "                                               title  ... label\n",
              "0   Donald Trump Sends Out Embarrassing New Year’...  ...     0\n",
              "1   Drunk Bragging Trump Staffer Started Russian ...  ...     0\n",
              "2   Sheriff David Clarke Becomes An Internet Joke...  ...     0\n",
              "3   Trump Is So Obsessed He Even Has Obama’s Name...  ...     0\n",
              "4   Pope Francis Just Called Out Donald Trump Dur...  ...     0\n",
              "\n",
              "[5 rows x 5 columns]"
            ]
          },
          "metadata": {
            "tags": []
          },
          "execution_count": 6
        }
      ]
    },
    {
      "cell_type": "code",
      "metadata": {
        "id": "z5jcLh0ig10M",
        "colab_type": "code",
        "colab": {}
      },
      "source": [
        "combine_df = combine_df.drop([\"subject\",\"date\"],axis=1)"
      ],
      "execution_count": 7,
      "outputs": []
    },
    {
      "cell_type": "code",
      "metadata": {
        "id": "nPGXnhtZtDQh",
        "colab_type": "code",
        "colab": {
          "base_uri": "https://localhost:8080/",
          "height": 198
        },
        "outputId": "2fbb986e-f413-40d6-adbd-19a8c5e9fd74"
      },
      "source": [
        "df3.head()"
      ],
      "execution_count": 8,
      "outputs": [
        {
          "output_type": "execute_result",
          "data": {
            "text/html": [
              "<div>\n",
              "<style scoped>\n",
              "    .dataframe tbody tr th:only-of-type {\n",
              "        vertical-align: middle;\n",
              "    }\n",
              "\n",
              "    .dataframe tbody tr th {\n",
              "        vertical-align: top;\n",
              "    }\n",
              "\n",
              "    .dataframe thead th {\n",
              "        text-align: right;\n",
              "    }\n",
              "</style>\n",
              "<table border=\"1\" class=\"dataframe\">\n",
              "  <thead>\n",
              "    <tr style=\"text-align: right;\">\n",
              "      <th></th>\n",
              "      <th>id</th>\n",
              "      <th>title</th>\n",
              "      <th>author</th>\n",
              "      <th>text</th>\n",
              "      <th>label</th>\n",
              "    </tr>\n",
              "  </thead>\n",
              "  <tbody>\n",
              "    <tr>\n",
              "      <th>0</th>\n",
              "      <td>0</td>\n",
              "      <td>House Dem Aide: We Didn’t Even See Comey’s Let...</td>\n",
              "      <td>Darrell Lucus</td>\n",
              "      <td>House Dem Aide: We Didn’t Even See Comey’s Let...</td>\n",
              "      <td>1</td>\n",
              "    </tr>\n",
              "    <tr>\n",
              "      <th>1</th>\n",
              "      <td>1</td>\n",
              "      <td>FLYNN: Hillary Clinton, Big Woman on Campus - ...</td>\n",
              "      <td>Daniel J. Flynn</td>\n",
              "      <td>Ever get the feeling your life circles the rou...</td>\n",
              "      <td>0</td>\n",
              "    </tr>\n",
              "    <tr>\n",
              "      <th>2</th>\n",
              "      <td>2</td>\n",
              "      <td>Why the Truth Might Get You Fired</td>\n",
              "      <td>Consortiumnews.com</td>\n",
              "      <td>Why the Truth Might Get You Fired October 29, ...</td>\n",
              "      <td>1</td>\n",
              "    </tr>\n",
              "    <tr>\n",
              "      <th>3</th>\n",
              "      <td>3</td>\n",
              "      <td>15 Civilians Killed In Single US Airstrike Hav...</td>\n",
              "      <td>Jessica Purkiss</td>\n",
              "      <td>Videos 15 Civilians Killed In Single US Airstr...</td>\n",
              "      <td>1</td>\n",
              "    </tr>\n",
              "    <tr>\n",
              "      <th>4</th>\n",
              "      <td>4</td>\n",
              "      <td>Iranian woman jailed for fictional unpublished...</td>\n",
              "      <td>Howard Portnoy</td>\n",
              "      <td>Print \\nAn Iranian woman has been sentenced to...</td>\n",
              "      <td>1</td>\n",
              "    </tr>\n",
              "  </tbody>\n",
              "</table>\n",
              "</div>"
            ],
            "text/plain": [
              "   id  ... label\n",
              "0   0  ...     1\n",
              "1   1  ...     0\n",
              "2   2  ...     1\n",
              "3   3  ...     1\n",
              "4   4  ...     1\n",
              "\n",
              "[5 rows x 5 columns]"
            ]
          },
          "metadata": {
            "tags": []
          },
          "execution_count": 8
        }
      ]
    },
    {
      "cell_type": "code",
      "metadata": {
        "id": "JVrxkCVTt5pB",
        "colab_type": "code",
        "colab": {}
      },
      "source": [
        "df3 = df3.replace({'label': {0: \"True\", 1: \"Fake\"}})"
      ],
      "execution_count": 9,
      "outputs": []
    },
    {
      "cell_type": "code",
      "metadata": {
        "id": "aAISUKqquGiQ",
        "colab_type": "code",
        "colab": {
          "base_uri": "https://localhost:8080/",
          "height": 198
        },
        "outputId": "11b039f2-17e6-4fd0-cc73-cc13658015ce"
      },
      "source": [
        "df3.head()"
      ],
      "execution_count": 10,
      "outputs": [
        {
          "output_type": "execute_result",
          "data": {
            "text/html": [
              "<div>\n",
              "<style scoped>\n",
              "    .dataframe tbody tr th:only-of-type {\n",
              "        vertical-align: middle;\n",
              "    }\n",
              "\n",
              "    .dataframe tbody tr th {\n",
              "        vertical-align: top;\n",
              "    }\n",
              "\n",
              "    .dataframe thead th {\n",
              "        text-align: right;\n",
              "    }\n",
              "</style>\n",
              "<table border=\"1\" class=\"dataframe\">\n",
              "  <thead>\n",
              "    <tr style=\"text-align: right;\">\n",
              "      <th></th>\n",
              "      <th>id</th>\n",
              "      <th>title</th>\n",
              "      <th>author</th>\n",
              "      <th>text</th>\n",
              "      <th>label</th>\n",
              "    </tr>\n",
              "  </thead>\n",
              "  <tbody>\n",
              "    <tr>\n",
              "      <th>0</th>\n",
              "      <td>0</td>\n",
              "      <td>House Dem Aide: We Didn’t Even See Comey’s Let...</td>\n",
              "      <td>Darrell Lucus</td>\n",
              "      <td>House Dem Aide: We Didn’t Even See Comey’s Let...</td>\n",
              "      <td>Fake</td>\n",
              "    </tr>\n",
              "    <tr>\n",
              "      <th>1</th>\n",
              "      <td>1</td>\n",
              "      <td>FLYNN: Hillary Clinton, Big Woman on Campus - ...</td>\n",
              "      <td>Daniel J. Flynn</td>\n",
              "      <td>Ever get the feeling your life circles the rou...</td>\n",
              "      <td>True</td>\n",
              "    </tr>\n",
              "    <tr>\n",
              "      <th>2</th>\n",
              "      <td>2</td>\n",
              "      <td>Why the Truth Might Get You Fired</td>\n",
              "      <td>Consortiumnews.com</td>\n",
              "      <td>Why the Truth Might Get You Fired October 29, ...</td>\n",
              "      <td>Fake</td>\n",
              "    </tr>\n",
              "    <tr>\n",
              "      <th>3</th>\n",
              "      <td>3</td>\n",
              "      <td>15 Civilians Killed In Single US Airstrike Hav...</td>\n",
              "      <td>Jessica Purkiss</td>\n",
              "      <td>Videos 15 Civilians Killed In Single US Airstr...</td>\n",
              "      <td>Fake</td>\n",
              "    </tr>\n",
              "    <tr>\n",
              "      <th>4</th>\n",
              "      <td>4</td>\n",
              "      <td>Iranian woman jailed for fictional unpublished...</td>\n",
              "      <td>Howard Portnoy</td>\n",
              "      <td>Print \\nAn Iranian woman has been sentenced to...</td>\n",
              "      <td>Fake</td>\n",
              "    </tr>\n",
              "  </tbody>\n",
              "</table>\n",
              "</div>"
            ],
            "text/plain": [
              "   id  ... label\n",
              "0   0  ...  Fake\n",
              "1   1  ...  True\n",
              "2   2  ...  Fake\n",
              "3   3  ...  Fake\n",
              "4   4  ...  Fake\n",
              "\n",
              "[5 rows x 5 columns]"
            ]
          },
          "metadata": {
            "tags": []
          },
          "execution_count": 10
        }
      ]
    },
    {
      "cell_type": "code",
      "metadata": {
        "id": "sGNbXu_xuNE9",
        "colab_type": "code",
        "colab": {
          "base_uri": "https://localhost:8080/",
          "height": 198
        },
        "outputId": "1ec1da0a-cadd-4b1d-a42e-e562e1970ecc"
      },
      "source": [
        "df3 = df3.replace({'label': {\"True\": 1, \"Fake\":0 }})\n",
        "df3.head()"
      ],
      "execution_count": 11,
      "outputs": [
        {
          "output_type": "execute_result",
          "data": {
            "text/html": [
              "<div>\n",
              "<style scoped>\n",
              "    .dataframe tbody tr th:only-of-type {\n",
              "        vertical-align: middle;\n",
              "    }\n",
              "\n",
              "    .dataframe tbody tr th {\n",
              "        vertical-align: top;\n",
              "    }\n",
              "\n",
              "    .dataframe thead th {\n",
              "        text-align: right;\n",
              "    }\n",
              "</style>\n",
              "<table border=\"1\" class=\"dataframe\">\n",
              "  <thead>\n",
              "    <tr style=\"text-align: right;\">\n",
              "      <th></th>\n",
              "      <th>id</th>\n",
              "      <th>title</th>\n",
              "      <th>author</th>\n",
              "      <th>text</th>\n",
              "      <th>label</th>\n",
              "    </tr>\n",
              "  </thead>\n",
              "  <tbody>\n",
              "    <tr>\n",
              "      <th>0</th>\n",
              "      <td>0</td>\n",
              "      <td>House Dem Aide: We Didn’t Even See Comey’s Let...</td>\n",
              "      <td>Darrell Lucus</td>\n",
              "      <td>House Dem Aide: We Didn’t Even See Comey’s Let...</td>\n",
              "      <td>0</td>\n",
              "    </tr>\n",
              "    <tr>\n",
              "      <th>1</th>\n",
              "      <td>1</td>\n",
              "      <td>FLYNN: Hillary Clinton, Big Woman on Campus - ...</td>\n",
              "      <td>Daniel J. Flynn</td>\n",
              "      <td>Ever get the feeling your life circles the rou...</td>\n",
              "      <td>1</td>\n",
              "    </tr>\n",
              "    <tr>\n",
              "      <th>2</th>\n",
              "      <td>2</td>\n",
              "      <td>Why the Truth Might Get You Fired</td>\n",
              "      <td>Consortiumnews.com</td>\n",
              "      <td>Why the Truth Might Get You Fired October 29, ...</td>\n",
              "      <td>0</td>\n",
              "    </tr>\n",
              "    <tr>\n",
              "      <th>3</th>\n",
              "      <td>3</td>\n",
              "      <td>15 Civilians Killed In Single US Airstrike Hav...</td>\n",
              "      <td>Jessica Purkiss</td>\n",
              "      <td>Videos 15 Civilians Killed In Single US Airstr...</td>\n",
              "      <td>0</td>\n",
              "    </tr>\n",
              "    <tr>\n",
              "      <th>4</th>\n",
              "      <td>4</td>\n",
              "      <td>Iranian woman jailed for fictional unpublished...</td>\n",
              "      <td>Howard Portnoy</td>\n",
              "      <td>Print \\nAn Iranian woman has been sentenced to...</td>\n",
              "      <td>0</td>\n",
              "    </tr>\n",
              "  </tbody>\n",
              "</table>\n",
              "</div>"
            ],
            "text/plain": [
              "   id  ... label\n",
              "0   0  ...     0\n",
              "1   1  ...     1\n",
              "2   2  ...     0\n",
              "3   3  ...     0\n",
              "4   4  ...     0\n",
              "\n",
              "[5 rows x 5 columns]"
            ]
          },
          "metadata": {
            "tags": []
          },
          "execution_count": 11
        }
      ]
    },
    {
      "cell_type": "code",
      "metadata": {
        "id": "ml570_HLhViW",
        "colab_type": "code",
        "colab": {}
      },
      "source": [
        "full_df = pd.concat([combine_df,df3])"
      ],
      "execution_count": 12,
      "outputs": []
    },
    {
      "cell_type": "code",
      "metadata": {
        "id": "z__rLQhmhfl9",
        "colab_type": "code",
        "colab": {}
      },
      "source": [
        "full_df[\"full_text\"] = full_df[\"title\"].combine_first(full_df[\"text\"])"
      ],
      "execution_count": 13,
      "outputs": []
    },
    {
      "cell_type": "code",
      "metadata": {
        "id": "A6lRicy0humg",
        "colab_type": "code",
        "colab": {}
      },
      "source": [
        "full_df = full_df.drop([\"id\",\"author\",\"text\",\"title\"],axis=1)"
      ],
      "execution_count": 14,
      "outputs": []
    },
    {
      "cell_type": "code",
      "metadata": {
        "id": "aqs_JOZuiULU",
        "colab_type": "code",
        "colab": {
          "base_uri": "https://localhost:8080/",
          "height": 407
        },
        "outputId": "946295a7-dd05-4fd1-ea1d-b638751c40aa"
      },
      "source": [
        "full_df"
      ],
      "execution_count": 15,
      "outputs": [
        {
          "output_type": "execute_result",
          "data": {
            "text/html": [
              "<div>\n",
              "<style scoped>\n",
              "    .dataframe tbody tr th:only-of-type {\n",
              "        vertical-align: middle;\n",
              "    }\n",
              "\n",
              "    .dataframe tbody tr th {\n",
              "        vertical-align: top;\n",
              "    }\n",
              "\n",
              "    .dataframe thead th {\n",
              "        text-align: right;\n",
              "    }\n",
              "</style>\n",
              "<table border=\"1\" class=\"dataframe\">\n",
              "  <thead>\n",
              "    <tr style=\"text-align: right;\">\n",
              "      <th></th>\n",
              "      <th>label</th>\n",
              "      <th>full_text</th>\n",
              "    </tr>\n",
              "  </thead>\n",
              "  <tbody>\n",
              "    <tr>\n",
              "      <th>0</th>\n",
              "      <td>0</td>\n",
              "      <td>Donald Trump Sends Out Embarrassing New Year’...</td>\n",
              "    </tr>\n",
              "    <tr>\n",
              "      <th>1</th>\n",
              "      <td>0</td>\n",
              "      <td>Drunk Bragging Trump Staffer Started Russian ...</td>\n",
              "    </tr>\n",
              "    <tr>\n",
              "      <th>2</th>\n",
              "      <td>0</td>\n",
              "      <td>Sheriff David Clarke Becomes An Internet Joke...</td>\n",
              "    </tr>\n",
              "    <tr>\n",
              "      <th>3</th>\n",
              "      <td>0</td>\n",
              "      <td>Trump Is So Obsessed He Even Has Obama’s Name...</td>\n",
              "    </tr>\n",
              "    <tr>\n",
              "      <th>4</th>\n",
              "      <td>0</td>\n",
              "      <td>Pope Francis Just Called Out Donald Trump Dur...</td>\n",
              "    </tr>\n",
              "    <tr>\n",
              "      <th>...</th>\n",
              "      <td>...</td>\n",
              "      <td>...</td>\n",
              "    </tr>\n",
              "    <tr>\n",
              "      <th>20795</th>\n",
              "      <td>1</td>\n",
              "      <td>Rapper T.I.: Trump a ’Poster Child For White S...</td>\n",
              "    </tr>\n",
              "    <tr>\n",
              "      <th>20796</th>\n",
              "      <td>1</td>\n",
              "      <td>N.F.L. Playoffs: Schedule, Matchups and Odds -...</td>\n",
              "    </tr>\n",
              "    <tr>\n",
              "      <th>20797</th>\n",
              "      <td>1</td>\n",
              "      <td>Macy’s Is Said to Receive Takeover Approach by...</td>\n",
              "    </tr>\n",
              "    <tr>\n",
              "      <th>20798</th>\n",
              "      <td>0</td>\n",
              "      <td>NATO, Russia To Hold Parallel Exercises In Bal...</td>\n",
              "    </tr>\n",
              "    <tr>\n",
              "      <th>20799</th>\n",
              "      <td>0</td>\n",
              "      <td>What Keeps the F-35 Alive</td>\n",
              "    </tr>\n",
              "  </tbody>\n",
              "</table>\n",
              "<p>65698 rows × 2 columns</p>\n",
              "</div>"
            ],
            "text/plain": [
              "      label                                          full_text\n",
              "0         0   Donald Trump Sends Out Embarrassing New Year’...\n",
              "1         0   Drunk Bragging Trump Staffer Started Russian ...\n",
              "2         0   Sheriff David Clarke Becomes An Internet Joke...\n",
              "3         0   Trump Is So Obsessed He Even Has Obama’s Name...\n",
              "4         0   Pope Francis Just Called Out Donald Trump Dur...\n",
              "...     ...                                                ...\n",
              "20795     1  Rapper T.I.: Trump a ’Poster Child For White S...\n",
              "20796     1  N.F.L. Playoffs: Schedule, Matchups and Odds -...\n",
              "20797     1  Macy’s Is Said to Receive Takeover Approach by...\n",
              "20798     0  NATO, Russia To Hold Parallel Exercises In Bal...\n",
              "20799     0                          What Keeps the F-35 Alive\n",
              "\n",
              "[65698 rows x 2 columns]"
            ]
          },
          "metadata": {
            "tags": []
          },
          "execution_count": 15
        }
      ]
    },
    {
      "cell_type": "code",
      "metadata": {
        "id": "9fXaeRRMpHvR",
        "colab_type": "code",
        "colab": {}
      },
      "source": [
        "full_df = full_df.reset_index()"
      ],
      "execution_count": 16,
      "outputs": []
    },
    {
      "cell_type": "code",
      "metadata": {
        "id": "jdvMG0dCpiQI",
        "colab_type": "code",
        "colab": {
          "base_uri": "https://localhost:8080/",
          "height": 407
        },
        "outputId": "22fdf155-7a1d-4f85-e46b-d38224f5bf95"
      },
      "source": [
        "full_df"
      ],
      "execution_count": 17,
      "outputs": [
        {
          "output_type": "execute_result",
          "data": {
            "text/html": [
              "<div>\n",
              "<style scoped>\n",
              "    .dataframe tbody tr th:only-of-type {\n",
              "        vertical-align: middle;\n",
              "    }\n",
              "\n",
              "    .dataframe tbody tr th {\n",
              "        vertical-align: top;\n",
              "    }\n",
              "\n",
              "    .dataframe thead th {\n",
              "        text-align: right;\n",
              "    }\n",
              "</style>\n",
              "<table border=\"1\" class=\"dataframe\">\n",
              "  <thead>\n",
              "    <tr style=\"text-align: right;\">\n",
              "      <th></th>\n",
              "      <th>index</th>\n",
              "      <th>label</th>\n",
              "      <th>full_text</th>\n",
              "    </tr>\n",
              "  </thead>\n",
              "  <tbody>\n",
              "    <tr>\n",
              "      <th>0</th>\n",
              "      <td>0</td>\n",
              "      <td>0</td>\n",
              "      <td>Donald Trump Sends Out Embarrassing New Year’...</td>\n",
              "    </tr>\n",
              "    <tr>\n",
              "      <th>1</th>\n",
              "      <td>1</td>\n",
              "      <td>0</td>\n",
              "      <td>Drunk Bragging Trump Staffer Started Russian ...</td>\n",
              "    </tr>\n",
              "    <tr>\n",
              "      <th>2</th>\n",
              "      <td>2</td>\n",
              "      <td>0</td>\n",
              "      <td>Sheriff David Clarke Becomes An Internet Joke...</td>\n",
              "    </tr>\n",
              "    <tr>\n",
              "      <th>3</th>\n",
              "      <td>3</td>\n",
              "      <td>0</td>\n",
              "      <td>Trump Is So Obsessed He Even Has Obama’s Name...</td>\n",
              "    </tr>\n",
              "    <tr>\n",
              "      <th>4</th>\n",
              "      <td>4</td>\n",
              "      <td>0</td>\n",
              "      <td>Pope Francis Just Called Out Donald Trump Dur...</td>\n",
              "    </tr>\n",
              "    <tr>\n",
              "      <th>...</th>\n",
              "      <td>...</td>\n",
              "      <td>...</td>\n",
              "      <td>...</td>\n",
              "    </tr>\n",
              "    <tr>\n",
              "      <th>65693</th>\n",
              "      <td>20795</td>\n",
              "      <td>1</td>\n",
              "      <td>Rapper T.I.: Trump a ’Poster Child For White S...</td>\n",
              "    </tr>\n",
              "    <tr>\n",
              "      <th>65694</th>\n",
              "      <td>20796</td>\n",
              "      <td>1</td>\n",
              "      <td>N.F.L. Playoffs: Schedule, Matchups and Odds -...</td>\n",
              "    </tr>\n",
              "    <tr>\n",
              "      <th>65695</th>\n",
              "      <td>20797</td>\n",
              "      <td>1</td>\n",
              "      <td>Macy’s Is Said to Receive Takeover Approach by...</td>\n",
              "    </tr>\n",
              "    <tr>\n",
              "      <th>65696</th>\n",
              "      <td>20798</td>\n",
              "      <td>0</td>\n",
              "      <td>NATO, Russia To Hold Parallel Exercises In Bal...</td>\n",
              "    </tr>\n",
              "    <tr>\n",
              "      <th>65697</th>\n",
              "      <td>20799</td>\n",
              "      <td>0</td>\n",
              "      <td>What Keeps the F-35 Alive</td>\n",
              "    </tr>\n",
              "  </tbody>\n",
              "</table>\n",
              "<p>65698 rows × 3 columns</p>\n",
              "</div>"
            ],
            "text/plain": [
              "       index label                                          full_text\n",
              "0          0     0   Donald Trump Sends Out Embarrassing New Year’...\n",
              "1          1     0   Drunk Bragging Trump Staffer Started Russian ...\n",
              "2          2     0   Sheriff David Clarke Becomes An Internet Joke...\n",
              "3          3     0   Trump Is So Obsessed He Even Has Obama’s Name...\n",
              "4          4     0   Pope Francis Just Called Out Donald Trump Dur...\n",
              "...      ...   ...                                                ...\n",
              "65693  20795     1  Rapper T.I.: Trump a ’Poster Child For White S...\n",
              "65694  20796     1  N.F.L. Playoffs: Schedule, Matchups and Odds -...\n",
              "65695  20797     1  Macy’s Is Said to Receive Takeover Approach by...\n",
              "65696  20798     0  NATO, Russia To Hold Parallel Exercises In Bal...\n",
              "65697  20799     0                          What Keeps the F-35 Alive\n",
              "\n",
              "[65698 rows x 3 columns]"
            ]
          },
          "metadata": {
            "tags": []
          },
          "execution_count": 17
        }
      ]
    },
    {
      "cell_type": "code",
      "metadata": {
        "id": "QxWFCzCzps-d",
        "colab_type": "code",
        "colab": {
          "base_uri": "https://localhost:8080/",
          "height": 407
        },
        "outputId": "d7f04d07-3eee-4bed-84f6-2e5054c3e103"
      },
      "source": [
        "full_df = full_df.drop([\"index\"],axis=1)\n",
        "full_df"
      ],
      "execution_count": 18,
      "outputs": [
        {
          "output_type": "execute_result",
          "data": {
            "text/html": [
              "<div>\n",
              "<style scoped>\n",
              "    .dataframe tbody tr th:only-of-type {\n",
              "        vertical-align: middle;\n",
              "    }\n",
              "\n",
              "    .dataframe tbody tr th {\n",
              "        vertical-align: top;\n",
              "    }\n",
              "\n",
              "    .dataframe thead th {\n",
              "        text-align: right;\n",
              "    }\n",
              "</style>\n",
              "<table border=\"1\" class=\"dataframe\">\n",
              "  <thead>\n",
              "    <tr style=\"text-align: right;\">\n",
              "      <th></th>\n",
              "      <th>label</th>\n",
              "      <th>full_text</th>\n",
              "    </tr>\n",
              "  </thead>\n",
              "  <tbody>\n",
              "    <tr>\n",
              "      <th>0</th>\n",
              "      <td>0</td>\n",
              "      <td>Donald Trump Sends Out Embarrassing New Year’...</td>\n",
              "    </tr>\n",
              "    <tr>\n",
              "      <th>1</th>\n",
              "      <td>0</td>\n",
              "      <td>Drunk Bragging Trump Staffer Started Russian ...</td>\n",
              "    </tr>\n",
              "    <tr>\n",
              "      <th>2</th>\n",
              "      <td>0</td>\n",
              "      <td>Sheriff David Clarke Becomes An Internet Joke...</td>\n",
              "    </tr>\n",
              "    <tr>\n",
              "      <th>3</th>\n",
              "      <td>0</td>\n",
              "      <td>Trump Is So Obsessed He Even Has Obama’s Name...</td>\n",
              "    </tr>\n",
              "    <tr>\n",
              "      <th>4</th>\n",
              "      <td>0</td>\n",
              "      <td>Pope Francis Just Called Out Donald Trump Dur...</td>\n",
              "    </tr>\n",
              "    <tr>\n",
              "      <th>...</th>\n",
              "      <td>...</td>\n",
              "      <td>...</td>\n",
              "    </tr>\n",
              "    <tr>\n",
              "      <th>65693</th>\n",
              "      <td>1</td>\n",
              "      <td>Rapper T.I.: Trump a ’Poster Child For White S...</td>\n",
              "    </tr>\n",
              "    <tr>\n",
              "      <th>65694</th>\n",
              "      <td>1</td>\n",
              "      <td>N.F.L. Playoffs: Schedule, Matchups and Odds -...</td>\n",
              "    </tr>\n",
              "    <tr>\n",
              "      <th>65695</th>\n",
              "      <td>1</td>\n",
              "      <td>Macy’s Is Said to Receive Takeover Approach by...</td>\n",
              "    </tr>\n",
              "    <tr>\n",
              "      <th>65696</th>\n",
              "      <td>0</td>\n",
              "      <td>NATO, Russia To Hold Parallel Exercises In Bal...</td>\n",
              "    </tr>\n",
              "    <tr>\n",
              "      <th>65697</th>\n",
              "      <td>0</td>\n",
              "      <td>What Keeps the F-35 Alive</td>\n",
              "    </tr>\n",
              "  </tbody>\n",
              "</table>\n",
              "<p>65698 rows × 2 columns</p>\n",
              "</div>"
            ],
            "text/plain": [
              "      label                                          full_text\n",
              "0         0   Donald Trump Sends Out Embarrassing New Year’...\n",
              "1         0   Drunk Bragging Trump Staffer Started Russian ...\n",
              "2         0   Sheriff David Clarke Becomes An Internet Joke...\n",
              "3         0   Trump Is So Obsessed He Even Has Obama’s Name...\n",
              "4         0   Pope Francis Just Called Out Donald Trump Dur...\n",
              "...     ...                                                ...\n",
              "65693     1  Rapper T.I.: Trump a ’Poster Child For White S...\n",
              "65694     1  N.F.L. Playoffs: Schedule, Matchups and Odds -...\n",
              "65695     1  Macy’s Is Said to Receive Takeover Approach by...\n",
              "65696     0  NATO, Russia To Hold Parallel Exercises In Bal...\n",
              "65697     0                          What Keeps the F-35 Alive\n",
              "\n",
              "[65698 rows x 2 columns]"
            ]
          },
          "metadata": {
            "tags": []
          },
          "execution_count": 18
        }
      ]
    },
    {
      "cell_type": "markdown",
      "metadata": {
        "id": "NMzjeCnvbX15",
        "colab_type": "text"
      },
      "source": [
        "# Tokenization"
      ]
    },
    {
      "cell_type": "code",
      "metadata": {
        "id": "GbRQ8sXlbX15",
        "colab_type": "code",
        "colab": {
          "base_uri": "https://localhost:8080/",
          "height": 198
        },
        "outputId": "d4f537ea-fe26-4c91-88ab-e70a9324b625"
      },
      "source": [
        "def tokeniz(text):\n",
        "    token = re.split('\\W+', text)\n",
        "    return token\n",
        "\n",
        "full_df[\"token_text\"] = full_df[\"full_text\"].apply(lambda x:tokeniz(x.lower()))\n",
        "full_df.head()"
      ],
      "execution_count": 19,
      "outputs": [
        {
          "output_type": "execute_result",
          "data": {
            "text/html": [
              "<div>\n",
              "<style scoped>\n",
              "    .dataframe tbody tr th:only-of-type {\n",
              "        vertical-align: middle;\n",
              "    }\n",
              "\n",
              "    .dataframe tbody tr th {\n",
              "        vertical-align: top;\n",
              "    }\n",
              "\n",
              "    .dataframe thead th {\n",
              "        text-align: right;\n",
              "    }\n",
              "</style>\n",
              "<table border=\"1\" class=\"dataframe\">\n",
              "  <thead>\n",
              "    <tr style=\"text-align: right;\">\n",
              "      <th></th>\n",
              "      <th>label</th>\n",
              "      <th>full_text</th>\n",
              "      <th>token_text</th>\n",
              "    </tr>\n",
              "  </thead>\n",
              "  <tbody>\n",
              "    <tr>\n",
              "      <th>0</th>\n",
              "      <td>0</td>\n",
              "      <td>Donald Trump Sends Out Embarrassing New Year’...</td>\n",
              "      <td>[, donald, trump, sends, out, embarrassing, ne...</td>\n",
              "    </tr>\n",
              "    <tr>\n",
              "      <th>1</th>\n",
              "      <td>0</td>\n",
              "      <td>Drunk Bragging Trump Staffer Started Russian ...</td>\n",
              "      <td>[, drunk, bragging, trump, staffer, started, r...</td>\n",
              "    </tr>\n",
              "    <tr>\n",
              "      <th>2</th>\n",
              "      <td>0</td>\n",
              "      <td>Sheriff David Clarke Becomes An Internet Joke...</td>\n",
              "      <td>[, sheriff, david, clarke, becomes, an, intern...</td>\n",
              "    </tr>\n",
              "    <tr>\n",
              "      <th>3</th>\n",
              "      <td>0</td>\n",
              "      <td>Trump Is So Obsessed He Even Has Obama’s Name...</td>\n",
              "      <td>[, trump, is, so, obsessed, he, even, has, oba...</td>\n",
              "    </tr>\n",
              "    <tr>\n",
              "      <th>4</th>\n",
              "      <td>0</td>\n",
              "      <td>Pope Francis Just Called Out Donald Trump Dur...</td>\n",
              "      <td>[, pope, francis, just, called, out, donald, t...</td>\n",
              "    </tr>\n",
              "  </tbody>\n",
              "</table>\n",
              "</div>"
            ],
            "text/plain": [
              "  label  ...                                         token_text\n",
              "0     0  ...  [, donald, trump, sends, out, embarrassing, ne...\n",
              "1     0  ...  [, drunk, bragging, trump, staffer, started, r...\n",
              "2     0  ...  [, sheriff, david, clarke, becomes, an, intern...\n",
              "3     0  ...  [, trump, is, so, obsessed, he, even, has, oba...\n",
              "4     0  ...  [, pope, francis, just, called, out, donald, t...\n",
              "\n",
              "[5 rows x 3 columns]"
            ]
          },
          "metadata": {
            "tags": []
          },
          "execution_count": 19
        }
      ]
    },
    {
      "cell_type": "markdown",
      "metadata": {
        "id": "4HjCYUp6bX18",
        "colab_type": "text"
      },
      "source": [
        "# Remove stopwords"
      ]
    },
    {
      "cell_type": "code",
      "metadata": {
        "id": "gMPQBKZRbX18",
        "colab_type": "code",
        "colab": {
          "base_uri": "https://localhost:8080/",
          "height": 72
        },
        "outputId": "653a751b-23b7-4d83-fed1-389e7dd1cbea"
      },
      "source": [
        "nltk.download('stopwords')"
      ],
      "execution_count": 20,
      "outputs": [
        {
          "output_type": "stream",
          "text": [
            "[nltk_data] Downloading package stopwords to /root/nltk_data...\n",
            "[nltk_data]   Package stopwords is already up-to-date!\n"
          ],
          "name": "stdout"
        },
        {
          "output_type": "execute_result",
          "data": {
            "text/plain": [
              "True"
            ]
          },
          "metadata": {
            "tags": []
          },
          "execution_count": 20
        }
      ]
    },
    {
      "cell_type": "code",
      "metadata": {
        "id": "uXTrDe5zbX1-",
        "colab_type": "code",
        "colab": {}
      },
      "source": [
        "stopword = nltk.corpus.stopwords.words('english')"
      ],
      "execution_count": 21,
      "outputs": []
    },
    {
      "cell_type": "code",
      "metadata": {
        "id": "TJpFb6z4bX2A",
        "colab_type": "code",
        "colab": {
          "base_uri": "https://localhost:8080/",
          "height": 198
        },
        "outputId": "de9b4150-d99e-4ff3-ae9b-419616934a39"
      },
      "source": [
        "def remove_stopword(token):\n",
        "    text = [word for word in token if word not in stopword]\n",
        "    return text\n",
        "\n",
        "full_df[\"nostopword_text\"] = full_df[\"token_text\"].apply(lambda x:remove_stopword(x))\n",
        "\n",
        "full_df.head()"
      ],
      "execution_count": 22,
      "outputs": [
        {
          "output_type": "execute_result",
          "data": {
            "text/html": [
              "<div>\n",
              "<style scoped>\n",
              "    .dataframe tbody tr th:only-of-type {\n",
              "        vertical-align: middle;\n",
              "    }\n",
              "\n",
              "    .dataframe tbody tr th {\n",
              "        vertical-align: top;\n",
              "    }\n",
              "\n",
              "    .dataframe thead th {\n",
              "        text-align: right;\n",
              "    }\n",
              "</style>\n",
              "<table border=\"1\" class=\"dataframe\">\n",
              "  <thead>\n",
              "    <tr style=\"text-align: right;\">\n",
              "      <th></th>\n",
              "      <th>label</th>\n",
              "      <th>full_text</th>\n",
              "      <th>token_text</th>\n",
              "      <th>nostopword_text</th>\n",
              "    </tr>\n",
              "  </thead>\n",
              "  <tbody>\n",
              "    <tr>\n",
              "      <th>0</th>\n",
              "      <td>0</td>\n",
              "      <td>Donald Trump Sends Out Embarrassing New Year’...</td>\n",
              "      <td>[, donald, trump, sends, out, embarrassing, ne...</td>\n",
              "      <td>[, donald, trump, sends, embarrassing, new, ye...</td>\n",
              "    </tr>\n",
              "    <tr>\n",
              "      <th>1</th>\n",
              "      <td>0</td>\n",
              "      <td>Drunk Bragging Trump Staffer Started Russian ...</td>\n",
              "      <td>[, drunk, bragging, trump, staffer, started, r...</td>\n",
              "      <td>[, drunk, bragging, trump, staffer, started, r...</td>\n",
              "    </tr>\n",
              "    <tr>\n",
              "      <th>2</th>\n",
              "      <td>0</td>\n",
              "      <td>Sheriff David Clarke Becomes An Internet Joke...</td>\n",
              "      <td>[, sheriff, david, clarke, becomes, an, intern...</td>\n",
              "      <td>[, sheriff, david, clarke, becomes, internet, ...</td>\n",
              "    </tr>\n",
              "    <tr>\n",
              "      <th>3</th>\n",
              "      <td>0</td>\n",
              "      <td>Trump Is So Obsessed He Even Has Obama’s Name...</td>\n",
              "      <td>[, trump, is, so, obsessed, he, even, has, oba...</td>\n",
              "      <td>[, trump, obsessed, even, obama, name, coded, ...</td>\n",
              "    </tr>\n",
              "    <tr>\n",
              "      <th>4</th>\n",
              "      <td>0</td>\n",
              "      <td>Pope Francis Just Called Out Donald Trump Dur...</td>\n",
              "      <td>[, pope, francis, just, called, out, donald, t...</td>\n",
              "      <td>[, pope, francis, called, donald, trump, chris...</td>\n",
              "    </tr>\n",
              "  </tbody>\n",
              "</table>\n",
              "</div>"
            ],
            "text/plain": [
              "  label  ...                                    nostopword_text\n",
              "0     0  ...  [, donald, trump, sends, embarrassing, new, ye...\n",
              "1     0  ...  [, drunk, bragging, trump, staffer, started, r...\n",
              "2     0  ...  [, sheriff, david, clarke, becomes, internet, ...\n",
              "3     0  ...  [, trump, obsessed, even, obama, name, coded, ...\n",
              "4     0  ...  [, pope, francis, called, donald, trump, chris...\n",
              "\n",
              "[5 rows x 4 columns]"
            ]
          },
          "metadata": {
            "tags": []
          },
          "execution_count": 22
        }
      ]
    },
    {
      "cell_type": "markdown",
      "metadata": {
        "id": "FRpIfSlVbX2C",
        "colab_type": "text"
      },
      "source": [
        "# Lemmatizing"
      ]
    },
    {
      "cell_type": "code",
      "metadata": {
        "id": "u_7b2buJbX2D",
        "colab_type": "code",
        "colab": {}
      },
      "source": [
        "from nltk.stem import WordNetLemmatizer"
      ],
      "execution_count": 23,
      "outputs": []
    },
    {
      "cell_type": "code",
      "metadata": {
        "id": "OLqmGCFibX2F",
        "colab_type": "code",
        "colab": {}
      },
      "source": [
        "wl = WordNetLemmatizer()"
      ],
      "execution_count": 24,
      "outputs": []
    },
    {
      "cell_type": "code",
      "metadata": {
        "id": "tRV34xGNdfYn",
        "colab_type": "code",
        "colab": {
          "base_uri": "https://localhost:8080/",
          "height": 72
        },
        "outputId": "3a6cd949-2356-4acc-f51e-990f3b4a276a"
      },
      "source": [
        "nltk.download('wordnet')"
      ],
      "execution_count": 25,
      "outputs": [
        {
          "output_type": "stream",
          "text": [
            "[nltk_data] Downloading package wordnet to /root/nltk_data...\n",
            "[nltk_data]   Package wordnet is already up-to-date!\n"
          ],
          "name": "stdout"
        },
        {
          "output_type": "execute_result",
          "data": {
            "text/plain": [
              "True"
            ]
          },
          "metadata": {
            "tags": []
          },
          "execution_count": 25
        }
      ]
    },
    {
      "cell_type": "code",
      "metadata": {
        "id": "qZ3hRoCmbX2H",
        "colab_type": "code",
        "colab": {
          "base_uri": "https://localhost:8080/",
          "height": 233
        },
        "outputId": "e066b657-4e3d-4a5e-a72c-374010e10de6"
      },
      "source": [
        "def lemmatizing(stopword):\n",
        "    text = [wl.lemmatize(word) for word in stopword]\n",
        "    return text\n",
        "\n",
        "full_df[\"lemmatizing_text\"] = full_df[\"nostopword_text\"].apply(lambda x:lemmatizing(x))\n",
        "\n",
        "full_df.head()"
      ],
      "execution_count": 28,
      "outputs": [
        {
          "output_type": "execute_result",
          "data": {
            "text/html": [
              "<div>\n",
              "<style scoped>\n",
              "    .dataframe tbody tr th:only-of-type {\n",
              "        vertical-align: middle;\n",
              "    }\n",
              "\n",
              "    .dataframe tbody tr th {\n",
              "        vertical-align: top;\n",
              "    }\n",
              "\n",
              "    .dataframe thead th {\n",
              "        text-align: right;\n",
              "    }\n",
              "</style>\n",
              "<table border=\"1\" class=\"dataframe\">\n",
              "  <thead>\n",
              "    <tr style=\"text-align: right;\">\n",
              "      <th></th>\n",
              "      <th>label</th>\n",
              "      <th>full_text</th>\n",
              "      <th>token_text</th>\n",
              "      <th>nostopword_text</th>\n",
              "      <th>lemmatizing_text</th>\n",
              "    </tr>\n",
              "  </thead>\n",
              "  <tbody>\n",
              "    <tr>\n",
              "      <th>0</th>\n",
              "      <td>0</td>\n",
              "      <td>Donald Trump Sends Out Embarrassing New Year’...</td>\n",
              "      <td>[, donald, trump, sends, out, embarrassing, ne...</td>\n",
              "      <td>[, donald, trump, sends, embarrassing, new, ye...</td>\n",
              "      <td>[, donald, trump, sends, embarrassing, new, ye...</td>\n",
              "    </tr>\n",
              "    <tr>\n",
              "      <th>1</th>\n",
              "      <td>0</td>\n",
              "      <td>Drunk Bragging Trump Staffer Started Russian ...</td>\n",
              "      <td>[, drunk, bragging, trump, staffer, started, r...</td>\n",
              "      <td>[, drunk, bragging, trump, staffer, started, r...</td>\n",
              "      <td>[, drunk, bragging, trump, staffer, started, r...</td>\n",
              "    </tr>\n",
              "    <tr>\n",
              "      <th>2</th>\n",
              "      <td>0</td>\n",
              "      <td>Sheriff David Clarke Becomes An Internet Joke...</td>\n",
              "      <td>[, sheriff, david, clarke, becomes, an, intern...</td>\n",
              "      <td>[, sheriff, david, clarke, becomes, internet, ...</td>\n",
              "      <td>[, sheriff, david, clarke, becomes, internet, ...</td>\n",
              "    </tr>\n",
              "    <tr>\n",
              "      <th>3</th>\n",
              "      <td>0</td>\n",
              "      <td>Trump Is So Obsessed He Even Has Obama’s Name...</td>\n",
              "      <td>[, trump, is, so, obsessed, he, even, has, oba...</td>\n",
              "      <td>[, trump, obsessed, even, obama, name, coded, ...</td>\n",
              "      <td>[, trump, obsessed, even, obama, name, coded, ...</td>\n",
              "    </tr>\n",
              "    <tr>\n",
              "      <th>4</th>\n",
              "      <td>0</td>\n",
              "      <td>Pope Francis Just Called Out Donald Trump Dur...</td>\n",
              "      <td>[, pope, francis, just, called, out, donald, t...</td>\n",
              "      <td>[, pope, francis, called, donald, trump, chris...</td>\n",
              "      <td>[, pope, francis, called, donald, trump, chris...</td>\n",
              "    </tr>\n",
              "  </tbody>\n",
              "</table>\n",
              "</div>"
            ],
            "text/plain": [
              "  label  ...                                   lemmatizing_text\n",
              "0     0  ...  [, donald, trump, sends, embarrassing, new, ye...\n",
              "1     0  ...  [, drunk, bragging, trump, staffer, started, r...\n",
              "2     0  ...  [, sheriff, david, clarke, becomes, internet, ...\n",
              "3     0  ...  [, trump, obsessed, even, obama, name, coded, ...\n",
              "4     0  ...  [, pope, francis, called, donald, trump, chris...\n",
              "\n",
              "[5 rows x 5 columns]"
            ]
          },
          "metadata": {
            "tags": []
          },
          "execution_count": 28
        }
      ]
    },
    {
      "cell_type": "code",
      "metadata": {
        "id": "S-OfD5oqn_m8",
        "colab_type": "code",
        "colab": {}
      },
      "source": [
        "full_df[\"lemmatizing_text2\"] = [\" \".join(x) for x in list(full_df[\"lemmatizing_text\"])]"
      ],
      "execution_count": 29,
      "outputs": []
    },
    {
      "cell_type": "code",
      "metadata": {
        "id": "lWZfkaU1bX2J",
        "colab_type": "code",
        "colab": {
          "base_uri": "https://localhost:8080/",
          "height": 235
        },
        "outputId": "c753e152-fcf9-4eb2-92a8-f275c5df6bce"
      },
      "source": [
        "# clean_df.to_csv(\"clean_data.csv\")\n",
        "full_df[\"lemmatizing_text2\"]"
      ],
      "execution_count": 88,
      "outputs": [
        {
          "output_type": "execute_result",
          "data": {
            "text/plain": [
              "0         donald trump sends embarrassing new year eve ...\n",
              "1         drunk bragging trump staffer started russian ...\n",
              "2         sheriff david clarke becomes internet joke th...\n",
              "3         trump obsessed even obama name coded website ...\n",
              "4         pope francis called donald trump christmas sp...\n",
              "                               ...                        \n",
              "65693           rapper trump poster child white supremacy \n",
              "65694    n f l playoff schedule matchup odds new york time\n",
              "65695    macy said receive takeover approach hudson bay...\n",
              "65696            nato russia hold parallel exercise balkan\n",
              "65697                                      keep f 35 alive\n",
              "Name: lemmatizing_text2, Length: 65698, dtype: object"
            ]
          },
          "metadata": {
            "tags": []
          },
          "execution_count": 88
        }
      ]
    },
    {
      "cell_type": "markdown",
      "metadata": {
        "id": "oJ_HUqY6bX2L",
        "colab_type": "text"
      },
      "source": [
        "# N-Grams"
      ]
    },
    {
      "cell_type": "code",
      "metadata": {
        "id": "Q_xSPSAzbX2O",
        "colab_type": "code",
        "colab": {}
      },
      "source": [
        "fake_df = full_df[(full_df[\"label\"] == \"0\")]\n",
        "true_df = full_df[(full_df[\"label\"] == \"1\")]"
      ],
      "execution_count": 30,
      "outputs": []
    },
    {
      "cell_type": "code",
      "metadata": {
        "id": "NqBlWnhsbX2R",
        "colab_type": "code",
        "colab": {}
      },
      "source": [
        "# from sklearn.feature_extraction.text import CountVectorizer\n",
        "# def get_top_text_ngrams(corpus, n, g):\n",
        "#     vec = CountVectorizer(ngram_range=(g, g)).fit(corpus)\n",
        "#     bag_of_words = vec.transform(corpus)\n",
        "#     sum_words = bag_of_words.sum(axis=0) \n",
        "#     words_freq = [(word, sum_words[0, idx]) for word, idx in vec.vocabulary_.items()]\n",
        "#     words_freq =sorted(words_freq, key = lambda x: x[1], reverse=True)\n",
        "#     return words_freq[:n]"
      ],
      "execution_count": 31,
      "outputs": []
    },
    {
      "cell_type": "code",
      "metadata": {
        "id": "L1TuRArdbX2m",
        "colab_type": "code",
        "colab": {}
      },
      "source": [
        "def basic_clean(text):\n",
        "    wnl = nltk.stem.WordNetLemmatizer()\n",
        "    stopwords= nltk.corpus.stopwords.words('english')\n",
        "    words = re.sub(r'[^\\w\\s]', '', text).split()\n",
        "    return [wnl.lemmatize(word) for word in words if word not in stopwords]"
      ],
      "execution_count": 32,
      "outputs": []
    },
    {
      "cell_type": "code",
      "metadata": {
        "id": "Y7-KV8AlbX2o",
        "colab_type": "code",
        "colab": {}
      },
      "source": [
        "true_word = basic_clean(''.join(str(true_df['full_text'].tolist())))"
      ],
      "execution_count": 33,
      "outputs": []
    },
    {
      "cell_type": "code",
      "metadata": {
        "id": "gyjesHN4bX2p",
        "colab_type": "code",
        "colab": {}
      },
      "source": [
        "true_bigrams = (pd.Series(nltk.ngrams(true_word, 2)).value_counts())[:20]"
      ],
      "execution_count": 34,
      "outputs": []
    },
    {
      "cell_type": "code",
      "metadata": {
        "id": "ELZhMyrPbX2r",
        "colab_type": "code",
        "colab": {
          "base_uri": "https://localhost:8080/",
          "height": 399
        },
        "outputId": "d9aac8d5-f981-4d18-ad10-3e0e25426553"
      },
      "source": [
        "true_bigrams"
      ],
      "execution_count": 35,
      "outputs": [
        {
          "output_type": "execute_result",
          "data": {
            "text/plain": [
              "(White, House)             784\n",
              "(North, Korea)             668\n",
              "(Trump, say)               365\n",
              "(Islamic, State)           229\n",
              "(Supreme, Court)           227\n",
              "(say, US)                  172\n",
              "(Puerto, Rico)             170\n",
              "(US, House)                160\n",
              "(travel, ban)              155\n",
              "(US, Senate)               151\n",
              "(say, Trump)               138\n",
              "(Trump, administration)    127\n",
              "(South, Korea)             126\n",
              "(Factbox, Trump)           121\n",
              "(Russia, probe)            120\n",
              "(US, lawmaker)             119\n",
              "(nuclear, deal)            115\n",
              "(tax, bill)                112\n",
              "(New, York)                109\n",
              "(foreign, minister)        102\n",
              "dtype: int64"
            ]
          },
          "metadata": {
            "tags": []
          },
          "execution_count": 35
        }
      ]
    },
    {
      "cell_type": "code",
      "metadata": {
        "id": "lVUiLLGgbX2t",
        "colab_type": "code",
        "colab": {}
      },
      "source": [
        "true_trigrams = (pd.Series(nltk.ngrams(true_word, 3)).value_counts())[:20]"
      ],
      "execution_count": 36,
      "outputs": []
    },
    {
      "cell_type": "code",
      "metadata": {
        "id": "-LbGBTKQbX2v",
        "colab_type": "code",
        "colab": {
          "base_uri": "https://localhost:8080/",
          "height": 399
        },
        "outputId": "8c7b3218-5c34-4d0d-faaa-0f921789ae8b"
      },
      "source": [
        "true_trigrams"
      ],
      "execution_count": 37,
      "outputs": [
        {
          "output_type": "execute_result",
          "data": {
            "text/plain": [
              "(White, House, say)          87\n",
              "(Factbox, Trump, Twitter)    72\n",
              "(House, Speaker, Ryan)       71\n",
              "(Iran, nuclear, deal)        70\n",
              "(The, Trump, presidency)     62\n",
              "(Trump, travel, ban)         56\n",
              "(Highlights, The, Trump)     46\n",
              "(White, House, Trump)        45\n",
              "(South, China, Sea)          44\n",
              "(UK, PM, May)                38\n",
              "(North, Korea, sanction)     35\n",
              "(Supreme, Court, nominee)    32\n",
              "(US, appeal, court)          31\n",
              "(Puerto, Rico, debt)         31\n",
              "(US, top, court)             30\n",
              "(US, Supreme, Court)         30\n",
              "(North, Korea, nuclear)      29\n",
              "(say, North, Korea)          27\n",
              "(South, Koreas, Moon)        25\n",
              "(US, attorney, general)      25\n",
              "dtype: int64"
            ]
          },
          "metadata": {
            "tags": []
          },
          "execution_count": 37
        }
      ]
    },
    {
      "cell_type": "code",
      "metadata": {
        "id": "xaCsFn_RbX2x",
        "colab_type": "code",
        "colab": {}
      },
      "source": [
        "fake_word = basic_clean(''.join(str(fake_df['full_text'].tolist())))"
      ],
      "execution_count": 38,
      "outputs": []
    },
    {
      "cell_type": "code",
      "metadata": {
        "id": "Vwdvzx1GbX2y",
        "colab_type": "code",
        "colab": {}
      },
      "source": [
        "fake_bigrams = (pd.Series(nltk.ngrams(fake_word, 2)).value_counts())[:20]"
      ],
      "execution_count": 39,
      "outputs": []
    },
    {
      "cell_type": "code",
      "metadata": {
        "id": "swIQ5EgibX21",
        "colab_type": "code",
        "colab": {}
      },
      "source": [
        "fake_trigrams = (pd.Series(nltk.ngrams(fake_word, 3)).value_counts())[:20]"
      ],
      "execution_count": 40,
      "outputs": []
    },
    {
      "cell_type": "code",
      "metadata": {
        "id": "TU-E719zbX24",
        "colab_type": "code",
        "colab": {
          "base_uri": "https://localhost:8080/",
          "height": 399
        },
        "outputId": "becde7ff-8508-4814-e470-57f49d59bbef"
      },
      "source": [
        "fake_bigrams"
      ],
      "execution_count": 41,
      "outputs": [
        {
          "output_type": "execute_result",
          "data": {
            "text/plain": [
              "(Donald, Trump)       610\n",
              "(VIDEO, WATCH)        302\n",
              "(President, Trump)    288\n",
              "(White, House)        288\n",
              "(Trump, Is)           256\n",
              "(In, The)             249\n",
              "(Hillary, Clinton)    249\n",
              "(VIDEO, Trump)        231\n",
              "(Of, The)             230\n",
              "(To, Be)              217\n",
              "(Fox, News)           214\n",
              "(On, The)             209\n",
              "(Trump, For)          198\n",
              "(Bernie, Sanders)     195\n",
              "(Out, Of)             189\n",
              "(Trump, Just)         187\n",
              "(Trump, VIDEO)        178\n",
              "(Ted, Cruz)           171\n",
              "(To, The)             162\n",
              "(Boiler, Room)        162\n",
              "dtype: int64"
            ]
          },
          "metadata": {
            "tags": []
          },
          "execution_count": 41
        }
      ]
    },
    {
      "cell_type": "code",
      "metadata": {
        "id": "BcZqmDbPbX27",
        "colab_type": "code",
        "colab": {
          "base_uri": "https://localhost:8080/",
          "height": 399
        },
        "outputId": "349f4c9b-7c41-49b7-8044-db1d77fd8309"
      },
      "source": [
        "fake_trigrams"
      ],
      "execution_count": 42,
      "outputs": [
        {
          "output_type": "execute_result",
          "data": {
            "text/plain": [
              "(Boiler, Room, EP)             104\n",
              "(Black, Lives, Matter)          95\n",
              "(The, White, House)             70\n",
              "(To, Vote, For)                 42\n",
              "(BLACK, LIVES, MATTER)          42\n",
              "(In, Front, Of)                 41\n",
              "(On, Social, Media)             41\n",
              "(Supreme, Court, Justice)       39\n",
              "(VIDEO, Donald, Trump)          37\n",
              "(New, York, Times)              37\n",
              "(Fox, News, Host)               36\n",
              "(BOILER, ROOM, EP)              34\n",
              "(A, Handed, To)                 33\n",
              "(Donald, Trump, Is)             33\n",
              "(Is, About, To)                 32\n",
              "(Handed, To, Him)               32\n",
              "(Donald, Trump, VIDEO)          31\n",
              "(Is, Going, To)                 29\n",
              "(Patrick, Henningsen, LIVE)     28\n",
              "(Want, You, To)                 28\n",
              "dtype: int64"
            ]
          },
          "metadata": {
            "tags": []
          },
          "execution_count": 42
        }
      ]
    },
    {
      "cell_type": "markdown",
      "metadata": {
        "id": "ZwRI3VMMbX2-",
        "colab_type": "text"
      },
      "source": [
        "# WordCloud"
      ]
    },
    {
      "cell_type": "code",
      "metadata": {
        "id": "rS7i14HQbX2_",
        "colab_type": "code",
        "colab": {}
      },
      "source": [
        "from wordcloud import WordCloud,STOPWORDS"
      ],
      "execution_count": 101,
      "outputs": []
    },
    {
      "cell_type": "code",
      "metadata": {
        "id": "VPIFfJpdbX3A",
        "colab_type": "code",
        "colab": {}
      },
      "source": [
        "def plot_wordcloud(text):\n",
        "    wordcloud = WordCloud(background_color = 'black',\n",
        "                         max_words = 2000,\n",
        "                         width=1600,\n",
        "                         height=800).generate(\"\".join(text))\n",
        "    plt.clf()\n",
        "    plt.imshow(wordcloud, interpolation='bilinear')\n",
        "    plt.axis('off')\n",
        "    plt.show()"
      ],
      "execution_count": 102,
      "outputs": []
    },
    {
      "cell_type": "code",
      "metadata": {
        "id": "gkLRqTu4bX3C",
        "colab_type": "code",
        "colab": {
          "base_uri": "https://localhost:8080/",
          "height": 198
        },
        "outputId": "9398f113-d310-4fbb-b284-4a68b5899249"
      },
      "source": [
        "plot_wordcloud(true_df.lemmatizing_text2)"
      ],
      "execution_count": 103,
      "outputs": [
        {
          "output_type": "display_data",
          "data": {
            "image/png": "[encoded data removed]",
            "text/plain": [
              "<Figure size 432x288 with 1 Axes>"
            ]
          },
          "metadata": {
            "tags": [],
            "needs_background": "light"
          }
        }
      ]
    },
    {
      "cell_type": "code",
      "metadata": {
        "id": "D6L4_071bX3E",
        "colab_type": "code",
        "colab": {
          "base_uri": "https://localhost:8080/",
          "height": 198
        },
        "outputId": "bc981c85-1204-42e9-b8cf-a20d92c1968f"
      },
      "source": [
        "plot_wordcloud(fake_df.lemmatizing_text2)"
      ],
      "execution_count": 104,
      "outputs": [
        {
          "output_type": "display_data",
          "data": {
            "image/png": "[encoded data removed]",
            "text/plain": [
              "<Figure size 432x288 with 1 Axes>"
            ]
          },
          "metadata": {
            "tags": [],
            "needs_background": "light"
          }
        }
      ]
    },
    {
      "cell_type": "markdown",
      "metadata": {
        "id": "JLd9-4IFf2K_",
        "colab_type": "text"
      },
      "source": [
        "# One Hot Encoding and Neural Networks with Keras"
      ]
    },
    {
      "cell_type": "code",
      "metadata": {
        "id": "nv7iETaywDRW",
        "colab_type": "code",
        "colab": {
          "base_uri": "https://localhost:8080/",
          "height": 285
        },
        "outputId": "04d31552-6d35-4f79-d353-422281033d96"
      },
      "source": [
        "full_df.head()"
      ],
      "execution_count": 43,
      "outputs": [
        {
          "output_type": "execute_result",
          "data": {
            "text/html": [
              "<div>\n",
              "<style scoped>\n",
              "    .dataframe tbody tr th:only-of-type {\n",
              "        vertical-align: middle;\n",
              "    }\n",
              "\n",
              "    .dataframe tbody tr th {\n",
              "        vertical-align: top;\n",
              "    }\n",
              "\n",
              "    .dataframe thead th {\n",
              "        text-align: right;\n",
              "    }\n",
              "</style>\n",
              "<table border=\"1\" class=\"dataframe\">\n",
              "  <thead>\n",
              "    <tr style=\"text-align: right;\">\n",
              "      <th></th>\n",
              "      <th>label</th>\n",
              "      <th>full_text</th>\n",
              "      <th>token_text</th>\n",
              "      <th>nostopword_text</th>\n",
              "      <th>lemmatizing_text</th>\n",
              "      <th>lemmatizing_text2</th>\n",
              "    </tr>\n",
              "  </thead>\n",
              "  <tbody>\n",
              "    <tr>\n",
              "      <th>0</th>\n",
              "      <td>0</td>\n",
              "      <td>Donald Trump Sends Out Embarrassing New Year’...</td>\n",
              "      <td>[, donald, trump, sends, out, embarrassing, ne...</td>\n",
              "      <td>[, donald, trump, sends, embarrassing, new, ye...</td>\n",
              "      <td>[, donald, trump, sends, embarrassing, new, ye...</td>\n",
              "      <td>donald trump sends embarrassing new year eve ...</td>\n",
              "    </tr>\n",
              "    <tr>\n",
              "      <th>1</th>\n",
              "      <td>0</td>\n",
              "      <td>Drunk Bragging Trump Staffer Started Russian ...</td>\n",
              "      <td>[, drunk, bragging, trump, staffer, started, r...</td>\n",
              "      <td>[, drunk, bragging, trump, staffer, started, r...</td>\n",
              "      <td>[, drunk, bragging, trump, staffer, started, r...</td>\n",
              "      <td>drunk bragging trump staffer started russian ...</td>\n",
              "    </tr>\n",
              "    <tr>\n",
              "      <th>2</th>\n",
              "      <td>0</td>\n",
              "      <td>Sheriff David Clarke Becomes An Internet Joke...</td>\n",
              "      <td>[, sheriff, david, clarke, becomes, an, intern...</td>\n",
              "      <td>[, sheriff, david, clarke, becomes, internet, ...</td>\n",
              "      <td>[, sheriff, david, clarke, becomes, internet, ...</td>\n",
              "      <td>sheriff david clarke becomes internet joke th...</td>\n",
              "    </tr>\n",
              "    <tr>\n",
              "      <th>3</th>\n",
              "      <td>0</td>\n",
              "      <td>Trump Is So Obsessed He Even Has Obama’s Name...</td>\n",
              "      <td>[, trump, is, so, obsessed, he, even, has, oba...</td>\n",
              "      <td>[, trump, obsessed, even, obama, name, coded, ...</td>\n",
              "      <td>[, trump, obsessed, even, obama, name, coded, ...</td>\n",
              "      <td>trump obsessed even obama name coded website ...</td>\n",
              "    </tr>\n",
              "    <tr>\n",
              "      <th>4</th>\n",
              "      <td>0</td>\n",
              "      <td>Pope Francis Just Called Out Donald Trump Dur...</td>\n",
              "      <td>[, pope, francis, just, called, out, donald, t...</td>\n",
              "      <td>[, pope, francis, called, donald, trump, chris...</td>\n",
              "      <td>[, pope, francis, called, donald, trump, chris...</td>\n",
              "      <td>pope francis called donald trump christmas sp...</td>\n",
              "    </tr>\n",
              "  </tbody>\n",
              "</table>\n",
              "</div>"
            ],
            "text/plain": [
              "  label  ...                                  lemmatizing_text2\n",
              "0     0  ...   donald trump sends embarrassing new year eve ...\n",
              "1     0  ...   drunk bragging trump staffer started russian ...\n",
              "2     0  ...   sheriff david clarke becomes internet joke th...\n",
              "3     0  ...   trump obsessed even obama name coded website ...\n",
              "4     0  ...   pope francis called donald trump christmas sp...\n",
              "\n",
              "[5 rows x 6 columns]"
            ]
          },
          "metadata": {
            "tags": []
          },
          "execution_count": 43
        }
      ]
    },
    {
      "cell_type": "code",
      "metadata": {
        "id": "N5095OtdbX3H",
        "colab_type": "code",
        "colab": {}
      },
      "source": [
        "data = full_df.values"
      ],
      "execution_count": 44,
      "outputs": []
    },
    {
      "cell_type": "code",
      "metadata": {
        "id": "_zikLv2vp6ms",
        "colab_type": "code",
        "colab": {
          "base_uri": "https://localhost:8080/",
          "height": 35
        },
        "outputId": "94b5d379-0fda-424c-dcc6-c81904606735"
      },
      "source": [
        "data[:,0]"
      ],
      "execution_count": 45,
      "outputs": [
        {
          "output_type": "execute_result",
          "data": {
            "text/plain": [
              "array(['0', '0', '0', ..., 1, 0, 0], dtype=object)"
            ]
          },
          "metadata": {
            "tags": []
          },
          "execution_count": 45
        }
      ]
    },
    {
      "cell_type": "code",
      "metadata": {
        "id": "TUZRPz3TqCli",
        "colab_type": "code",
        "colab": {}
      },
      "source": [
        "from sklearn.feature_extraction.text import TfidfVectorizer"
      ],
      "execution_count": 46,
      "outputs": []
    },
    {
      "cell_type": "code",
      "metadata": {
        "id": "mUrZIdJjqKBQ",
        "colab_type": "code",
        "colab": {
          "base_uri": "https://localhost:8080/",
          "height": 54
        },
        "outputId": "1ead1024-e970-401b-b9fb-59bac4561ab0"
      },
      "source": [
        "tfIdfVectorizer=TfidfVectorizer(use_idf=True)\n",
        "tfIdf = tfIdfVectorizer.fit_transform(full_df [\"lemmatizing_text2\"])\n",
        "tfIdf"
      ],
      "execution_count": 47,
      "outputs": [
        {
          "output_type": "execute_result",
          "data": {
            "text/plain": [
              "<65698x27892 sparse matrix of type '<class 'numpy.float64'>'\n",
              "\twith 605842 stored elements in Compressed Sparse Row format>"
            ]
          },
          "metadata": {
            "tags": []
          },
          "execution_count": 47
        }
      ]
    },
    {
      "cell_type": "code",
      "metadata": {
        "id": "3C6TlSQDrnKr",
        "colab_type": "code",
        "colab": {}
      },
      "source": [
        "X = tfIdf\n",
        "y = data[:, 0]"
      ],
      "execution_count": 48,
      "outputs": []
    },
    {
      "cell_type": "code",
      "metadata": {
        "id": "iny2n0uuubQQ",
        "colab_type": "code",
        "colab": {}
      },
      "source": [
        "y = y.astype(\"int\")"
      ],
      "execution_count": 49,
      "outputs": []
    },
    {
      "cell_type": "code",
      "metadata": {
        "id": "2ejmT63nutvO",
        "colab_type": "code",
        "colab": {
          "base_uri": "https://localhost:8080/",
          "height": 35
        },
        "outputId": "49b8c6b2-21f9-4ed6-89db-2da12075b65c"
      },
      "source": [
        "y"
      ],
      "execution_count": 50,
      "outputs": [
        {
          "output_type": "execute_result",
          "data": {
            "text/plain": [
              "array([0, 0, 0, ..., 1, 0, 0])"
            ]
          },
          "metadata": {
            "tags": []
          },
          "execution_count": 50
        }
      ]
    },
    {
      "cell_type": "code",
      "metadata": {
        "id": "KbBThd1xF0mf",
        "colab_type": "code",
        "colab": {
          "base_uri": "https://localhost:8080/",
          "height": 54
        },
        "outputId": "7fcedeb7-dcfe-45c4-b940-dd93ca7a55e9"
      },
      "source": [
        "X"
      ],
      "execution_count": 51,
      "outputs": [
        {
          "output_type": "execute_result",
          "data": {
            "text/plain": [
              "<65698x27892 sparse matrix of type '<class 'numpy.float64'>'\n",
              "\twith 605842 stored elements in Compressed Sparse Row format>"
            ]
          },
          "metadata": {
            "tags": []
          },
          "execution_count": 51
        }
      ]
    },
    {
      "cell_type": "code",
      "metadata": {
        "id": "yiDI7qdRgHoz",
        "colab_type": "code",
        "colab": {}
      },
      "source": [
        "# clean_df[\"text\"].describe()"
      ],
      "execution_count": 55,
      "outputs": []
    },
    {
      "cell_type": "code",
      "metadata": {
        "id": "VqVgCIFUgiMs",
        "colab_type": "code",
        "colab": {}
      },
      "source": [
        "# from sklearn.preprocessing import LabelEncoder\n",
        "\n",
        "# # Step 1: Label-encode data set\n",
        "# label_encoder = LabelEncoder()\n",
        "# label_encoder.fit(y)\n",
        "# encoded_y = label_encoder.transform(y)"
      ],
      "execution_count": 56,
      "outputs": []
    },
    {
      "cell_type": "code",
      "metadata": {
        "id": "mwrVLvB5g0EA",
        "colab_type": "code",
        "colab": {}
      },
      "source": [
        "# encoded_y, y"
      ],
      "execution_count": 57,
      "outputs": []
    },
    {
      "cell_type": "code",
      "metadata": {
        "id": "9e4i9eM5g_YJ",
        "colab_type": "code",
        "colab": {}
      },
      "source": [
        "# from keras.utils import to_categorical\n",
        "\n",
        "# # Step 2: One-hot encoding\n",
        "# one_hot_y = to_categorical(encoded_y)\n",
        "# one_hot_y"
      ],
      "execution_count": 58,
      "outputs": []
    },
    {
      "cell_type": "code",
      "metadata": {
        "id": "iph64fPJhZ1g",
        "colab_type": "code",
        "colab": {}
      },
      "source": [
        "from sklearn.model_selection import train_test_split\n",
        "\n",
        "X_train, X_test, y_train, y_test = train_test_split(X, y)"
      ],
      "execution_count": 52,
      "outputs": []
    },
    {
      "cell_type": "code",
      "metadata": {
        "id": "ZA5b4q1n9rfI",
        "colab_type": "code",
        "colab": {
          "base_uri": "https://localhost:8080/",
          "height": 54
        },
        "outputId": "a4b65254-b794-424f-f506-f3639f69f2b8"
      },
      "source": [
        "X"
      ],
      "execution_count": 53,
      "outputs": [
        {
          "output_type": "execute_result",
          "data": {
            "text/plain": [
              "<65698x27892 sparse matrix of type '<class 'numpy.float64'>'\n",
              "\twith 605842 stored elements in Compressed Sparse Row format>"
            ]
          },
          "metadata": {
            "tags": []
          },
          "execution_count": 53
        }
      ]
    },
    {
      "cell_type": "code",
      "metadata": {
        "id": "pLd3iCMnh2uI",
        "colab_type": "code",
        "colab": {}
      },
      "source": [
        "from tensorflow.keras.utils import to_categorical"
      ],
      "execution_count": 54,
      "outputs": []
    },
    {
      "cell_type": "code",
      "metadata": {
        "id": "7UpMUfsuoDhM",
        "colab_type": "code",
        "colab": {
          "base_uri": "https://localhost:8080/",
          "height": 35
        },
        "outputId": "ead7eca8-e6ff-4dff-ab68-432706452180"
      },
      "source": [
        "X_train.shape"
      ],
      "execution_count": 55,
      "outputs": [
        {
          "output_type": "execute_result",
          "data": {
            "text/plain": [
              "(49273, 27892)"
            ]
          },
          "metadata": {
            "tags": []
          },
          "execution_count": 55
        }
      ]
    },
    {
      "cell_type": "code",
      "metadata": {
        "id": "4H2bnef8oJjn",
        "colab_type": "code",
        "colab": {
          "base_uri": "https://localhost:8080/",
          "height": 35
        },
        "outputId": "a76cef82-cdbe-4d84-cc68-3bc89026a4e8"
      },
      "source": [
        "X_test.shape"
      ],
      "execution_count": 56,
      "outputs": [
        {
          "output_type": "execute_result",
          "data": {
            "text/plain": [
              "(16425, 27892)"
            ]
          },
          "metadata": {
            "tags": []
          },
          "execution_count": 56
        }
      ]
    },
    {
      "cell_type": "code",
      "metadata": {
        "id": "THVYWAlliQeX",
        "colab_type": "code",
        "colab": {
          "base_uri": "https://localhost:8080/",
          "height": 35
        },
        "outputId": "b8422d20-c58c-4820-998b-a46a3d1eacfd"
      },
      "source": [
        "y_train"
      ],
      "execution_count": 57,
      "outputs": [
        {
          "output_type": "execute_result",
          "data": {
            "text/plain": [
              "array([1, 0, 1, ..., 1, 1, 1])"
            ]
          },
          "metadata": {
            "tags": []
          },
          "execution_count": 57
        }
      ]
    },
    {
      "cell_type": "code",
      "metadata": {
        "id": "C3vbLhcziSsu",
        "colab_type": "code",
        "colab": {
          "base_uri": "https://localhost:8080/",
          "height": 35
        },
        "outputId": "e177d47d-eb2e-4ad7-c3cd-7093ef9593d3"
      },
      "source": [
        "y_test"
      ],
      "execution_count": 58,
      "outputs": [
        {
          "output_type": "execute_result",
          "data": {
            "text/plain": [
              "array([0, 0, 0, ..., 0, 1, 1])"
            ]
          },
          "metadata": {
            "tags": []
          },
          "execution_count": 58
        }
      ]
    },
    {
      "cell_type": "code",
      "metadata": {
        "id": "ai40d-p5h2xE",
        "colab_type": "code",
        "colab": {
          "base_uri": "https://localhost:8080/",
          "height": 145
        },
        "outputId": "ef0166f9-3516-4589-f0dd-5df6eaceeba2"
      },
      "source": [
        "# One-hot encoding\n",
        "y_train_categorical = to_categorical(y_train)\n",
        "y_test_categorical = to_categorical(y_test)\n",
        "y_train_categorical"
      ],
      "execution_count": 59,
      "outputs": [
        {
          "output_type": "execute_result",
          "data": {
            "text/plain": [
              "array([[0., 1.],\n",
              "       [1., 0.],\n",
              "       [0., 1.],\n",
              "       ...,\n",
              "       [0., 1.],\n",
              "       [0., 1.],\n",
              "       [0., 1.]], dtype=float32)"
            ]
          },
          "metadata": {
            "tags": []
          },
          "execution_count": 59
        }
      ]
    },
    {
      "cell_type": "code",
      "metadata": {
        "id": "y5OZtXZuiqgG",
        "colab_type": "code",
        "colab": {}
      },
      "source": [
        "from tensorflow.keras.models import Sequential\n",
        "\n",
        "model = Sequential()\n",
        "from tensorflow.keras.layers import Dense\n",
        "number_inputs = 27892\n",
        "number_hidden_nodes = 4\n",
        "model.add(Dense(units=number_hidden_nodes,\n",
        "                activation='relu', input_dim=number_inputs))\n",
        "number_classes = 2\n",
        "model.add(Dense(units=number_classes, activation='softmax'))"
      ],
      "execution_count": 60,
      "outputs": []
    },
    {
      "cell_type": "code",
      "metadata": {
        "id": "CNzFsDvgiqjl",
        "colab_type": "code",
        "colab": {}
      },
      "source": [
        "X_train.sort_indices()"
      ],
      "execution_count": 61,
      "outputs": []
    },
    {
      "cell_type": "code",
      "metadata": {
        "id": "fl6AlxKJivnY",
        "colab_type": "code",
        "colab": {}
      },
      "source": [
        "X_test.sort_indices()"
      ],
      "execution_count": 62,
      "outputs": []
    },
    {
      "cell_type": "code",
      "metadata": {
        "id": "q94Ajs-Oi46D",
        "colab_type": "code",
        "colab": {
          "base_uri": "https://localhost:8080/",
          "height": 235
        },
        "outputId": "ec45a0f2-34d5-4fa5-bad6-24365604ff91"
      },
      "source": [
        "model.summary()"
      ],
      "execution_count": 63,
      "outputs": [
        {
          "output_type": "stream",
          "text": [
            "Model: \"sequential\"\n",
            "_________________________________________________________________\n",
            "Layer (type)                 Output Shape              Param #   \n",
            "=================================================================\n",
            "dense (Dense)                (None, 4)                 111572    \n",
            "_________________________________________________________________\n",
            "dense_1 (Dense)              (None, 2)                 10        \n",
            "=================================================================\n",
            "Total params: 111,582\n",
            "Trainable params: 111,582\n",
            "Non-trainable params: 0\n",
            "_________________________________________________________________\n"
          ],
          "name": "stdout"
        }
      ]
    },
    {
      "cell_type": "code",
      "metadata": {
        "id": "lP6-vJE3i49M",
        "colab_type": "code",
        "colab": {}
      },
      "source": [
        "model.compile(optimizer='adam',\n",
        "              loss='categorical_crossentropy',\n",
        "              metrics=['accuracy'])"
      ],
      "execution_count": 64,
      "outputs": []
    },
    {
      "cell_type": "code",
      "metadata": {
        "id": "Ha9nIqUpjA_8",
        "colab_type": "code",
        "colab": {
          "base_uri": "https://localhost:8080/",
          "height": 399
        },
        "outputId": "7be16cae-2827-43cd-c2ff-f15508a68527"
      },
      "source": [
        "model.fit(\n",
        "    X_train,\n",
        "    y_train_categorical,\n",
        "    epochs=10,\n",
        "    shuffle=True,\n",
        "    verbose=2\n",
        ")"
      ],
      "execution_count": 65,
      "outputs": [
        {
          "output_type": "stream",
          "text": [
            "Epoch 1/10\n",
            "1540/1540 - 2s - loss: 0.3820 - accuracy: 0.8847\n",
            "Epoch 2/10\n",
            "1540/1540 - 2s - loss: 0.1774 - accuracy: 0.9368\n",
            "Epoch 3/10\n",
            "1540/1540 - 2s - loss: 0.1345 - accuracy: 0.9516\n",
            "Epoch 4/10\n",
            "1540/1540 - 2s - loss: 0.1112 - accuracy: 0.9602\n",
            "Epoch 5/10\n",
            "1540/1540 - 2s - loss: 0.0952 - accuracy: 0.9671\n",
            "Epoch 6/10\n",
            "1540/1540 - 2s - loss: 0.0836 - accuracy: 0.9721\n",
            "Epoch 7/10\n",
            "1540/1540 - 2s - loss: 0.0744 - accuracy: 0.9749\n",
            "Epoch 8/10\n",
            "1540/1540 - 2s - loss: 0.0671 - accuracy: 0.9779\n",
            "Epoch 9/10\n",
            "1540/1540 - 2s - loss: 0.0613 - accuracy: 0.9799\n",
            "Epoch 10/10\n",
            "1540/1540 - 2s - loss: 0.0566 - accuracy: 0.9822\n"
          ],
          "name": "stdout"
        },
        {
          "output_type": "execute_result",
          "data": {
            "text/plain": [
              "<tensorflow.python.keras.callbacks.History at 0x7f9e682240f0>"
            ]
          },
          "metadata": {
            "tags": []
          },
          "execution_count": 65
        }
      ]
    },
    {
      "cell_type": "code",
      "metadata": {
        "id": "hRhKKnrp9a9i",
        "colab_type": "code",
        "colab": {
          "base_uri": "https://localhost:8080/",
          "height": 54
        },
        "outputId": "a02dbf6d-d4bd-45ab-cd58-1b4df4b36080"
      },
      "source": [
        "X_train[0]"
      ],
      "execution_count": 66,
      "outputs": [
        {
          "output_type": "execute_result",
          "data": {
            "text/plain": [
              "<1x27892 sparse matrix of type '<class 'numpy.float64'>'\n",
              "\twith 6 stored elements in Compressed Sparse Row format>"
            ]
          },
          "metadata": {
            "tags": []
          },
          "execution_count": 66
        }
      ]
    },
    {
      "cell_type": "code",
      "metadata": {
        "id": "JHa4ZpV3jBDM",
        "colab_type": "code",
        "colab": {
          "base_uri": "https://localhost:8080/",
          "height": 54
        },
        "outputId": "3626bfc9-d032-49e1-9493-02c75a2cab4d"
      },
      "source": [
        "# Evaluate the model using the testing data\n",
        "model_loss, model_accuracy = model.evaluate(\n",
        "    X_test, y_test_categorical, verbose=2)\n",
        "print(f\"One Hot Encoding - Loss: {model_loss}, Accuracy: {model_accuracy}\")"
      ],
      "execution_count": 67,
      "outputs": [
        {
          "output_type": "stream",
          "text": [
            "514/514 - 0s - loss: 0.2891 - accuracy: 0.9103\n",
            "One Hot Encoding - Loss: 0.2890552878379822, Accuracy: 0.9102587699890137\n"
          ],
          "name": "stdout"
        }
      ]
    },
    {
      "cell_type": "code",
      "metadata": {
        "id": "Wkot-jW74Bxz",
        "colab_type": "code",
        "colab": {
          "base_uri": "https://localhost:8080/",
          "height": 35
        },
        "outputId": "4e85eead-d335-485f-cd9d-7b1800a668a3"
      },
      "source": [
        "y_test[3]"
      ],
      "execution_count": 68,
      "outputs": [
        {
          "output_type": "execute_result",
          "data": {
            "text/plain": [
              "1"
            ]
          },
          "metadata": {
            "tags": []
          },
          "execution_count": 68
        }
      ]
    },
    {
      "cell_type": "code",
      "metadata": {
        "id": "ErpLGS_sP5TL",
        "colab_type": "code",
        "colab": {
          "base_uri": "https://localhost:8080/",
          "height": 110
        },
        "outputId": "56583a2d-a425-4619-bd71-79f8d9dece11"
      },
      "source": [
        "model.predict_classes(X_test[5])"
      ],
      "execution_count": 69,
      "outputs": [
        {
          "output_type": "stream",
          "text": [
            "WARNING:tensorflow:From <ipython-input-69-3e0b67aab975>:1: Sequential.predict_classes (from tensorflow.python.keras.engine.sequential) is deprecated and will be removed after 2021-01-01.\n",
            "Instructions for updating:\n",
            "Please use instead:* `np.argmax(model.predict(x), axis=-1)`,   if your model does multi-class classification   (e.g. if it uses a `softmax` last-layer activation).* `(model.predict(x) > 0.5).astype(\"int32\")`,   if your model does binary classification   (e.g. if it uses a `sigmoid` last-layer activation).\n"
          ],
          "name": "stdout"
        },
        {
          "output_type": "execute_result",
          "data": {
            "text/plain": [
              "array([0])"
            ]
          },
          "metadata": {
            "tags": []
          },
          "execution_count": 69
        }
      ]
    },
    {
      "cell_type": "code",
      "metadata": {
        "id": "JYU3J__lTHJj",
        "colab_type": "code",
        "colab": {
          "base_uri": "https://localhost:8080/",
          "height": 35
        },
        "outputId": "12fc4bb3-a4d5-45c6-d19a-cc841d1484be"
      },
      "source": [
        "model.predict_classes(X_test[10])"
      ],
      "execution_count": 70,
      "outputs": [
        {
          "output_type": "execute_result",
          "data": {
            "text/plain": [
              "array([0])"
            ]
          },
          "metadata": {
            "tags": []
          },
          "execution_count": 70
        }
      ]
    },
    {
      "cell_type": "code",
      "metadata": {
        "id": "DunBlDNK4HEg",
        "colab_type": "code",
        "colab": {}
      },
      "source": [
        "# def findClass(new_data):\n",
        "#   #tfIdfVectorizer=TfidfVectorizer(use_idf=True)\n",
        "#   new_tfidf = tfIdfVectorizer.transform([new_data])\n",
        "#   new_tfidf.sort_indices()\n",
        "#   new_pred = model.predict_classes(new_tfidf)\n",
        "#   return new_pred[0]"
      ],
      "execution_count": null,
      "outputs": []
    },
    {
      "cell_type": "markdown",
      "metadata": {
        "id": "eeuMewLsqIKx",
        "colab_type": "text"
      },
      "source": [
        "# Deep Learning"
      ]
    },
    {
      "cell_type": "code",
      "metadata": {
        "id": "1JdGi_ujqBlx",
        "colab_type": "code",
        "colab": {}
      },
      "source": [
        "deep_model = Sequential()\n",
        "deep_model.add(Dense(units=number_hidden_nodes,\n",
        "                activation='relu', input_dim=number_inputs))\n",
        "deep_model.add(Dense(units=number_hidden_nodes, activation='relu'))\n",
        "number_classes = 2\n",
        "deep_model.add(Dense(units=number_classes, activation='softmax'))"
      ],
      "execution_count": null,
      "outputs": []
    },
    {
      "cell_type": "code",
      "metadata": {
        "id": "0SFLwDcxqCBZ",
        "colab_type": "code",
        "colab": {}
      },
      "source": [
        "deep_model.summary()"
      ],
      "execution_count": null,
      "outputs": []
    },
    {
      "cell_type": "code",
      "metadata": {
        "id": "oLTK2FGtq1RS",
        "colab_type": "code",
        "colab": {}
      },
      "source": [
        "deep_model.compile(optimizer='adam',\n",
        "                   loss='categorical_crossentropy',\n",
        "                   metrics=['accuracy'])\n",
        "\n",
        "deep_model.fit(\n",
        "    X_train,\n",
        "    y_train_categorical,\n",
        "    epochs=10,\n",
        "    shuffle=True,\n",
        "    verbose=2\n",
        ")"
      ],
      "execution_count": null,
      "outputs": []
    },
    {
      "cell_type": "code",
      "metadata": {
        "id": "tDdomTPVrTZK",
        "colab_type": "code",
        "colab": {}
      },
      "source": [
        "deep_model_loss, deep_model_accuracy = deep_model.evaluate(\n",
        "    X_test, y_test_categorical, verbose=2)\n",
        "print(\n",
        "    f\"Normal Neural Network - Loss: {deep_model_loss}, Accuracy: {deep_model_accuracy}\")"
      ],
      "execution_count": null,
      "outputs": []
    },
    {
      "cell_type": "markdown",
      "metadata": {
        "id": "9X7y7IQDt25U",
        "colab_type": "text"
      },
      "source": [
        "# Naive Bayes"
      ]
    },
    {
      "cell_type": "code",
      "metadata": {
        "id": "CgqtNAKos1n1",
        "colab_type": "code",
        "colab": {}
      },
      "source": [
        "from nltk import classify\n",
        "from nltk import NaiveBayesClassifier\n",
        "from sklearn.naive_bayes import MultinomialNB\n",
        "\n",
        "nb = MultinomialNB()\n",
        "\n",
        "nb.fit(X_train, np.ravel(y_train))"
      ],
      "execution_count": null,
      "outputs": []
    },
    {
      "cell_type": "code",
      "metadata": {
        "id": "Cylj6Kd-uaYi",
        "colab_type": "code",
        "colab": {}
      },
      "source": [
        "from sklearn import metrics\n",
        "from sklearn.metrics import mean_squared_error\n",
        "y_pred_nb = nb.predict(X_test)\n",
        "print(\"Accuracy is:\", metrics.accuracy_score(y_test, y_pred_nb))\n",
        "print(\"Mean Squared Error is:\", np.sqrt(mean_squared_error(y_test, y_pred_nb)))"
      ],
      "execution_count": null,
      "outputs": []
    },
    {
      "cell_type": "code",
      "metadata": {
        "id": "uPLfpIgpdz-t",
        "colab_type": "code",
        "colab": {}
      },
      "source": [
        "def findClass_nb(new_data):\n",
        "  new_nb = tfIdfVectorizer.transform([new_data])\n",
        "  new_nb.sort_indices()\n",
        "  new_pred = nb.predict(new_nb)\n",
        "  return new_pred[0]"
      ],
      "execution_count": null,
      "outputs": []
    },
    {
      "cell_type": "code",
      "metadata": {
        "id": "zD3ZxYaseBYG",
        "colab_type": "code",
        "colab": {}
      },
      "source": [
        "findClass_nb(full_df['full_text'][6])"
      ],
      "execution_count": null,
      "outputs": []
    },
    {
      "cell_type": "markdown",
      "metadata": {
        "id": "dV-SwIjQxFGm",
        "colab_type": "text"
      },
      "source": [
        "### Confusion Matrix"
      ]
    },
    {
      "cell_type": "code",
      "metadata": {
        "id": "LauuXHB5vZiq",
        "colab_type": "code",
        "colab": {}
      },
      "source": [
        "cm = metrics.confusion_matrix(y_test, y_pred_nb)\n",
        "print(cm)\n"
      ],
      "execution_count": null,
      "outputs": []
    },
    {
      "cell_type": "code",
      "metadata": {
        "id": "shM13YRTxTug",
        "colab_type": "code",
        "colab": {}
      },
      "source": [
        "\n",
        "import seaborn as sns\n",
        "labels =  np.array([cm[0],cm[1]])\n",
        "sns.heatmap(cm, annot=labels, fmt = '',cmap=\"YlGn_r\")\n",
        "plt.show()"
      ],
      "execution_count": null,
      "outputs": []
    },
    {
      "cell_type": "code",
      "metadata": {
        "id": "TuUZW9Z4xzVQ",
        "colab_type": "code",
        "colab": {}
      },
      "source": [
        "\n",
        "print(metrics.classification_report(y_test, y_pred_nb))"
      ],
      "execution_count": null,
      "outputs": []
    },
    {
      "cell_type": "code",
      "metadata": {
        "id": "PBgDMN6WzWXe",
        "colab_type": "code",
        "colab": {}
      },
      "source": [
        "y_pred_prob = nb.predict_proba(X_test)[:, 1]\n",
        "metrics.roc_auc_score(y_test, y_pred_prob)"
      ],
      "execution_count": null,
      "outputs": []
    },
    {
      "cell_type": "markdown",
      "metadata": {
        "id": "PYIXISGEz9Td",
        "colab_type": "text"
      },
      "source": [
        "# Logistic Regression"
      ]
    },
    {
      "cell_type": "code",
      "metadata": {
        "id": "xkZ5VV2Qzryx",
        "colab_type": "code",
        "colab": {}
      },
      "source": [
        "from sklearn.linear_model import LogisticRegression\n",
        "classifier = LogisticRegression()\n",
        "classifier"
      ],
      "execution_count": null,
      "outputs": []
    },
    {
      "cell_type": "code",
      "metadata": {
        "id": "0NHg4USn9JxT",
        "colab_type": "code",
        "colab": {}
      },
      "source": [
        "classifier.fit(X_train, y_train)"
      ],
      "execution_count": null,
      "outputs": []
    },
    {
      "cell_type": "code",
      "metadata": {
        "id": "yeDI4kIZ9UL1",
        "colab_type": "code",
        "colab": {}
      },
      "source": [
        "print(f\"Training Data Score: {classifier.score(X_train, y_train)}\")\n",
        "print(f\"Testing Data Score: {classifier.score(X_test, y_test)}\")"
      ],
      "execution_count": null,
      "outputs": []
    },
    {
      "cell_type": "code",
      "metadata": {
        "id": "umAPUlb79ZEF",
        "colab_type": "code",
        "colab": {}
      },
      "source": [
        "y_pred_lr = classifier.predict(X_test)\n",
        "print (\"Accuracy is: \", metrics.accuracy_score(y_test, y_pred_lr))\n",
        "print(\"Mean Squared Error is:\", np.sqrt(mean_squared_error(y_test, y_pred_lr)))\n"
      ],
      "execution_count": null,
      "outputs": []
    },
    {
      "cell_type": "code",
      "metadata": {
        "id": "lrlH5hOP-LQt",
        "colab_type": "code",
        "colab": {}
      },
      "source": [
        "lr_cm = metrics.confusion_matrix(y_test, y_pred_lr)\n",
        "print (lr_cm)"
      ],
      "execution_count": null,
      "outputs": []
    },
    {
      "cell_type": "code",
      "metadata": {
        "id": "rr-sJHV9-Y5y",
        "colab_type": "code",
        "colab": {}
      },
      "source": [
        "labels = np.array([lr_cm[0],lr_cm[1]])\n",
        "sns.heatmap(lr_cm, annot=labels, fmt = '',cmap=\"Blues_r\")\n",
        "plt.show()"
      ],
      "execution_count": null,
      "outputs": []
    },
    {
      "cell_type": "code",
      "metadata": {
        "id": "el9qZLyB-ZDk",
        "colab_type": "code",
        "colab": {}
      },
      "source": [
        "print(metrics.classification_report(y_test, y_pred_lr))"
      ],
      "execution_count": null,
      "outputs": []
    },
    {
      "cell_type": "code",
      "metadata": {
        "id": "6t9pSMRE-xkq",
        "colab_type": "code",
        "colab": {}
      },
      "source": [
        "y_pred_prob_lr = classifier.predict_proba(X_test)[:, 1]\n",
        "metrics.roc_auc_score(y_test, y_pred_prob_lr)"
      ],
      "execution_count": null,
      "outputs": []
    },
    {
      "cell_type": "markdown",
      "metadata": {
        "id": "LLXl5CPB_OGx",
        "colab_type": "text"
      },
      "source": [
        "# Random Forest"
      ]
    },
    {
      "cell_type": "code",
      "metadata": {
        "id": "RNJFB8w_-_Ht",
        "colab_type": "code",
        "colab": {}
      },
      "source": [
        "from sklearn.ensemble import RandomForestClassifier\n",
        "rf = RandomForestClassifier(n_estimators=200)\n",
        "rf = rf.fit(X_train, y_train)\n",
        "rf.score(X_test, y_test)"
      ],
      "execution_count": null,
      "outputs": []
    },
    {
      "cell_type": "code",
      "metadata": {
        "id": "QP0FHiu5_wCK",
        "colab_type": "code",
        "colab": {}
      },
      "source": [
        "y_pred_rf = rf.predict(X_test)\n",
        "print (\"Accuracy is: \", metrics.accuracy_score(y_test, y_pred_rf))\n",
        "print(\"Mean Squared Error is:\", np.sqrt(mean_squared_error(y_test, y_pred_rf)))"
      ],
      "execution_count": null,
      "outputs": []
    },
    {
      "cell_type": "code",
      "metadata": {
        "id": "b3SDidhtBHbe",
        "colab_type": "code",
        "colab": {}
      },
      "source": [
        "rf_cm = metrics.confusion_matrix(y_test, y_pred_rf)\n",
        "print (rf_cm)"
      ],
      "execution_count": null,
      "outputs": []
    },
    {
      "cell_type": "code",
      "metadata": {
        "id": "pNd0e9aVBQL5",
        "colab_type": "code",
        "colab": {}
      },
      "source": [
        "labels = np.array([rf_cm[0],rf_cm[1]])\n",
        "sns.heatmap(rf_cm, annot=labels, fmt = '',cmap=\"Reds\")\n",
        "plt.show()"
      ],
      "execution_count": null,
      "outputs": []
    },
    {
      "cell_type": "code",
      "metadata": {
        "id": "uJkOnfwuBWsu",
        "colab_type": "code",
        "colab": {}
      },
      "source": [
        "print(metrics.classification_report(y_test, y_pred_rf))"
      ],
      "execution_count": null,
      "outputs": []
    },
    {
      "cell_type": "code",
      "metadata": {
        "id": "T5JhLP39Bx3a",
        "colab_type": "code",
        "colab": {}
      },
      "source": [
        "y_pred_prob_rf = classifier.predict_proba(X_test)[:, 1]\n",
        "metrics.roc_auc_score(y_test, y_pred_prob_rf)"
      ],
      "execution_count": null,
      "outputs": []
    },
    {
      "cell_type": "markdown",
      "metadata": {
        "id": "f5-2BAv4wrbc",
        "colab_type": "text"
      },
      "source": [
        "# testing"
      ]
    },
    {
      "cell_type": "code",
      "metadata": {
        "id": "bxgE55WYwttY",
        "colab_type": "code",
        "colab": {}
      },
      "source": [
        "def findClass(new_data):\n",
        "  wl = WordNetLemmatizer()\n",
        "  stopword= nltk.corpus.stopwords.words('english')\n",
        "  words = re.split('\\W+', new_data)\n",
        "  print(f\"Tokenization:{words}\")\n",
        "  text = []\n",
        "  for word in words:\n",
        "    if word not in stopword:\n",
        "      text.append(wl.lemmatize(word))\n",
        "      new_text = [\" \".join(text)]\n",
        "  new_tfidf = tfIdfVectorizer.transform(new_text)\n",
        "  new_tfidf.sort_indices()\n",
        "  print(f\"StopWords:{words}\")\n",
        "  print(f\"Lemmatize :{text}\")\n",
        "  print(f\"Appened Text:{new_text}\")\n",
        "  print(f\"TFIDF:{new_tfidf}\")\n",
        "  new_pred = model.predict_classes(new_tfidf)\n",
        "  print(f\"Prediction:{new_pred}\")\n",
        "  if new_pred == 0:\n",
        "    print(\"This is Fake!\")\n",
        "  else:\n",
        "    print(\"This is True!\")\n",
        "\n",
        "  return new_pred"
      ],
      "execution_count": 121,
      "outputs": []
    },
    {
      "cell_type": "code",
      "metadata": {
        "id": "eHtS0LJTexwZ",
        "colab_type": "code",
        "colab": {
          "base_uri": "https://localhost:8080/",
          "height": 383
        },
        "outputId": "aab45d2f-1576-415f-ed8e-56d4116235ea"
      },
      "source": [
        "new_val5 =\"As the pandemic continues to sweep the US, Canadians are getting more and more concerned about what American visitors could be bringing with them over the border.\"\n",
        "findClass(new_val5)"
      ],
      "execution_count": 118,
      "outputs": [
        {
          "output_type": "stream",
          "text": [
            "Tokenization:['As', 'the', 'pandemic', 'continues', 'to', 'sweep', 'the', 'US', 'Canadians', 'are', 'getting', 'more', 'and', 'more', 'concerned', 'about', 'what', 'American', 'visitors', 'could', 'be', 'bringing', 'with', 'them', 'over', 'the', 'border', '']\n",
            "StopWords:['As', 'the', 'pandemic', 'continues', 'to', 'sweep', 'the', 'US', 'Canadians', 'are', 'getting', 'more', 'and', 'more', 'concerned', 'about', 'what', 'American', 'visitors', 'could', 'be', 'bringing', 'with', 'them', 'over', 'the', 'border', '']\n",
            "Lemmatize :['As', 'pandemic', 'continues', 'sweep', 'US', 'Canadians', 'getting', 'concerned', 'American', 'visitor', 'could', 'bringing', 'border', '']\n",
            "Appened Text:['As pandemic continues sweep US Canadians getting concerned American visitor could bringing border ']\n",
            "TFIDF:  (0, 1466)\t0.18221239039651216\n",
            "  (0, 1964)\t0.3061433942413267\n",
            "  (0, 3388)\t0.20812565573234706\n",
            "  (0, 3636)\t0.32538041874204\n",
            "  (0, 5279)\t0.2777313873022\n",
            "  (0, 5526)\t0.2732344084374311\n",
            "  (0, 5732)\t0.20493630768889096\n",
            "  (0, 10321)\t0.25689409273247954\n",
            "  (0, 17392)\t0.4233981572510196\n",
            "  (0, 23456)\t0.3295895813537547\n",
            "  (0, 25383)\t0.25995450967279066\n",
            "  (0, 25761)\t0.3295895813537547\n",
            "Prediction:[0]\n",
            "This is Fake!\n"
          ],
          "name": "stdout"
        },
        {
          "output_type": "execute_result",
          "data": {
            "text/plain": [
              "array([0])"
            ]
          },
          "metadata": {
            "tags": []
          },
          "execution_count": 118
        }
      ]
    },
    {
      "cell_type": "code",
      "metadata": {
        "id": "vrkRKQgpdqej",
        "colab_type": "code",
        "colab": {
          "base_uri": "https://localhost:8080/",
          "height": 272
        },
        "outputId": "b1c61158-4d80-4be7-c9c1-4f9fc9314a63"
      },
      "source": [
        "new_val4 = \"U.S. lawmakers question businessman at 2016 Trump Tower meeting\"\n",
        "findClass(new_val4)"
      ],
      "execution_count": 116,
      "outputs": [
        {
          "output_type": "stream",
          "text": [
            "Tokenization:['U', 'S', 'lawmakers', 'question', 'businessman', 'at', '2016', 'Trump', 'Tower', 'meeting']\n",
            "StopWords:['U', 'S', 'lawmakers', 'question', 'businessman', 'at', '2016', 'Trump', 'Tower', 'meeting']\n",
            "Lemmatize :['U', 'S', 'lawmaker', 'question', 'businessman', '2016', 'Trump', 'Tower', 'meeting']\n",
            "Appened Text:['U S lawmaker question businessman 2016 Trump Tower meeting']\n",
            "TFIDF:  (0, 273)\t0.34909661546226983\n",
            "  (0, 3888)\t0.5235567541036659\n",
            "  (0, 13897)\t0.3443835955990755\n",
            "  (0, 15167)\t0.3552991746614797\n",
            "  (0, 19149)\t0.36027196512881915\n",
            "  (0, 24319)\t0.4595314521329872\n",
            "  (0, 24592)\t0.13497136553770317\n",
            "Prediction:[1]\n",
            "This is True!\n"
          ],
          "name": "stdout"
        },
        {
          "output_type": "execute_result",
          "data": {
            "text/plain": [
              "array([1])"
            ]
          },
          "metadata": {
            "tags": []
          },
          "execution_count": 116
        }
      ]
    },
    {
      "cell_type": "code",
      "metadata": {
        "id": "Rd2i_zDv8_4B",
        "colab_type": "code",
        "colab": {
          "base_uri": "https://localhost:8080/",
          "height": 290
        },
        "outputId": "f5920341-7785-4999-e1fd-bb56cce2cac1"
      },
      "source": [
        "new_val1 = \"Drunk Bragging Trump Staffer Started Russian Collusion Investigation\"\n",
        "findClass(new_val1)"
      ],
      "execution_count": 112,
      "outputs": [
        {
          "output_type": "stream",
          "text": [
            "Tokenization:['Drunk', 'Bragging', 'Trump', 'Staffer', 'Started', 'Russian', 'Collusion', 'Investigation']\n",
            "StopWords:['Drunk', 'Bragging', 'Trump', 'Staffer', 'Started', 'Russian', 'Collusion', 'Investigation']\n",
            "Lemmatize :['Drunk', 'Bragging', 'Trump', 'Staffer', 'Started', 'Russian', 'Collusion', 'Investigation']\n",
            "Appened Text:['Drunk Bragging Trump Staffer Started Russian Collusion Investigation']\n",
            "TFIDF:  (0, 3497)\t0.4411048769484875\n",
            "  (0, 5064)\t0.3879099601555091\n",
            "  (0, 7721)\t0.41661758176347563\n",
            "  (0, 12749)\t0.3034925313171012\n",
            "  (0, 20768)\t0.2600439336605619\n",
            "  (0, 22705)\t0.37963242628713895\n",
            "  (0, 22778)\t0.4054285758466998\n",
            "  (0, 24592)\t0.11471036443713818\n",
            "Prediction:[0]\n",
            "This is Fake!\n"
          ],
          "name": "stdout"
        },
        {
          "output_type": "execute_result",
          "data": {
            "text/plain": [
              "array([0])"
            ]
          },
          "metadata": {
            "tags": []
          },
          "execution_count": 112
        }
      ]
    },
    {
      "cell_type": "code",
      "metadata": {
        "id": "OaygI-gM8_7M",
        "colab_type": "code",
        "colab": {
          "base_uri": "https://localhost:8080/",
          "height": 308
        },
        "outputId": "7637b9cd-968f-4fca-aab4-8f95871d1aec"
      },
      "source": [
        "new_val2= \" Donald Trump Sends Out Embarrassing New Year’s Eve Message\"\n",
        "findClass(new_val2)"
      ],
      "execution_count": 113,
      "outputs": [
        {
          "output_type": "stream",
          "text": [
            "Tokenization:['', 'Donald', 'Trump', 'Sends', 'Out', 'Embarrassing', 'New', 'Year', 's', 'Eve', 'Message']\n",
            "StopWords:['', 'Donald', 'Trump', 'Sends', 'Out', 'Embarrassing', 'New', 'Year', 's', 'Eve', 'Message']\n",
            "Lemmatize :['', 'Donald', 'Trump', 'Sends', 'Out', 'Embarrassing', 'New', 'Year', 'Eve', 'Message']\n",
            "Appened Text:[' Donald Trump Sends Out Embarrassing New Year Eve Message']\n",
            "TFIDF:  (0, 7503)\t0.23699501834340966\n",
            "  (0, 8172)\t0.39527723981562896\n",
            "  (0, 8678)\t0.43170290752592433\n",
            "  (0, 15294)\t0.3346116892978488\n",
            "  (0, 16336)\t0.15719932934286782\n",
            "  (0, 17125)\t0.48846706137148077\n",
            "  (0, 21423)\t0.37832809701220815\n",
            "  (0, 24592)\t0.11820210546531815\n",
            "  (0, 26656)\t0.2623762490527631\n",
            "Prediction:[0]\n",
            "This is Fake!\n"
          ],
          "name": "stdout"
        },
        {
          "output_type": "execute_result",
          "data": {
            "text/plain": [
              "array([0])"
            ]
          },
          "metadata": {
            "tags": []
          },
          "execution_count": 113
        }
      ]
    },
    {
      "cell_type": "code",
      "metadata": {
        "id": "OurAW2DL8_-u",
        "colab_type": "code",
        "colab": {
          "base_uri": "https://localhost:8080/",
          "height": 235
        },
        "outputId": "92dced23-96ab-4c54-b3bd-ea11f257a345"
      },
      "source": [
        "new_val3= \"Trump says Russia probe will be fair\"\n",
        "findClass(new_val3)"
      ],
      "execution_count": 114,
      "outputs": [
        {
          "output_type": "stream",
          "text": [
            "Tokenization:['Trump', 'says', 'Russia', 'probe', 'will', 'be', 'fair']\n",
            "StopWords:['Trump', 'says', 'Russia', 'probe', 'will', 'be', 'fair']\n",
            "Lemmatize :['Trump', 'say', 'Russia', 'probe', 'fair']\n",
            "Appened Text:['Trump say Russia probe fair']\n",
            "TFIDF:  (0, 9026)\t0.670685600420959\n",
            "  (0, 18707)\t0.5040736110047627\n",
            "  (0, 20765)\t0.3948860606202642\n",
            "  (0, 21043)\t0.31752230451991853\n",
            "  (0, 24592)\t0.19833104985545294\n",
            "Prediction:[1]\n",
            "This is True!\n"
          ],
          "name": "stdout"
        },
        {
          "output_type": "execute_result",
          "data": {
            "text/plain": [
              "array([1])"
            ]
          },
          "metadata": {
            "tags": []
          },
          "execution_count": 114
        }
      ]
    },
    {
      "cell_type": "code",
      "metadata": {
        "id": "-ajDxgw69ooV",
        "colab_type": "code",
        "colab": {}
      },
      "source": [
        "full_df.head()"
      ],
      "execution_count": null,
      "outputs": []
    },
    {
      "cell_type": "code",
      "metadata": {
        "id": "RE4u3vxX9oxA",
        "colab_type": "code",
        "colab": {
          "base_uri": "https://localhost:8080/",
          "height": 35
        },
        "outputId": "7b260638-1b30-423b-8077-1931176b7479"
      },
      "source": [
        "full_df[\"full_text\"][0]"
      ],
      "execution_count": 86,
      "outputs": [
        {
          "output_type": "execute_result",
          "data": {
            "application/vnd.google.colaboratory.intrinsic+json": {
              "type": "string"
            },
            "text/plain": [
              "' Donald Trump Sends Out Embarrassing New Year’s Eve Message; This is Disturbing'"
            ]
          },
          "metadata": {
            "tags": []
          },
          "execution_count": 86
        }
      ]
    },
    {
      "cell_type": "code",
      "metadata": {
        "id": "pPngIgHP9unc",
        "colab_type": "code",
        "colab": {
          "base_uri": "https://localhost:8080/",
          "height": 326
        },
        "outputId": "9056770a-7973-43fd-ea7f-570889a4da7c"
      },
      "source": [
        "findClass(full_df[\"full_text\"][0])"
      ],
      "execution_count": 117,
      "outputs": [
        {
          "output_type": "stream",
          "text": [
            "Tokenization:['', 'Donald', 'Trump', 'Sends', 'Out', 'Embarrassing', 'New', 'Year', 's', 'Eve', 'Message', 'This', 'is', 'Disturbing']\n",
            "StopWords:['', 'Donald', 'Trump', 'Sends', 'Out', 'Embarrassing', 'New', 'Year', 's', 'Eve', 'Message', 'This', 'is', 'Disturbing']\n",
            "Lemmatize :['', 'Donald', 'Trump', 'Sends', 'Out', 'Embarrassing', 'New', 'Year', 'Eve', 'Message', 'This', 'Disturbing']\n",
            "Appened Text:[' Donald Trump Sends Out Embarrassing New Year Eve Message This Disturbing']\n",
            "TFIDF:  (0, 7370)\t0.37621999805244905\n",
            "  (0, 7503)\t0.21958308031154006\n",
            "  (0, 8172)\t0.3662363643863181\n",
            "  (0, 8678)\t0.3999858515027155\n",
            "  (0, 15294)\t0.31002788985970603\n",
            "  (0, 16336)\t0.14564995163736977\n",
            "  (0, 17125)\t0.45257956355544837\n",
            "  (0, 21423)\t0.35053246895665796\n",
            "  (0, 24592)\t0.10951783965253903\n",
            "  (0, 26656)\t0.24309956120727727\n",
            "Prediction:[0]\n",
            "This is Fake!\n"
          ],
          "name": "stdout"
        },
        {
          "output_type": "execute_result",
          "data": {
            "text/plain": [
              "array([0])"
            ]
          },
          "metadata": {
            "tags": []
          },
          "execution_count": 117
        }
      ]
    },
    {
      "cell_type": "code",
      "metadata": {
        "id": "FkfrDbThfRt5",
        "colab_type": "code",
        "colab": {
          "base_uri": "https://localhost:8080/",
          "height": 181
        },
        "outputId": "be755404-7730-4517-e97c-8232bdbb0b81"
      },
      "source": [
        "new_val10= \"Rock is solid\"\n",
        "findClass(new_val10)"
      ],
      "execution_count": 120,
      "outputs": [
        {
          "output_type": "stream",
          "text": [
            "Tokenization:['Rock', 'is', 'solid']\n",
            "StopWords:['Rock', 'is', 'solid']\n",
            "Lemmatize :['Rock', 'solid']\n",
            "Appened Text:['Rock solid']\n",
            "TFIDF:  (0, 20526)\t0.5874667976442814\n",
            "  (0, 22319)\t0.8092482694856832\n",
            "Prediction:[1]\n",
            "This is True!\n"
          ],
          "name": "stdout"
        },
        {
          "output_type": "execute_result",
          "data": {
            "text/plain": [
              "array([1])"
            ]
          },
          "metadata": {
            "tags": []
          },
          "execution_count": 120
        }
      ]
    },
    {
      "cell_type": "code",
      "metadata": {
        "id": "6ZinBlvAgXdW",
        "colab_type": "code",
        "colab": {
          "base_uri": "https://localhost:8080/",
          "height": 235
        },
        "outputId": "89cdb7ce-d4b7-4948-99cf-9beedba053ae"
      },
      "source": [
        "new_val11 = \"Macy’s Is Said to Receive Takeover Approach by\"\n",
        "findClass(new_val11)"
      ],
      "execution_count": 123,
      "outputs": [
        {
          "output_type": "stream",
          "text": [
            "Tokenization:['Macy', 's', 'Is', 'Said', 'to', 'Receive', 'Takeover', 'Approach', 'by']\n",
            "StopWords:['Macy', 's', 'Is', 'Said', 'to', 'Receive', 'Takeover', 'Approach', 'by']\n",
            "Lemmatize :['Macy', 'Is', 'Said', 'Receive', 'Takeover', 'Approach']\n",
            "Appened Text:['Macy Is Said Receive Takeover Approach']\n",
            "TFIDF:  (0, 1796)\t0.4521343358351762\n",
            "  (0, 14575)\t0.5266666185292732\n",
            "  (0, 19521)\t0.44611678653398396\n",
            "  (0, 20866)\t0.33431545102223403\n",
            "  (0, 23606)\t0.45542266881021304\n",
            "Prediction:[1]\n",
            "This is True!\n"
          ],
          "name": "stdout"
        },
        {
          "output_type": "execute_result",
          "data": {
            "text/plain": [
              "array([1])"
            ]
          },
          "metadata": {
            "tags": []
          },
          "execution_count": 123
        }
      ]
    }
  ]
}